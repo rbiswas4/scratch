{
 "metadata": {
  "name": "",
  "signature": "sha256:1ad0e025d0b25f0cb908dc2bbda5f398a3ba45f1ac89dd3572ec750a36ed7670"
 },
 "nbformat": 3,
 "nbformat_minor": 0,
 "worksheets": [
  {
   "cells": [
    {
     "cell_type": "code",
     "collapsed": false,
     "input": [
      "%matplotlib inline\n",
      "import matplotlib.pyplot as plt"
     ],
     "language": "python",
     "metadata": {},
     "outputs": [],
     "prompt_number": 1
    },
    {
     "cell_type": "code",
     "collapsed": false,
     "input": [
      "import sncosmo"
     ],
     "language": "python",
     "metadata": {},
     "outputs": [],
     "prompt_number": 2
    },
    {
     "cell_type": "code",
     "collapsed": false,
     "input": [
      "lc = sncosmo.load_example_data()"
     ],
     "language": "python",
     "metadata": {},
     "outputs": [],
     "prompt_number": 3
    },
    {
     "cell_type": "code",
     "collapsed": false,
     "input": [
      "lc"
     ],
     "language": "python",
     "metadata": {},
     "outputs": [
      {
       "html": [
        "<table id=\"table4367216784\"><thead><tr><th>time</th><th>band</th><th>flux</th><th>fluxerr</th><th>zp</th><th>zpsys</th></tr></thead><tr><td>55070.0</td><td>sdssg</td><td>0.36351153597</td><td>0.672843847541</td><td>25.0</td><td>ab</td></tr><tr><td>55072.0512821</td><td>sdssr</td><td>-0.200801295864</td><td>0.672843847541</td><td>25.0</td><td>ab</td></tr><tr><td>55074.1025641</td><td>sdssi</td><td>0.307494232981</td><td>0.672843847541</td><td>25.0</td><td>ab</td></tr><tr><td>55076.1538462</td><td>sdssz</td><td>1.08776103656</td><td>0.672843847541</td><td>25.0</td><td>ab</td></tr><tr><td>55078.2051282</td><td>sdssg</td><td>-0.43667895645</td><td>0.672843847541</td><td>25.0</td><td>ab</td></tr><tr><td>55080.2564103</td><td>sdssr</td><td>1.09780966779</td><td>0.672843847541</td><td>25.0</td><td>ab</td></tr><tr><td>55082.3076923</td><td>sdssi</td><td>3.7562685627</td><td>0.672843847541</td><td>25.0</td><td>ab</td></tr><tr><td>55084.3589744</td><td>sdssz</td><td>5.34858894966</td><td>0.672843847541</td><td>25.0</td><td>ab</td></tr><tr><td>55086.4102564</td><td>sdssg</td><td>2.82614187269</td><td>0.672843847541</td><td>25.0</td><td>ab</td></tr><tr><td>55088.4615385</td><td>sdssr</td><td>7.56547045054</td><td>0.672843847541</td><td>25.0</td><td>ab</td></tr><tr><td>55090.5128205</td><td>sdssi</td><td>7.43316961013</td><td>0.672843847541</td><td>25.0</td><td>ab</td></tr><tr><td>...</td><td>...</td><td>...</td><td>...</td><td>...</td><td>...</td></tr><tr><td>55129.4871795</td><td>sdssr</td><td>2.6597485586</td><td>0.672843847541</td><td>25.0</td><td>ab</td></tr><tr><td>55131.5384615</td><td>sdssi</td><td>3.99520404021</td><td>0.672843847541</td><td>25.0</td><td>ab</td></tr><tr><td>55133.5897436</td><td>sdssz</td><td>5.73989458094</td><td>0.672843847541</td><td>25.0</td><td>ab</td></tr><tr><td>55135.6410256</td><td>sdssg</td><td>0.330702283107</td><td>0.672843847541</td><td>25.0</td><td>ab</td></tr><tr><td>55137.6923077</td><td>sdssr</td><td>0.565286726579</td><td>0.672843847541</td><td>25.0</td><td>ab</td></tr><tr><td>55139.7435897</td><td>sdssi</td><td>3.04318346795</td><td>0.672843847541</td><td>25.0</td><td>ab</td></tr><tr><td>55141.7948718</td><td>sdssz</td><td>5.62692686384</td><td>0.672843847541</td><td>25.0</td><td>ab</td></tr><tr><td>55143.8461538</td><td>sdssg</td><td>-0.722654789013</td><td>0.672843847541</td><td>25.0</td><td>ab</td></tr><tr><td>55145.8974359</td><td>sdssr</td><td>1.12091764262</td><td>0.672843847541</td><td>25.0</td><td>ab</td></tr><tr><td>55147.9487179</td><td>sdssi</td><td>2.1246695264</td><td>0.672843847541</td><td>25.0</td><td>ab</td></tr><tr><td>55150.0</td><td>sdssz</td><td>5.3482175645</td><td>0.672843847541</td><td>25.0</td><td>ab</td></tr></table>"
       ],
       "metadata": {},
       "output_type": "pyout",
       "prompt_number": 4,
       "text": [
        "<Table rows=40 names=('time','band','flux','fluxerr','zp','zpsys')>\n",
        "array([(55070.0, 'sdssg', 0.36351153597, 0.672843847541, 25.0, 'ab'),\n",
        "       (55072.0512821, 'sdssr', -0.200801295864, 0.672843847541, 25.0, 'ab'),\n",
        "       (55074.1025641, 'sdssi', 0.307494232981, 0.672843847541, 25.0, 'ab'),\n",
        "       (55076.1538462, 'sdssz', 1.08776103656, 0.672843847541, 25.0, 'ab'),\n",
        "       (55078.2051282, 'sdssg', -0.43667895645, 0.672843847541, 25.0, 'ab'),\n",
        "       (55080.2564103, 'sdssr', 1.09780966779, 0.672843847541, 25.0, 'ab'),\n",
        "       (55082.3076923, 'sdssi', 3.7562685627, 0.672843847541, 25.0, 'ab'),\n",
        "       (55084.3589744, 'sdssz', 5.34858894966, 0.672843847541, 25.0, 'ab'),\n",
        "       (55086.4102564, 'sdssg', 2.82614187269, 0.672843847541, 25.0, 'ab'),\n",
        "       (55088.4615385, 'sdssr', 7.56547045054, 0.672843847541, 25.0, 'ab'),\n",
        "       (55090.5128205, 'sdssi', 7.43316961013, 0.672843847541, 25.0, 'ab'),\n",
        "       (55092.5641026, 'sdssz', 10.7032994531, 0.672843847541, 25.0, 'ab'),\n",
        "       (55094.6153846, 'sdssg', 1.57823662148, 0.672843847541, 25.0, 'ab'),\n",
        "       (55096.6666667, 'sdssr', 9.4201672834, 0.672843847541, 25.0, 'ab'),\n",
        "       (55098.7179487, 'sdssi', 12.1116206376, 0.672843847541, 25.0, 'ab'),\n",
        "       (55100.7692308, 'sdssz', 13.6445335233, 0.672843847541, 25.0, 'ab'),\n",
        "       (55102.8205128, 'sdssg', 2.20875359735, 0.672843847541, 25.0, 'ab'),\n",
        "       (55104.8717949, 'sdssr', 9.63442013167, 0.672843847541, 25.0, 'ab'),\n",
        "       (55106.9230769, 'sdssi', 11.3724767104, 0.672843847541, 25.0, 'ab'),\n",
        "       (55108.974359, 'sdssz', 12.5739036768, 0.672843847541, 25.0, 'ab'),\n",
        "       (55111.025641, 'sdssg', 0.608391162103, 0.672843847541, 25.0, 'ab'),\n",
        "       (55113.0769231, 'sdssr', 5.91642855037, 0.672843847541, 25.0, 'ab'),\n",
        "       (55115.1282051, 'sdssi', 7.99428156096, 0.672843847541, 25.0, 'ab'),\n",
        "       (55117.1794872, 'sdssz', 7.90862755929, 0.672843847541, 25.0, 'ab'),\n",
        "       (55119.2307692, 'sdssg', 0.679196211518, 0.672843847541, 25.0, 'ab'),\n",
        "       (55121.2820513, 'sdssr', 4.03447329476, 0.672843847541, 25.0, 'ab'),\n",
        "       (55123.3333333, 'sdssi', 7.03584281564, 0.672843847541, 25.0, 'ab'),\n",
        "       (55125.3846154, 'sdssz', 6.84086374285, 0.672843847541, 25.0, 'ab'),\n",
        "       (55127.4358974, 'sdssg', 0.325442801496, 0.672843847541, 25.0, 'ab'),\n",
        "       (55129.4871795, 'sdssr', 2.6597485586, 0.672843847541, 25.0, 'ab'),\n",
        "       (55131.5384615, 'sdssi', 3.99520404021, 0.672843847541, 25.0, 'ab'),\n",
        "       (55133.5897436, 'sdssz', 5.73989458094, 0.672843847541, 25.0, 'ab'),\n",
        "       (55135.6410256, 'sdssg', 0.330702283107, 0.672843847541, 25.0, 'ab'),\n",
        "       (55137.6923077, 'sdssr', 0.565286726579, 0.672843847541, 25.0, 'ab'),\n",
        "       (55139.7435897, 'sdssi', 3.04318346795, 0.672843847541, 25.0, 'ab'),\n",
        "       (55141.7948718, 'sdssz', 5.62692686384, 0.672843847541, 25.0, 'ab'),\n",
        "       (55143.8461538, 'sdssg', -0.722654789013, 0.672843847541, 25.0, 'ab'),\n",
        "       (55145.8974359, 'sdssr', 1.12091764262, 0.672843847541, 25.0, 'ab'),\n",
        "       (55147.9487179, 'sdssi', 2.1246695264, 0.672843847541, 25.0, 'ab'),\n",
        "       (55150.0, 'sdssz', 5.3482175645, 0.672843847541, 25.0, 'ab')], \n",
        "      dtype=[('time', '<f8'), ('band', 'S5'), ('flux', '<f8'), ('fluxerr', '<f8'), ('zp', '<f8'), ('zpsys', 'S2')])"
       ]
      }
     ],
     "prompt_number": 4
    },
    {
     "cell_type": "heading",
     "level": 3,
     "metadata": {},
     "source": [
      "Create a different data set"
     ]
    },
    {
     "cell_type": "code",
     "collapsed": false,
     "input": [
      "lc2 = lc.copy()"
     ],
     "language": "python",
     "metadata": {},
     "outputs": [],
     "prompt_number": 5
    },
    {
     "cell_type": "code",
     "collapsed": false,
     "input": [
      "lc2['flux'] = lc['flux'] + 0.4\n",
      "# lc2['time'] = lc['time'] +10."
     ],
     "language": "python",
     "metadata": {},
     "outputs": [],
     "prompt_number": 6
    },
    {
     "cell_type": "code",
     "collapsed": false,
     "input": [
      "lc2"
     ],
     "language": "python",
     "metadata": {},
     "outputs": [
      {
       "html": [
        "<table id=\"table4367216720\"><thead><tr><th>time</th><th>band</th><th>flux</th><th>fluxerr</th><th>zp</th><th>zpsys</th></tr></thead><tr><td>55070.0</td><td>sdssg</td><td>0.76351153597</td><td>0.672843847541</td><td>25.0</td><td>ab</td></tr><tr><td>55072.0512821</td><td>sdssr</td><td>0.199198704136</td><td>0.672843847541</td><td>25.0</td><td>ab</td></tr><tr><td>55074.1025641</td><td>sdssi</td><td>0.707494232981</td><td>0.672843847541</td><td>25.0</td><td>ab</td></tr><tr><td>55076.1538462</td><td>sdssz</td><td>1.48776103656</td><td>0.672843847541</td><td>25.0</td><td>ab</td></tr><tr><td>55078.2051282</td><td>sdssg</td><td>-0.03667895645</td><td>0.672843847541</td><td>25.0</td><td>ab</td></tr><tr><td>55080.2564103</td><td>sdssr</td><td>1.49780966779</td><td>0.672843847541</td><td>25.0</td><td>ab</td></tr><tr><td>55082.3076923</td><td>sdssi</td><td>4.1562685627</td><td>0.672843847541</td><td>25.0</td><td>ab</td></tr><tr><td>55084.3589744</td><td>sdssz</td><td>5.74858894966</td><td>0.672843847541</td><td>25.0</td><td>ab</td></tr><tr><td>55086.4102564</td><td>sdssg</td><td>3.22614187269</td><td>0.672843847541</td><td>25.0</td><td>ab</td></tr><tr><td>55088.4615385</td><td>sdssr</td><td>7.96547045054</td><td>0.672843847541</td><td>25.0</td><td>ab</td></tr><tr><td>55090.5128205</td><td>sdssi</td><td>7.83316961013</td><td>0.672843847541</td><td>25.0</td><td>ab</td></tr><tr><td>...</td><td>...</td><td>...</td><td>...</td><td>...</td><td>...</td></tr><tr><td>55129.4871795</td><td>sdssr</td><td>3.0597485586</td><td>0.672843847541</td><td>25.0</td><td>ab</td></tr><tr><td>55131.5384615</td><td>sdssi</td><td>4.39520404021</td><td>0.672843847541</td><td>25.0</td><td>ab</td></tr><tr><td>55133.5897436</td><td>sdssz</td><td>6.13989458094</td><td>0.672843847541</td><td>25.0</td><td>ab</td></tr><tr><td>55135.6410256</td><td>sdssg</td><td>0.730702283107</td><td>0.672843847541</td><td>25.0</td><td>ab</td></tr><tr><td>55137.6923077</td><td>sdssr</td><td>0.965286726579</td><td>0.672843847541</td><td>25.0</td><td>ab</td></tr><tr><td>55139.7435897</td><td>sdssi</td><td>3.44318346795</td><td>0.672843847541</td><td>25.0</td><td>ab</td></tr><tr><td>55141.7948718</td><td>sdssz</td><td>6.02692686384</td><td>0.672843847541</td><td>25.0</td><td>ab</td></tr><tr><td>55143.8461538</td><td>sdssg</td><td>-0.322654789013</td><td>0.672843847541</td><td>25.0</td><td>ab</td></tr><tr><td>55145.8974359</td><td>sdssr</td><td>1.52091764262</td><td>0.672843847541</td><td>25.0</td><td>ab</td></tr><tr><td>55147.9487179</td><td>sdssi</td><td>2.5246695264</td><td>0.672843847541</td><td>25.0</td><td>ab</td></tr><tr><td>55150.0</td><td>sdssz</td><td>5.7482175645</td><td>0.672843847541</td><td>25.0</td><td>ab</td></tr></table>"
       ],
       "metadata": {},
       "output_type": "pyout",
       "prompt_number": 7,
       "text": [
        "<Table rows=40 names=('time','band','flux','fluxerr','zp','zpsys')>\n",
        "array([(55070.0, 'sdssg', 0.76351153597, 0.672843847541, 25.0, 'ab'),\n",
        "       (55072.0512821, 'sdssr', 0.19919870413600002, 0.672843847541, 25.0, 'ab'),\n",
        "       (55074.1025641, 'sdssi', 0.707494232981, 0.672843847541, 25.0, 'ab'),\n",
        "       (55076.1538462, 'sdssz', 1.4877610365599998, 0.672843847541, 25.0, 'ab'),\n",
        "       (55078.2051282, 'sdssg', -0.036678956449999967, 0.672843847541, 25.0, 'ab'),\n",
        "       (55080.2564103, 'sdssr', 1.49780966779, 0.672843847541, 25.0, 'ab'),\n",
        "       (55082.3076923, 'sdssi', 4.1562685627, 0.672843847541, 25.0, 'ab'),\n",
        "       (55084.3589744, 'sdssz', 5.74858894966, 0.672843847541, 25.0, 'ab'),\n",
        "       (55086.4102564, 'sdssg', 3.22614187269, 0.672843847541, 25.0, 'ab'),\n",
        "       (55088.4615385, 'sdssr', 7.965470450540001, 0.672843847541, 25.0, 'ab'),\n",
        "       (55090.5128205, 'sdssi', 7.833169610130001, 0.672843847541, 25.0, 'ab'),\n",
        "       (55092.5641026, 'sdssz', 11.1032994531, 0.672843847541, 25.0, 'ab'),\n",
        "       (55094.6153846, 'sdssg', 1.9782366214800002, 0.672843847541, 25.0, 'ab'),\n",
        "       (55096.6666667, 'sdssr', 9.8201672834, 0.672843847541, 25.0, 'ab'),\n",
        "       (55098.7179487, 'sdssi', 12.5116206376, 0.672843847541, 25.0, 'ab'),\n",
        "       (55100.7692308, 'sdssz', 14.0445335233, 0.672843847541, 25.0, 'ab'),\n",
        "       (55102.8205128, 'sdssg', 2.60875359735, 0.672843847541, 25.0, 'ab'),\n",
        "       (55104.8717949, 'sdssr', 10.03442013167, 0.672843847541, 25.0, 'ab'),\n",
        "       (55106.9230769, 'sdssi', 11.772476710400001, 0.672843847541, 25.0, 'ab'),\n",
        "       (55108.974359, 'sdssz', 12.973903676800001, 0.672843847541, 25.0, 'ab'),\n",
        "       (55111.025641, 'sdssg', 1.008391162103, 0.672843847541, 25.0, 'ab'),\n",
        "       (55113.0769231, 'sdssr', 6.31642855037, 0.672843847541, 25.0, 'ab'),\n",
        "       (55115.1282051, 'sdssi', 8.39428156096, 0.672843847541, 25.0, 'ab'),\n",
        "       (55117.1794872, 'sdssz', 8.30862755929, 0.672843847541, 25.0, 'ab'),\n",
        "       (55119.2307692, 'sdssg', 1.079196211518, 0.672843847541, 25.0, 'ab'),\n",
        "       (55121.2820513, 'sdssr', 4.43447329476, 0.672843847541, 25.0, 'ab'),\n",
        "       (55123.3333333, 'sdssi', 7.43584281564, 0.672843847541, 25.0, 'ab'),\n",
        "       (55125.3846154, 'sdssz', 7.24086374285, 0.672843847541, 25.0, 'ab'),\n",
        "       (55127.4358974, 'sdssg', 0.725442801496, 0.672843847541, 25.0, 'ab'),\n",
        "       (55129.4871795, 'sdssr', 3.0597485586, 0.672843847541, 25.0, 'ab'),\n",
        "       (55131.5384615, 'sdssi', 4.39520404021, 0.672843847541, 25.0, 'ab'),\n",
        "       (55133.5897436, 'sdssz', 6.13989458094, 0.672843847541, 25.0, 'ab'),\n",
        "       (55135.6410256, 'sdssg', 0.730702283107, 0.672843847541, 25.0, 'ab'),\n",
        "       (55137.6923077, 'sdssr', 0.965286726579, 0.672843847541, 25.0, 'ab'),\n",
        "       (55139.7435897, 'sdssi', 3.44318346795, 0.672843847541, 25.0, 'ab'),\n",
        "       (55141.7948718, 'sdssz', 6.02692686384, 0.672843847541, 25.0, 'ab'),\n",
        "       (55143.8461538, 'sdssg', -0.32265478901299993, 0.672843847541, 25.0, 'ab'),\n",
        "       (55145.8974359, 'sdssr', 1.5209176426200002, 0.672843847541, 25.0, 'ab'),\n",
        "       (55147.9487179, 'sdssi', 2.5246695264, 0.672843847541, 25.0, 'ab'),\n",
        "       (55150.0, 'sdssz', 5.7482175645, 0.672843847541, 25.0, 'ab')], \n",
        "      dtype=[('time', '<f8'), ('band', 'S5'), ('flux', '<f8'), ('fluxerr', '<f8'), ('zp', '<f8'), ('zpsys', 'S2')])"
       ]
      }
     ],
     "prompt_number": 7
    },
    {
     "cell_type": "code",
     "collapsed": false,
     "input": [
      "# Check that lc is different !\n",
      "lc"
     ],
     "language": "python",
     "metadata": {},
     "outputs": [
      {
       "html": [
        "<table id=\"table4367216784\"><thead><tr><th>time</th><th>band</th><th>flux</th><th>fluxerr</th><th>zp</th><th>zpsys</th></tr></thead><tr><td>55070.0</td><td>sdssg</td><td>0.36351153597</td><td>0.672843847541</td><td>25.0</td><td>ab</td></tr><tr><td>55072.0512821</td><td>sdssr</td><td>-0.200801295864</td><td>0.672843847541</td><td>25.0</td><td>ab</td></tr><tr><td>55074.1025641</td><td>sdssi</td><td>0.307494232981</td><td>0.672843847541</td><td>25.0</td><td>ab</td></tr><tr><td>55076.1538462</td><td>sdssz</td><td>1.08776103656</td><td>0.672843847541</td><td>25.0</td><td>ab</td></tr><tr><td>55078.2051282</td><td>sdssg</td><td>-0.43667895645</td><td>0.672843847541</td><td>25.0</td><td>ab</td></tr><tr><td>55080.2564103</td><td>sdssr</td><td>1.09780966779</td><td>0.672843847541</td><td>25.0</td><td>ab</td></tr><tr><td>55082.3076923</td><td>sdssi</td><td>3.7562685627</td><td>0.672843847541</td><td>25.0</td><td>ab</td></tr><tr><td>55084.3589744</td><td>sdssz</td><td>5.34858894966</td><td>0.672843847541</td><td>25.0</td><td>ab</td></tr><tr><td>55086.4102564</td><td>sdssg</td><td>2.82614187269</td><td>0.672843847541</td><td>25.0</td><td>ab</td></tr><tr><td>55088.4615385</td><td>sdssr</td><td>7.56547045054</td><td>0.672843847541</td><td>25.0</td><td>ab</td></tr><tr><td>55090.5128205</td><td>sdssi</td><td>7.43316961013</td><td>0.672843847541</td><td>25.0</td><td>ab</td></tr><tr><td>...</td><td>...</td><td>...</td><td>...</td><td>...</td><td>...</td></tr><tr><td>55129.4871795</td><td>sdssr</td><td>2.6597485586</td><td>0.672843847541</td><td>25.0</td><td>ab</td></tr><tr><td>55131.5384615</td><td>sdssi</td><td>3.99520404021</td><td>0.672843847541</td><td>25.0</td><td>ab</td></tr><tr><td>55133.5897436</td><td>sdssz</td><td>5.73989458094</td><td>0.672843847541</td><td>25.0</td><td>ab</td></tr><tr><td>55135.6410256</td><td>sdssg</td><td>0.330702283107</td><td>0.672843847541</td><td>25.0</td><td>ab</td></tr><tr><td>55137.6923077</td><td>sdssr</td><td>0.565286726579</td><td>0.672843847541</td><td>25.0</td><td>ab</td></tr><tr><td>55139.7435897</td><td>sdssi</td><td>3.04318346795</td><td>0.672843847541</td><td>25.0</td><td>ab</td></tr><tr><td>55141.7948718</td><td>sdssz</td><td>5.62692686384</td><td>0.672843847541</td><td>25.0</td><td>ab</td></tr><tr><td>55143.8461538</td><td>sdssg</td><td>-0.722654789013</td><td>0.672843847541</td><td>25.0</td><td>ab</td></tr><tr><td>55145.8974359</td><td>sdssr</td><td>1.12091764262</td><td>0.672843847541</td><td>25.0</td><td>ab</td></tr><tr><td>55147.9487179</td><td>sdssi</td><td>2.1246695264</td><td>0.672843847541</td><td>25.0</td><td>ab</td></tr><tr><td>55150.0</td><td>sdssz</td><td>5.3482175645</td><td>0.672843847541</td><td>25.0</td><td>ab</td></tr></table>"
       ],
       "metadata": {},
       "output_type": "pyout",
       "prompt_number": 8,
       "text": [
        "<Table rows=40 names=('time','band','flux','fluxerr','zp','zpsys')>\n",
        "array([(55070.0, 'sdssg', 0.36351153597, 0.672843847541, 25.0, 'ab'),\n",
        "       (55072.0512821, 'sdssr', -0.200801295864, 0.672843847541, 25.0, 'ab'),\n",
        "       (55074.1025641, 'sdssi', 0.307494232981, 0.672843847541, 25.0, 'ab'),\n",
        "       (55076.1538462, 'sdssz', 1.08776103656, 0.672843847541, 25.0, 'ab'),\n",
        "       (55078.2051282, 'sdssg', -0.43667895645, 0.672843847541, 25.0, 'ab'),\n",
        "       (55080.2564103, 'sdssr', 1.09780966779, 0.672843847541, 25.0, 'ab'),\n",
        "       (55082.3076923, 'sdssi', 3.7562685627, 0.672843847541, 25.0, 'ab'),\n",
        "       (55084.3589744, 'sdssz', 5.34858894966, 0.672843847541, 25.0, 'ab'),\n",
        "       (55086.4102564, 'sdssg', 2.82614187269, 0.672843847541, 25.0, 'ab'),\n",
        "       (55088.4615385, 'sdssr', 7.56547045054, 0.672843847541, 25.0, 'ab'),\n",
        "       (55090.5128205, 'sdssi', 7.43316961013, 0.672843847541, 25.0, 'ab'),\n",
        "       (55092.5641026, 'sdssz', 10.7032994531, 0.672843847541, 25.0, 'ab'),\n",
        "       (55094.6153846, 'sdssg', 1.57823662148, 0.672843847541, 25.0, 'ab'),\n",
        "       (55096.6666667, 'sdssr', 9.4201672834, 0.672843847541, 25.0, 'ab'),\n",
        "       (55098.7179487, 'sdssi', 12.1116206376, 0.672843847541, 25.0, 'ab'),\n",
        "       (55100.7692308, 'sdssz', 13.6445335233, 0.672843847541, 25.0, 'ab'),\n",
        "       (55102.8205128, 'sdssg', 2.20875359735, 0.672843847541, 25.0, 'ab'),\n",
        "       (55104.8717949, 'sdssr', 9.63442013167, 0.672843847541, 25.0, 'ab'),\n",
        "       (55106.9230769, 'sdssi', 11.3724767104, 0.672843847541, 25.0, 'ab'),\n",
        "       (55108.974359, 'sdssz', 12.5739036768, 0.672843847541, 25.0, 'ab'),\n",
        "       (55111.025641, 'sdssg', 0.608391162103, 0.672843847541, 25.0, 'ab'),\n",
        "       (55113.0769231, 'sdssr', 5.91642855037, 0.672843847541, 25.0, 'ab'),\n",
        "       (55115.1282051, 'sdssi', 7.99428156096, 0.672843847541, 25.0, 'ab'),\n",
        "       (55117.1794872, 'sdssz', 7.90862755929, 0.672843847541, 25.0, 'ab'),\n",
        "       (55119.2307692, 'sdssg', 0.679196211518, 0.672843847541, 25.0, 'ab'),\n",
        "       (55121.2820513, 'sdssr', 4.03447329476, 0.672843847541, 25.0, 'ab'),\n",
        "       (55123.3333333, 'sdssi', 7.03584281564, 0.672843847541, 25.0, 'ab'),\n",
        "       (55125.3846154, 'sdssz', 6.84086374285, 0.672843847541, 25.0, 'ab'),\n",
        "       (55127.4358974, 'sdssg', 0.325442801496, 0.672843847541, 25.0, 'ab'),\n",
        "       (55129.4871795, 'sdssr', 2.6597485586, 0.672843847541, 25.0, 'ab'),\n",
        "       (55131.5384615, 'sdssi', 3.99520404021, 0.672843847541, 25.0, 'ab'),\n",
        "       (55133.5897436, 'sdssz', 5.73989458094, 0.672843847541, 25.0, 'ab'),\n",
        "       (55135.6410256, 'sdssg', 0.330702283107, 0.672843847541, 25.0, 'ab'),\n",
        "       (55137.6923077, 'sdssr', 0.565286726579, 0.672843847541, 25.0, 'ab'),\n",
        "       (55139.7435897, 'sdssi', 3.04318346795, 0.672843847541, 25.0, 'ab'),\n",
        "       (55141.7948718, 'sdssz', 5.62692686384, 0.672843847541, 25.0, 'ab'),\n",
        "       (55143.8461538, 'sdssg', -0.722654789013, 0.672843847541, 25.0, 'ab'),\n",
        "       (55145.8974359, 'sdssr', 1.12091764262, 0.672843847541, 25.0, 'ab'),\n",
        "       (55147.9487179, 'sdssi', 2.1246695264, 0.672843847541, 25.0, 'ab'),\n",
        "       (55150.0, 'sdssz', 5.3482175645, 0.672843847541, 25.0, 'ab')], \n",
        "      dtype=[('time', '<f8'), ('band', 'S5'), ('flux', '<f8'), ('fluxerr', '<f8'), ('zp', '<f8'), ('zpsys', 'S2')])"
       ]
      }
     ],
     "prompt_number": 8
    },
    {
     "cell_type": "code",
     "collapsed": false,
     "input": [
      "fig = sncosmo.plot_lc(lc)"
     ],
     "language": "python",
     "metadata": {},
     "outputs": [
      {
       "metadata": {},
       "output_type": "display_data",
       "png": "[encoded data removed]",
       "text": [
        "<matplotlib.figure.Figure at 0x108c029d0>"
       ]
      }
     ],
     "prompt_number": 9
    },
    {
     "cell_type": "code",
     "collapsed": false,
     "input": [
      "# To recognize the newer plots\n",
      "plotstyle={'marker':'s', 'ms':10, 'mfc':'r', 'mec':'r'}"
     ],
     "language": "python",
     "metadata": {},
     "outputs": [],
     "prompt_number": 20
    },
    {
     "cell_type": "code",
     "collapsed": false,
     "input": [
      "fig = sncosmo.plot_lc(lc2, overplotonfig=fig, errorbarkwargs=plotstyle)"
     ],
     "language": "python",
     "metadata": {},
     "outputs": [],
     "prompt_number": 23
    },
    {
     "cell_type": "code",
     "collapsed": false,
     "input": [
      "fig.savefig('multiple_lcs')"
     ],
     "language": "python",
     "metadata": {},
     "outputs": [],
     "prompt_number": 25
    }
   ],
   "metadata": {}
  }
 ]
}