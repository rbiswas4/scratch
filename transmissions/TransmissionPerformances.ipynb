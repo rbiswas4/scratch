{
 "metadata": {
  "name": "",
  "signature": "sha256:088787c830983c94778b807e7d566c00ba51fe9bcfc8868724a17f43d429d065"
 },
 "nbformat": 3,
 "nbformat_minor": 0,
 "worksheets": [
  {
   "cells": [
    {
     "cell_type": "code",
     "collapsed": false,
     "input": [
      "import os"
     ],
     "language": "python",
     "metadata": {},
     "outputs": [],
     "prompt_number": 1
    },
    {
     "cell_type": "code",
     "collapsed": false,
     "input": [
      "import numpy as np\n",
      "%matplotlib inline\n",
      "import matplotlib.pyplot as plt\n",
      "from astropy.units import Unit"
     ],
     "language": "python",
     "metadata": {},
     "outputs": [],
     "prompt_number": 2
    },
    {
     "cell_type": "code",
     "collapsed": false,
     "input": [
      "from lsst.sims.photUtils import Bandpass, Sed\n",
      "import lsst.sims.photUtils.PhotometricParameters as PhotometricParameters"
     ],
     "language": "python",
     "metadata": {},
     "outputs": [],
     "prompt_number": 3
    },
    {
     "cell_type": "code",
     "collapsed": false,
     "input": [
      "from lsst.sims.photUtils.Photometry import PhotometryBase"
     ],
     "language": "python",
     "metadata": {},
     "outputs": [],
     "prompt_number": 4
    },
    {
     "cell_type": "code",
     "collapsed": false,
     "input": [
      "import sncosmo"
     ],
     "language": "python",
     "metadata": {},
     "outputs": [],
     "prompt_number": 5
    },
    {
     "cell_type": "code",
     "collapsed": false,
     "input": [
      "from __future__ import division"
     ],
     "language": "python",
     "metadata": {},
     "outputs": [],
     "prompt_number": 6
    },
    {
     "cell_type": "code",
     "collapsed": false,
     "input": [
      "%load_ext line_profiler"
     ],
     "language": "python",
     "metadata": {},
     "outputs": [],
     "prompt_number": 7
    },
    {
     "cell_type": "heading",
     "level": 2,
     "metadata": {},
     "source": [
      "Using the LSST Transmission Functions"
     ]
    },
    {
     "cell_type": "code",
     "collapsed": false,
     "input": [
      "def getlsstbandpassobjs():\n",
      "    \"\"\"\n",
      "    General utility to return a list of the baseline LSST bandpasses\n",
      "    and register them as SNCosmo bandpasses accessible through strings\n",
      "    like 'LSSTu'.\n",
      "\n",
      "    Parameters\n",
      "    ----------\n",
      "    plot : bool, optional, defaults to False\n",
      "        plot filter functions obtained\n",
      "    Returns\n",
      "    -------\n",
      "    None\n",
      "\n",
      "    Examples\n",
      "    --------\n",
      "    >>> getlsstbandpassobjs()\n",
      "    \"\"\"\n",
      "\n",
      "    from astropy.units import Unit\n",
      "        \n",
      "    bandPassList = ['lsstu', 'lsstg', 'lsstr', 'lssti', 'lsstz', 'lssty']\n",
      "    original_bands = ['u', 'g', 'r', 'i', 'z', 'y']\n",
      "    banddir = os.path.join(os.getenv('THROUGHPUTS_DIR'), 'baseline')\n",
      "        \n",
      "    lsstbands = []\n",
      "    lsstbp = {}\n",
      "\n",
      "    for i in range(len(bandPassList)):\n",
      "        band=bandPassList[i]\n",
      "            # setup sncosmo bandpasses\n",
      "        bandfname = banddir + \"/total_\" + original_bands[i] + '.dat'\n",
      "\n",
      "            # register the LSST bands to the SNCosmo registry\n",
      "            # Not needed for LSST, but useful to compare independent codes\n",
      "            # Usually the next two lines can be merged,\n",
      "            # but there is an astropy bug currently which affects only OSX.\n",
      "        numpyband = np.loadtxt(bandfname)\n",
      "        sncosmoband = sncosmo.Bandpass(wave=numpyband[:, 0],\n",
      "                                       trans=numpyband[:, 1],\n",
      "                                       wave_unit=Unit('nm'),\n",
      "                                       name=band)\n",
      "        sncosmo.registry.register(sncosmoband, force=True)\n",
      "\n",
      "    return None"
     ],
     "language": "python",
     "metadata": {},
     "outputs": [],
     "prompt_number": 8
    },
    {
     "cell_type": "code",
     "collapsed": false,
     "input": [
      "getlsstbandpassobjs()"
     ],
     "language": "python",
     "metadata": {},
     "outputs": [],
     "prompt_number": 9
    },
    {
     "cell_type": "code",
     "collapsed": false,
     "input": [
      "model = sncosmo.Model(source='salt2-extended')\n",
      "model.set(z=0.2)\n",
      "model.set_source_peakabsmag(-19.3, 'bessellb', 'ab')"
     ],
     "language": "python",
     "metadata": {},
     "outputs": [],
     "prompt_number": 10
    },
    {
     "cell_type": "heading",
     "level": 2,
     "metadata": {},
     "source": [
      "Approximate Transmission Functions for speed"
     ]
    },
    {
     "cell_type": "code",
     "collapsed": false,
     "input": [
      "pbase = PhotometryBase()\n",
      "pbase.loadBandpassesFromFiles()"
     ],
     "language": "python",
     "metadata": {},
     "outputs": [],
     "prompt_number": 11
    },
    {
     "cell_type": "code",
     "collapsed": false,
     "input": [
      "bandPassNames = ['u', 'g', 'r', 'i', 'z', 'y']\n",
      "bandPassLimits = dict()\n",
      "bandPassLimits['u'] = [300., 450.]\n",
      "bandPassLimits['g'] = [380., 600.]\n",
      "bandPassLimits['r'] = [450., 751.]\n",
      "bandPassLimits['i'] = [600., 900.]\n",
      "bandPassLimits['z'] = [690., 1100.]\n",
      "bandPassLimits['y'] = [840., 1100.]"
     ],
     "language": "python",
     "metadata": {},
     "outputs": [],
     "prompt_number": 12
    },
    {
     "cell_type": "code",
     "collapsed": false,
     "input": [
      "for key in pbase.bandpassDict.keys():\n",
      "    bp = pbase.bandpassDict[key]\n",
      "    low = bandPassLimits[key][0]\n",
      "    high = bandPassLimits[key][1]\n",
      "    bp.resampleBandpass(wavelen_min=low, wavelen_max=high, wavelen_step=0.5)\n",
      "    bandpass  = sncosmo.Bandpass(wave=bp.wavelen, trans=bp.sb, wave_unit=Unit('nm'), name='approxLSST_'+key)\n",
      "    bp.resampleBandpass(wavelen_min=low, wavelen_max=high, wavelen_step=1.0)\n",
      "    sncosmo.registry.register(bandpass, force=True)\n",
      "    bandpass  = sncosmo.Bandpass(wave=bp.wavelen, trans=bp.sb, wave_unit=Unit('nm'), name='sparseLSST_'+key)    \n",
      "    sncosmo.registry.register(bandpass)"
     ],
     "language": "python",
     "metadata": {},
     "outputs": [],
     "prompt_number": 13
    },
    {
     "cell_type": "heading",
     "level": 3,
     "metadata": {},
     "source": [
      "Speed Comparisons"
     ]
    },
    {
     "cell_type": "heading",
     "level": 4,
     "metadata": {},
     "source": [
      "u band"
     ]
    },
    {
     "cell_type": "code",
     "collapsed": false,
     "input": [
      "%timeit model.bandflux(time=0., band='LSSTu')"
     ],
     "language": "python",
     "metadata": {},
     "outputs": [
      {
       "output_type": "stream",
       "stream": "stdout",
       "text": [
        "1000 loops, best of 3: 1.16 ms per loop\n"
       ]
      }
     ],
     "prompt_number": 14
    },
    {
     "cell_type": "code",
     "collapsed": false,
     "input": [
      "%timeit model.bandflux(time=0., band='approxLSST_u')"
     ],
     "language": "python",
     "metadata": {},
     "outputs": [
      {
       "output_type": "stream",
       "stream": "stdout",
       "text": [
        "10000 loops, best of 3: 120 \u00b5s per loop\n"
       ]
      }
     ],
     "prompt_number": 15
    },
    {
     "cell_type": "code",
     "collapsed": false,
     "input": [
      "%timeit model.bandflux(time=0., band='sparseLSST_u')"
     ],
     "language": "python",
     "metadata": {},
     "outputs": [
      {
       "output_type": "stream",
       "stream": "stdout",
       "text": [
        "10000 loops, best of 3: 106 \u00b5s per loop\n"
       ]
      }
     ],
     "prompt_number": 16
    },
    {
     "cell_type": "heading",
     "level": 4,
     "metadata": {},
     "source": [
      "g band"
     ]
    },
    {
     "cell_type": "code",
     "collapsed": false,
     "input": [
      "%timeit model.bandflux(time=0., band='LSSTg')"
     ],
     "language": "python",
     "metadata": {},
     "outputs": [
      {
       "output_type": "stream",
       "stream": "stdout",
       "text": [
        "1000 loops, best of 3: 1.17 ms per loop\n"
       ]
      }
     ],
     "prompt_number": 17
    },
    {
     "cell_type": "code",
     "collapsed": false,
     "input": [
      "%timeit model.bandflux(time=0., band='approxLSST_g')"
     ],
     "language": "python",
     "metadata": {},
     "outputs": [
      {
       "output_type": "stream",
       "stream": "stdout",
       "text": [
        "10000 loops, best of 3: 135 \u00b5s per loop\n"
       ]
      }
     ],
     "prompt_number": 18
    },
    {
     "cell_type": "code",
     "collapsed": false,
     "input": [
      "%timeit model.bandflux(time=0., band='sparseLSST_g')"
     ],
     "language": "python",
     "metadata": {},
     "outputs": [
      {
       "output_type": "stream",
       "stream": "stdout",
       "text": [
        "10000 loops, best of 3: 110 \u00b5s per loop\n"
       ]
      }
     ],
     "prompt_number": 19
    },
    {
     "cell_type": "code",
     "collapsed": false,
     "input": [
      "%timeit model.bandflux(time=0., band='desg')"
     ],
     "language": "python",
     "metadata": {},
     "outputs": [
      {
       "output_type": "stream",
       "stream": "stdout",
       "text": [
        "10000 loops, best of 3: 105 \u00b5s per loop\n"
       ]
      }
     ],
     "prompt_number": 20
    },
    {
     "cell_type": "heading",
     "level": 4,
     "metadata": {},
     "source": [
      "r band"
     ]
    },
    {
     "cell_type": "code",
     "collapsed": false,
     "input": [
      "%timeit model.bandflux(time=0., band='LSSTr')"
     ],
     "language": "python",
     "metadata": {},
     "outputs": [
      {
       "output_type": "stream",
       "stream": "stdout",
       "text": [
        "1000 loops, best of 3: 1.1 ms per loop\n"
       ]
      }
     ],
     "prompt_number": 21
    },
    {
     "cell_type": "code",
     "collapsed": false,
     "input": [
      "%timeit model.bandflux(time=0., band='sparseLSST_g')"
     ],
     "language": "python",
     "metadata": {},
     "outputs": [
      {
       "output_type": "stream",
       "stream": "stdout",
       "text": [
        "10000 loops, best of 3: 112 \u00b5s per loop\n"
       ]
      }
     ],
     "prompt_number": 22
    },
    {
     "cell_type": "code",
     "collapsed": false,
     "input": [
      "%timeit model.bandflux(time=0., band='approxLSST_r')"
     ],
     "language": "python",
     "metadata": {},
     "outputs": [
      {
       "output_type": "stream",
       "stream": "stdout",
       "text": [
        "10000 loops, best of 3: 158 \u00b5s per loop\n"
       ]
      }
     ],
     "prompt_number": 23
    },
    {
     "cell_type": "code",
     "collapsed": false,
     "input": [
      "%timeit model.bandflux(time=0., band='sparseLSST_r')"
     ],
     "language": "python",
     "metadata": {},
     "outputs": [
      {
       "output_type": "stream",
       "stream": "stdout",
       "text": [
        "10000 loops, best of 3: 119 \u00b5s per loop\n"
       ]
      }
     ],
     "prompt_number": 24
    },
    {
     "cell_type": "code",
     "collapsed": false,
     "input": [
      "%timeit model.bandflux(time=0., band='desr')"
     ],
     "language": "python",
     "metadata": {},
     "outputs": [
      {
       "output_type": "stream",
       "stream": "stdout",
       "text": [
        "10000 loops, best of 3: 106 \u00b5s per loop\n"
       ]
      }
     ],
     "prompt_number": 25
    },
    {
     "cell_type": "heading",
     "level": 4,
     "metadata": {},
     "source": [
      "i band"
     ]
    },
    {
     "cell_type": "code",
     "collapsed": false,
     "input": [
      "%lprun model.bandflux(time=0., band='LSSTi')"
     ],
     "language": "python",
     "metadata": {},
     "outputs": [],
     "prompt_number": 33
    },
    {
     "cell_type": "code",
     "collapsed": false,
     "input": [
      "%timeit model.bandflux(time=0., band='LSSTi')"
     ],
     "language": "python",
     "metadata": {},
     "outputs": [
      {
       "output_type": "stream",
       "stream": "stdout",
       "text": [
        "1000 loops, best of 3: 1.2 ms per loop\n"
       ]
      }
     ],
     "prompt_number": 80
    },
    {
     "cell_type": "code",
     "collapsed": false,
     "input": [
      "wave = sncosmo.get_bandpass('LSSTi').wave\n",
      "%timeit model.flux(time=0., wave=wave)"
     ],
     "language": "python",
     "metadata": {},
     "outputs": [
      {
       "output_type": "stream",
       "stream": "stdout",
       "text": [
        "1000 loops, best of 3: 1.12 ms per loop\n"
       ]
      }
     ],
     "prompt_number": 81
    },
    {
     "cell_type": "code",
     "collapsed": false,
     "input": [
      "1.12 / 1.2"
     ],
     "language": "python",
     "metadata": {},
     "outputs": [
      {
       "metadata": {},
       "output_type": "pyout",
       "prompt_number": 89,
       "text": [
        "0.9333333333333335"
       ]
      }
     ],
     "prompt_number": 89
    },
    {
     "cell_type": "code",
     "collapsed": false,
     "input": [
      "%timeit model.bandflux(time=0., band='approxLSST_i')\n",
      "wave = sncosmo.get_bandpass('approxLSST_i').wave\n",
      "%timeit model.flux(time=0., wave=wave)"
     ],
     "language": "python",
     "metadata": {},
     "outputs": [
      {
       "output_type": "stream",
       "stream": "stdout",
       "text": [
        "10000 loops, best of 3: 166 \u00b5s per loop\n",
        "10000 loops, best of 3: 135 \u00b5s per loop"
       ]
      },
      {
       "output_type": "stream",
       "stream": "stdout",
       "text": [
        "\n"
       ]
      }
     ],
     "prompt_number": 87
    },
    {
     "cell_type": "code",
     "collapsed": false,
     "input": [
      "135 / 166"
     ],
     "language": "python",
     "metadata": {},
     "outputs": [
      {
       "metadata": {},
       "output_type": "pyout",
       "prompt_number": 88,
       "text": [
        "0.8132530120481928"
       ]
      }
     ],
     "prompt_number": 88
    },
    {
     "cell_type": "code",
     "collapsed": false,
     "input": [
      "%timeit model.bandflux(time=0., band='sparseLSST_i')"
     ],
     "language": "python",
     "metadata": {},
     "outputs": [
      {
       "output_type": "stream",
       "stream": "stdout",
       "text": [
        "10000 loops, best of 3: 118 \u00b5s per loop\n"
       ]
      }
     ],
     "prompt_number": 34
    },
    {
     "cell_type": "code",
     "collapsed": false,
     "input": [
      "%timeit model.bandflux(time=0., band='desi')"
     ],
     "language": "python",
     "metadata": {},
     "outputs": [
      {
       "output_type": "stream",
       "stream": "stdout",
       "text": [
        "10000 loops, best of 3: 111 \u00b5s per loop\n"
       ]
      }
     ],
     "prompt_number": 58
    },
    {
     "cell_type": "heading",
     "level": 4,
     "metadata": {},
     "source": [
      "z band"
     ]
    },
    {
     "cell_type": "code",
     "collapsed": false,
     "input": [
      "%timeit model.bandflux(time=0., band='LSSTz')"
     ],
     "language": "python",
     "metadata": {},
     "outputs": [
      {
       "output_type": "stream",
       "stream": "stdout",
       "text": [
        "1000 loops, best of 3: 1.08 ms per loop\n"
       ]
      }
     ],
     "prompt_number": 13
    },
    {
     "cell_type": "code",
     "collapsed": false,
     "input": [
      "%timeit model.bandflux(time=0., band='approxLSST_z')"
     ],
     "language": "python",
     "metadata": {},
     "outputs": [
      {
       "output_type": "stream",
       "stream": "stdout",
       "text": [
        "10000 loops, best of 3: 195 \u00b5s per loop\n"
       ]
      }
     ],
     "prompt_number": 27
    },
    {
     "cell_type": "code",
     "collapsed": false,
     "input": [
      "%timeit model.bandflux(time=0., band='sparseLSST_z')"
     ],
     "language": "python",
     "metadata": {},
     "outputs": [
      {
       "output_type": "stream",
       "stream": "stdout",
       "text": [
        "10000 loops, best of 3: 132 \u00b5s per loop\n"
       ]
      }
     ],
     "prompt_number": 35
    },
    {
     "cell_type": "code",
     "collapsed": false,
     "input": [
      "%timeit model.bandflux(time=0., band='desz')"
     ],
     "language": "python",
     "metadata": {},
     "outputs": [
      {
       "output_type": "stream",
       "stream": "stdout",
       "text": [
        "10000 loops, best of 3: 104 \u00b5s per loop\n"
       ]
      }
     ],
     "prompt_number": 56
    },
    {
     "cell_type": "heading",
     "level": 4,
     "metadata": {},
     "source": [
      "y band"
     ]
    },
    {
     "cell_type": "code",
     "collapsed": false,
     "input": [
      "%timeit model.bandflux(time=0., band='LSSTy')"
     ],
     "language": "python",
     "metadata": {},
     "outputs": [
      {
       "output_type": "stream",
       "stream": "stdout",
       "text": [
        "1000 loops, best of 3: 1.09 ms per loop\n"
       ]
      }
     ],
     "prompt_number": 14
    },
    {
     "cell_type": "code",
     "collapsed": false,
     "input": [
      "%timeit model.bandflux(time=0., band='approxLSST_y')"
     ],
     "language": "python",
     "metadata": {},
     "outputs": [
      {
       "output_type": "stream",
       "stream": "stdout",
       "text": [
        "10000 loops, best of 3: 147 \u00b5s per loop\n"
       ]
      }
     ],
     "prompt_number": 28
    },
    {
     "cell_type": "code",
     "collapsed": false,
     "input": [
      "%timeit model.bandflux(time=0., band='sparseLSST_y')"
     ],
     "language": "python",
     "metadata": {},
     "outputs": [
      {
       "output_type": "stream",
       "stream": "stdout",
       "text": [
        "10000 loops, best of 3: 115 \u00b5s per loop\n"
       ]
      }
     ],
     "prompt_number": 36
    },
    {
     "cell_type": "code",
     "collapsed": false,
     "input": [
      "%timeit model.bandflux(time=0., band='desy')"
     ],
     "language": "python",
     "metadata": {},
     "outputs": [
      {
       "output_type": "stream",
       "stream": "stdout",
       "text": [
        "10000 loops, best of 3: 92.3 \u00b5s per loop\n"
       ]
      }
     ],
     "prompt_number": 57
    },
    {
     "cell_type": "heading",
     "level": 3,
     "metadata": {},
     "source": [
      "Write to Disk"
     ]
    },
    {
     "cell_type": "code",
     "collapsed": false,
     "input": [
      "def writeBandstoDisk(dirname = './', prefix='approxLSST_'):\n",
      "    import os\n",
      "    dirname = os.path.abspath(dirname)\n",
      "    for band in ['u', 'g', 'r', 'i', 'z', 'y']:\n",
      "        band = prefix + band\n",
      "        bp = sncosmo.get_bandpass(band)\n",
      "        fname = band + '_total.dat'\n",
      "        os.path.join(dirname, fname)\n",
      "        data = np.array([bp.wave, bp.trans])\n",
      "        np.savetxt(fname, data.transpose())\n",
      "    "
     ],
     "language": "python",
     "metadata": {},
     "outputs": [],
     "prompt_number": 73
    },
    {
     "cell_type": "code",
     "collapsed": false,
     "input": [
      "writeBandstoDisk()"
     ],
     "language": "python",
     "metadata": {},
     "outputs": [],
     "prompt_number": 74
    },
    {
     "cell_type": "heading",
     "level": 4,
     "metadata": {},
     "source": [
      "Registering Function"
     ]
    },
    {
     "cell_type": "code",
     "collapsed": false,
     "input": [
      "def registerBands(dirname, prefix=None, suffix=None):\n",
      "    \n",
      "    import os\n",
      "    \n",
      "    bands = ['u', 'g', 'r', 'i', 'z', 'y']\n",
      "    \n",
      "    for band in bands:\n",
      "        fname = os.path.join(dirname, prefix + band + suffix)\n",
      "        data = np.loadtxt(fname)\n",
      "        bp = sncosmo.Bandpass(wave=data[:, 0], trans=data[:, 1], name='approxLSST_' + band)\n",
      "        sncosmo.registry.register(bp, force=True)\n",
      "    "
     ],
     "language": "python",
     "metadata": {},
     "outputs": [],
     "prompt_number": 66
    },
    {
     "cell_type": "heading",
     "level": 3,
     "metadata": {},
     "source": [
      "Truncation"
     ]
    },
    {
     "cell_type": "code",
     "collapsed": false,
     "input": [
      "for band in ['u', 'g', 'r', 'i', 'z', 'y']:\n",
      "    if band == 'u':\n",
      "        continue\n",
      "    band = 'des' + band\n",
      "    bp = sncosmo.get_bandpass(band)\n",
      "    mask = bp.trans == 0.\n",
      "    print band, len(bp.trans[mask]) / len(bp.trans), np.argwhere(bp.trans==0.), len(bp.trans)"
     ],
     "language": "python",
     "metadata": {},
     "outputs": [
      {
       "output_type": "stream",
       "stream": "stdout",
       "text": [
        "desg 0.00956937799043 [[  0]\n",
        " [208]] 209\n",
        "desr 0.00925925925926 [[  0]\n",
        " [215]] 216\n",
        "desi 0.00925925925926 [[  0]\n",
        " [215]] 216\n",
        "desz 0.00896860986547 [[  0]\n",
        " [222]] 223\n",
        "desy 0.0 [] 129\n"
       ]
      }
     ],
     "prompt_number": 63
    },
    {
     "cell_type": "heading",
     "level": 2,
     "metadata": {},
     "source": [
      "Using LSST PhotUtils"
     ]
    },
    {
     "cell_type": "code",
     "collapsed": false,
     "input": [
      "from lsst.sims.photUtils import Sed, Bandpass"
     ],
     "language": "python",
     "metadata": {},
     "outputs": [],
     "prompt_number": 41
    },
    {
     "cell_type": "code",
     "collapsed": false,
     "input": [
      "sed = Sed()"
     ],
     "language": "python",
     "metadata": {},
     "outputs": [],
     "prompt_number": 35
    },
    {
     "cell_type": "code",
     "collapsed": false,
     "input": [
      "bp = sncosmo.get_bandpass('LSSTg')"
     ],
     "language": "python",
     "metadata": {},
     "outputs": [],
     "prompt_number": 38
    },
    {
     "cell_type": "code",
     "collapsed": false,
     "input": [],
     "language": "python",
     "metadata": {},
     "outputs": []
    },
    {
     "cell_type": "code",
     "collapsed": false,
     "input": [
      "%timeit sed = Sed(wavelen=bp.wave, flambda=model.flux(wave=bp.wave, time=0.))"
     ],
     "language": "python",
     "metadata": {},
     "outputs": [
      {
       "output_type": "stream",
       "stream": "stdout",
       "text": [
        "1000 loops, best of 3: 1.24 ms per loop\n"
       ]
      }
     ],
     "prompt_number": 55
    },
    {
     "cell_type": "code",
     "collapsed": false,
     "input": [
      "sed.flambda"
     ],
     "language": "python",
     "metadata": {},
     "outputs": [
      {
       "metadata": {},
       "output_type": "pyout",
       "prompt_number": 45,
       "text": [
        "array([  1.45587181e-18,   1.45931975e-18,   1.46277238e-18, ...,\n",
        "         1.69208857e-18,   1.69136479e-18,   1.69063978e-18])"
       ]
      }
     ],
     "prompt_number": 45
    },
    {
     "cell_type": "code",
     "collapsed": false,
     "input": [
      "bandpass = Bandpass(wavelen=bp.wave, sb=bp.trans)"
     ],
     "language": "python",
     "metadata": {},
     "outputs": [],
     "prompt_number": 42
    },
    {
     "cell_type": "code",
     "collapsed": false,
     "input": [
      "%timeit sed.calcFlux(bandpass=bandpass)"
     ],
     "language": "python",
     "metadata": {},
     "outputs": [
      {
       "output_type": "stream",
       "stream": "stdout",
       "text": [
        "1000 loops, best of 3: 523 \u00b5s per loop\n"
       ]
      }
     ],
     "prompt_number": 56
    },
    {
     "cell_type": "code",
     "collapsed": false,
     "input": [
      "1.28 + 538.0e-3"
     ],
     "language": "python",
     "metadata": {},
     "outputs": [
      {
       "metadata": {},
       "output_type": "pyout",
       "prompt_number": 51,
       "text": [
        "1.818"
       ]
      }
     ],
     "prompt_number": 51
    },
    {
     "cell_type": "code",
     "collapsed": false,
     "input": [
      "%timeit model.bandflux(band='LSSTu', time=0.)"
     ],
     "language": "python",
     "metadata": {},
     "outputs": [
      {
       "output_type": "stream",
       "stream": "stdout",
       "text": [
        "1000 loops, best of 3: 1.19 ms per loop\n"
       ]
      }
     ],
     "prompt_number": 53
    },
    {
     "cell_type": "code",
     "collapsed": false,
     "input": [
      "%timeit model.flux(time=0., wave=bp.wave)"
     ],
     "language": "python",
     "metadata": {},
     "outputs": [
      {
       "output_type": "stream",
       "stream": "stdout",
       "text": [
        "1000 loops, best of 3: 1.17 ms per loop\n"
       ]
      }
     ],
     "prompt_number": 54
    },
    {
     "cell_type": "code",
     "collapsed": false,
     "input": [
      "%lprun -f sncosmo.Model.flux(time=0., wave=bp.wave)"
     ],
     "language": "python",
     "metadata": {},
     "outputs": [
      {
       "output_type": "stream",
       "stream": "stderr",
       "text": [
        "UsageError: Could not find function u'sncosmo.Model.flux(time=0.,'.\n",
        "SyntaxError: unexpected EOF while parsing (<string>, line 1)"
       ]
      }
     ],
     "prompt_number": 59
    },
    {
     "cell_type": "code",
     "collapsed": false,
     "input": [
      "%lprun?"
     ],
     "language": "python",
     "metadata": {},
     "outputs": [],
     "prompt_number": 60
    },
    {
     "cell_type": "code",
     "collapsed": false,
     "input": [
      "%prun model.bandflux(time=0., band=bp)"
     ],
     "language": "python",
     "metadata": {},
     "outputs": [
      {
       "output_type": "stream",
       "stream": "stdout",
       "text": [
        " "
       ]
      }
     ],
     "prompt_number": 63
    },
    {
     "cell_type": "raw",
     "metadata": {},
     "source": [
      "%lprun -f model.bandflux(time=0., band=bp) -f model.flux"
     ]
    },
    {
     "cell_type": "code",
     "collapsed": false,
     "input": [
      "%timeit model.bandflux(time=0., band=bp, zp=25., zpsys='ab')"
     ],
     "language": "python",
     "metadata": {},
     "outputs": [
      {
       "output_type": "stream",
       "stream": "stdout",
       "text": [
        "1000 loops, best of 3: 1.24 ms per loop\n"
       ]
      }
     ],
     "prompt_number": 65
    },
    {
     "cell_type": "code",
     "collapsed": false,
     "input": [],
     "language": "python",
     "metadata": {},
     "outputs": []
    }
   ],
   "metadata": {}
  }
 ]
}