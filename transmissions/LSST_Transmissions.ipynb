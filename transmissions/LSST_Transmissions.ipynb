{
 "metadata": {
  "name": "",
  "signature": "sha256:e5073875f2a892212f201f5717f3c36b78021e5fa6c4302203f5aabf37ed52f5"
 },
 "nbformat": 3,
 "nbformat_minor": 0,
 "worksheets": [
  {
   "cells": [
    {
     "cell_type": "code",
     "collapsed": false,
     "input": [
      "import os"
     ],
     "language": "python",
     "metadata": {},
     "outputs": [],
     "prompt_number": 1
    },
    {
     "cell_type": "code",
     "collapsed": false,
     "input": [
      "import numpy as np\n",
      "%matplotlib inline\n",
      "import matplotlib.pyplot as plt"
     ],
     "language": "python",
     "metadata": {},
     "outputs": [],
     "prompt_number": 2
    },
    {
     "cell_type": "code",
     "collapsed": false,
     "input": [
      "from lsst.sims.photUtils import Bandpass, Sed\n",
      "import lsst.sims.photUtils.PhotometricParameters as PhotometricParameters"
     ],
     "language": "python",
     "metadata": {},
     "outputs": [],
     "prompt_number": 3
    },
    {
     "cell_type": "code",
     "collapsed": false,
     "input": [
      "eups.dirEnvN"
     ],
     "language": "python",
     "metadata": {},
     "outputs": [
      {
       "ename": "NameError",
       "evalue": "name 'eups' is not defined",
       "output_type": "pyerr",
       "traceback": [
        "\u001b[0;31m---------------------------------------------------------------------------\u001b[0m\n\u001b[0;31mNameError\u001b[0m                                 Traceback (most recent call last)",
        "\u001b[0;32m<ipython-input-4-a3174e25a642>\u001b[0m in \u001b[0;36m<module>\u001b[0;34m()\u001b[0m\n\u001b[0;32m----> 1\u001b[0;31m \u001b[0meups\u001b[0m\u001b[0;34m.\u001b[0m\u001b[0mdirEnvN\u001b[0m\u001b[0;34m\u001b[0m\u001b[0m\n\u001b[0m",
        "\u001b[0;31mNameError\u001b[0m: name 'eups' is not defined"
       ]
      }
     ],
     "prompt_number": 4
    },
    {
     "cell_type": "code",
     "collapsed": false,
     "input": [
      "throughputsdir = os.getenv('THROUGHPUTS_DIR')"
     ],
     "language": "python",
     "metadata": {},
     "outputs": [],
     "prompt_number": 5
    },
    {
     "cell_type": "code",
     "collapsed": false,
     "input": [
      "g_fname = os.path.join(throughputsdir, 'baseline', 'filter_g.dat') \n",
      "g_tot_fname = os.path.join(throughputsdir, 'baseline', 'total_g.dat')\n",
      "baselinedir = os.path.join(throughputsdir, 'baseline')"
     ],
     "language": "python",
     "metadata": {},
     "outputs": [],
     "prompt_number": 6
    },
    {
     "cell_type": "code",
     "collapsed": false,
     "input": [
      "filterg = Bandpass()\n",
      "filterg.readThroughput(g_fname)\n",
      "filter_gtot = Bandpass()\n",
      "filter_gtot.readThroughput(g_tot_fname)\n",
      "filter_g_allcomps = Bandpass()"
     ],
     "language": "python",
     "metadata": {},
     "outputs": [],
     "prompt_number": 7
    },
    {
     "cell_type": "code",
     "collapsed": false,
     "input": [
      "filter_g_allcomps.readThroughputList(rootDir=baselinedir, \n",
      "                                     componentList=['detector.dat', 'lens1.dat', 'lens2.dat', 'lens3.dat','m1.dat', 'm2.dat', 'm3.dat', \n",
      "                                                    'atmos.dat','filter_g.dat'])"
     ],
     "language": "python",
     "metadata": {},
     "outputs": [],
     "prompt_number": 8
    },
    {
     "cell_type": "code",
     "collapsed": false,
     "input": [
      "filter_g_sys = Bandpass()\n",
      "filter_g_sys.readThroughputList(rootDir=baselinedir, \n",
      "                                componentList=['detector.dat', 'lens1.dat', 'lens2.dat', 'lens3.dat','m1.dat', 'm2.dat', 'm3.dat', \n",
      "                                               'filter_g.dat']\n",
      "                                )"
     ],
     "language": "python",
     "metadata": {},
     "outputs": [],
     "prompt_number": 9
    },
    {
     "cell_type": "code",
     "collapsed": false,
     "input": [
      "fig, ax = plt.subplots()\n",
      "ax.plot(filterg.wavelen, filterg.sb)\n",
      "ax.plot(filter_gtot.wavelen, filter_gtot.sb, 'k')\n",
      "ax.plot(filter_g_allcomps.wavelen, filter_g_allcomps.sb, 'r',  ls='dashed')\n",
      "ax.plot(filter_g_sys.wavelen, filter_g_sys.sb, 'k',  ls='dashed')"
     ],
     "language": "python",
     "metadata": {},
     "outputs": [
      {
       "metadata": {},
       "output_type": "pyout",
       "prompt_number": 14,
       "text": [
        "[<matplotlib.lines.Line2D at 0x10abb8410>]"
       ]
      },
      {
       "metadata": {},
       "output_type": "display_data",
       "png": "[encoded data removed]",
       "text": [
        "<matplotlib.figure.Figure at 0x10ab08d50>"
       ]
      }
     ],
     "prompt_number": 14
    },
    {
     "cell_type": "code",
     "collapsed": false,
     "input": [
      "sed = Sed()"
     ],
     "language": "python",
     "metadata": {},
     "outputs": [],
     "prompt_number": 15
    },
    {
     "cell_type": "code",
     "collapsed": false,
     "input": [
      "sed.setFlatSED(wavelen_min=300., wavelen_max=1150.)"
     ],
     "language": "python",
     "metadata": {},
     "outputs": [],
     "prompt_number": 26
    },
    {
     "cell_type": "code",
     "collapsed": false,
     "input": [
      "sed.flambda = sed.flambda * 3631"
     ],
     "language": "python",
     "metadata": {},
     "outputs": [],
     "prompt_number": 27
    },
    {
     "cell_type": "code",
     "collapsed": false,
     "input": [
      "plt.plot(sed.wavelen, sed.flambda)"
     ],
     "language": "python",
     "metadata": {},
     "outputs": [
      {
       "metadata": {},
       "output_type": "pyout",
       "prompt_number": 24,
       "text": [
        "[<matplotlib.lines.Line2D at 0x10ae9f650>]"
       ]
      },
      {
       "metadata": {},
       "output_type": "display_data",
       "png": "[encoded data removed]",
       "text": [
        "<matplotlib.figure.Figure at 0x10a6b8f90>"
       ]
      }
     ],
     "prompt_number": 24
    },
    {
     "cell_type": "code",
     "collapsed": false,
     "input": [
      "pp = PhotometricParameters(exptime=30.)"
     ],
     "language": "python",
     "metadata": {},
     "outputs": [],
     "prompt_number": 20
    },
    {
     "cell_type": "code",
     "collapsed": false,
     "input": [
      "totAdu = sed.calcADU(bandpass=filter_g_allcomps, photParams=pp)"
     ],
     "language": "python",
     "metadata": {},
     "outputs": [],
     "prompt_number": 34
    },
    {
     "cell_type": "code",
     "collapsed": false,
     "input": [
      "sysAdu = sed.calcADU(bandpass=filter_g_sys, photParams=pp)"
     ],
     "language": "python",
     "metadata": {},
     "outputs": [],
     "prompt_number": 30
    },
    {
     "cell_type": "code",
     "collapsed": false,
     "input": [
      "totAdu / sysAdu"
     ],
     "language": "python",
     "metadata": {},
     "outputs": [
      {
       "metadata": {},
       "output_type": "pyout",
       "prompt_number": 36,
       "text": [
        "0.83455807897355638"
       ]
      }
     ],
     "prompt_number": 36
    }
   ],
   "metadata": {}
  }
 ]
}