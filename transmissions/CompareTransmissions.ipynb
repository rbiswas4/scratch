{
 "metadata": {
  "name": "",
  "signature": "sha256:387bdae1c9a22d354e66889861de1d9a4d1237e053011375be6e8929bc56f209"
 },
 "nbformat": 3,
 "nbformat_minor": 0,
 "worksheets": [
  {
   "cells": [
    {
     "cell_type": "code",
     "collapsed": false,
     "input": [
      "import os"
     ],
     "language": "python",
     "metadata": {},
     "outputs": [],
     "prompt_number": 1
    },
    {
     "cell_type": "code",
     "collapsed": false,
     "input": [
      "import numpy as np\n",
      "%matplotlib inline\n",
      "import matplotlib.pyplot as plt\n",
      "from astropy.units import Unit"
     ],
     "language": "python",
     "metadata": {},
     "outputs": [],
     "prompt_number": 2
    },
    {
     "cell_type": "code",
     "collapsed": false,
     "input": [
      "from lsst.sims.photUtils import Bandpass, Sed\n",
      "import lsst.sims.photUtils.PhotometricParameters as PhotometricParameters"
     ],
     "language": "python",
     "metadata": {},
     "outputs": [],
     "prompt_number": 3
    },
    {
     "cell_type": "code",
     "collapsed": false,
     "input": [
      "from lsst.sims.photUtils.Photometry import PhotometryBase"
     ],
     "language": "python",
     "metadata": {},
     "outputs": [],
     "prompt_number": 4
    },
    {
     "cell_type": "code",
     "collapsed": false,
     "input": [
      "import sncosmo"
     ],
     "language": "python",
     "metadata": {},
     "outputs": [],
     "prompt_number": 5
    },
    {
     "cell_type": "code",
     "collapsed": false,
     "input": [
      "from __future__ import division"
     ],
     "language": "python",
     "metadata": {},
     "outputs": [],
     "prompt_number": 6
    },
    {
     "cell_type": "code",
     "collapsed": false,
     "input": [
      "%load_ext line_profiler"
     ],
     "language": "python",
     "metadata": {},
     "outputs": [],
     "prompt_number": 7
    },
    {
     "cell_type": "heading",
     "level": 2,
     "metadata": {},
     "source": [
      "Using the LSST Transmission Functions"
     ]
    },
    {
     "cell_type": "code",
     "collapsed": false,
     "input": [
      "def getlsstbandpassobjs():\n",
      "    \"\"\"\n",
      "    General utility to return a list of the baseline LSST bandpasses\n",
      "    and register them as SNCosmo bandpasses accessible through strings\n",
      "    like 'LSSTu'.\n",
      "\n",
      "    Parameters\n",
      "    ----------\n",
      "    plot : bool, optional, defaults to False\n",
      "        plot filter functions obtained\n",
      "    Returns\n",
      "    -------\n",
      "    None\n",
      "\n",
      "    Examples\n",
      "    --------\n",
      "    >>> getlsstbandpassobjs()\n",
      "    \"\"\"\n",
      "\n",
      "    from astropy.units import Unit\n",
      "        \n",
      "    bandPassList = ['lsstu', 'lsstg', 'lsstr', 'lssti', 'lsstz', 'lssty']\n",
      "    original_bands = ['u', 'g', 'r', 'i', 'z', 'y']\n",
      "    banddir = os.path.join(os.getenv('THROUGHPUTS_DIR'), 'baseline')\n",
      "        \n",
      "    lsstbands = []\n",
      "    lsstbp = {}\n",
      "\n",
      "    for i in range(len(bandPassList)):\n",
      "        band=bandPassList[i]\n",
      "            # setup sncosmo bandpasses\n",
      "        bandfname = banddir + \"/total_\" + original_bands[i] + '.dat'\n",
      "\n",
      "            # register the LSST bands to the SNCosmo registry\n",
      "            # Not needed for LSST, but useful to compare independent codes\n",
      "            # Usually the next two lines can be merged,\n",
      "            # but there is an astropy bug currently which affects only OSX.\n",
      "        numpyband = np.loadtxt(bandfname)\n",
      "        sncosmoband = sncosmo.Bandpass(wave=numpyband[:, 0],\n",
      "                                       trans=numpyband[:, 1],\n",
      "                                       wave_unit=Unit('nm'),\n",
      "                                       name=band)\n",
      "        sncosmo.registry.register(sncosmoband, force=True)\n",
      "\n",
      "    return None"
     ],
     "language": "python",
     "metadata": {},
     "outputs": [],
     "prompt_number": 17
    },
    {
     "cell_type": "code",
     "collapsed": false,
     "input": [
      "getlsstbandpassobjs()"
     ],
     "language": "python",
     "metadata": {},
     "outputs": [],
     "prompt_number": 18
    },
    {
     "cell_type": "code",
     "collapsed": false,
     "input": [
      "def getbandpassfromregistry(band):\n",
      "    \n",
      "    try:\n",
      "        band = sncosmo.get_bandpass(band)\n",
      "        bandvals = band.wave, band.trans\n",
      "    except:\n",
      "        bandvals = None, None\n",
      "    return bandvals"
     ],
     "language": "python",
     "metadata": {},
     "outputs": [],
     "prompt_number": 31
    },
    {
     "cell_type": "code",
     "collapsed": false,
     "input": [
      "x = getbandpassfromregistry('desu')\n",
      "plt.plot(x[0], x[1])"
     ],
     "language": "python",
     "metadata": {},
     "outputs": [
      {
       "metadata": {},
       "output_type": "pyout",
       "prompt_number": 34,
       "text": [
        "[<matplotlib.lines.Line2D at 0x10cd4ab50>]"
       ]
      },
      {
       "metadata": {},
       "output_type": "display_data",
       "png": "[encoded data removed]",
       "text": [
        "<matplotlib.figure.Figure at 0x10cc7b3d0>"
       ]
      }
     ],
     "prompt_number": 34
    },
    {
     "cell_type": "code",
     "collapsed": false,
     "input": [
      "print x"
     ],
     "language": "python",
     "metadata": {},
     "outputs": [
      {
       "output_type": "stream",
       "stream": "stdout",
       "text": [
        "None\n"
       ]
      }
     ],
     "prompt_number": 28
    },
    {
     "cell_type": "code",
     "collapsed": false,
     "input": [
      "fig, ax =  plt.subplots(2,3)\n",
      "axx = ax.reshape(6)\n",
      "for i, band in enumerate(['u', 'g', 'r', 'i', 'z', 'y']):\n",
      "    \n",
      "    sdssband  = getbandpassfromregistry('sdss' + band)\n",
      "    desband = getbandpassfromregistry('des' + band)\n",
      "    lsstband = getbandpassfromregistry('lsst' + band)\n",
      "\n",
      "    axx[i].plot(sdssband[0], sdssband[1], 'r')\n",
      "    axx[i].plot(desband[0], desband[1], 'b')\n",
      "    axx[i].plot(lsstband[0], lsstband[1], 'k')\n"
     ],
     "language": "python",
     "metadata": {},
     "outputs": [
      {
       "metadata": {},
       "output_type": "display_data",
       "png": "[encoded data removed]",
       "text": [
        "<matplotlib.figure.Figure at 0x10e010d90>"
       ]
      }
     ],
     "prompt_number": 39
    }
   ],
   "metadata": {}
  }
 ]
}