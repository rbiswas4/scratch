{
 "metadata": {
  "name": "",
  "signature": "sha256:94b7ac3bbcf7a3b971150ecfd068f75a127cfc181ffd73dccd298ab4aeec0435"
 },
 "nbformat": 3,
 "nbformat_minor": 0,
 "worksheets": [
  {
   "cells": [
    {
     "cell_type": "code",
     "collapsed": false,
     "input": [
      "%matplotlib inline\n",
      "import matplotlib.pyplot as plt\n",
      "import numpy as np"
     ],
     "language": "python",
     "metadata": {},
     "outputs": [],
     "prompt_number": 1
    },
    {
     "cell_type": "code",
     "collapsed": false,
     "input": [
      "from astropy.units import Unit\n",
      "from astropy import units as u\n",
      "import sncosmo"
     ],
     "language": "python",
     "metadata": {},
     "outputs": [],
     "prompt_number": 2
    },
    {
     "cell_type": "markdown",
     "metadata": {},
     "source": [
      "We will take three sources: two are SNIa (not quite what I would want to use for calculation, but is extended to meet the wavelength ranges. There are two of these: one for a high value of color and one for a low value. Finally, there is a core collapse model (Ibc). The corecollapse model has a peak at 25.0) "
     ]
    },
    {
     "cell_type": "code",
     "collapsed": false,
     "input": [
      "model_highc = sncosmo.Model(source='salt2-extended')\n",
      "model_highc.set(z=0.5, c=0.3)\n",
      "model_highc.set_source_peakabsmag(-19.5, 'bessellB', 'ab')"
     ],
     "language": "python",
     "metadata": {},
     "outputs": [],
     "prompt_number": 3
    },
    {
     "cell_type": "code",
     "collapsed": false,
     "input": [
      "model_lowc = sncosmo.Model(source='salt2-extended')\n",
      "model_lowc.set(z=0.5, c=-0.3)\n",
      "model_lowc.set_source_peakabsmag(-19.5, 'bessellB', 'ab')"
     ],
     "language": "python",
     "metadata": {},
     "outputs": [],
     "prompt_number": 4
    },
    {
     "cell_type": "code",
     "collapsed": false,
     "input": [
      "print (model_highc.minwave())\n",
      "print (model_highc.maxwave())"
     ],
     "language": "python",
     "metadata": {},
     "outputs": [
      {
       "output_type": "stream",
       "stream": "stdout",
       "text": [
        "450.0\n",
        "27000.0\n"
       ]
      }
     ],
     "prompt_number": 5
    },
    {
     "cell_type": "code",
     "collapsed": false,
     "input": [
      "print (model_highc.mintime())\n",
      "print (model_highc.maxtime())"
     ],
     "language": "python",
     "metadata": {},
     "outputs": [
      {
       "output_type": "stream",
       "stream": "stdout",
       "text": [
        "-30.0\n",
        "75.0\n"
       ]
      }
     ],
     "prompt_number": 6
    },
    {
     "cell_type": "code",
     "collapsed": false,
     "input": [
      "waves = np.arange(model_highc.minwave(), model_highc.maxwave(), 0.1 )"
     ],
     "language": "python",
     "metadata": {},
     "outputs": [],
     "prompt_number": 7
    },
    {
     "cell_type": "code",
     "collapsed": false,
     "input": [
      "(u.Angstrom).to(u.nm)"
     ],
     "language": "python",
     "metadata": {},
     "outputs": [
      {
       "metadata": {},
       "output_type": "pyout",
       "prompt_number": 8,
       "text": [
        "0.1"
       ]
      }
     ],
     "prompt_number": 8
    },
    {
     "cell_type": "code",
     "collapsed": false,
     "input": [
      "header = 'wavelen(nm), f_\\lambda (ergs/cm^2/nm)'"
     ],
     "language": "python",
     "metadata": {},
     "outputs": [],
     "prompt_number": 9
    },
    {
     "cell_type": "code",
     "collapsed": false,
     "input": [
      "for time in np.arange(model_highc.mintime(), model_highc.maxtime(), 1.):\n",
      "    fname = \"highc_{0:2.2f}_days.dat\".format(time)\n",
      "    flux = model_highc.flux(time=time, wave=waves)\n",
      "    arr = np.array([waves * 0.1, flux * 10.])\n",
      "    np.savetxt(fname, np.transpose(arr), header=header)\n",
      "    fname_lowc = \"lowc_{0:2.2f}_days.dat\".format(time)\n",
      "    flux = model_lowc.flux(time=time, wave=waves)\n",
      "    arr = np.array([waves * 0.1, flux * 10.])\n",
      "    np.savetxt(fname_lowc, np.transpose(arr), header=header)"
     ],
     "language": "python",
     "metadata": {},
     "outputs": [],
     "prompt_number": 10
    },
    {
     "cell_type": "code",
     "collapsed": false,
     "input": [
      "ccmodel = sncosmo.Model(source='nugent-sn1bc')"
     ],
     "language": "python",
     "metadata": {},
     "outputs": [],
     "prompt_number": 11
    },
    {
     "cell_type": "code",
     "collapsed": false,
     "input": [
      "ccmodel.set(z=0.5)\n",
      "ccmodel.set_source_peakabsmag(-18.5, 'bessellB', 'ab')"
     ],
     "language": "python",
     "metadata": {},
     "outputs": [],
     "prompt_number": 12
    },
    {
     "cell_type": "code",
     "collapsed": false,
     "input": [
      "ccmodel.source.peakphase('bessellB')"
     ],
     "language": "python",
     "metadata": {},
     "outputs": [
      {
       "metadata": {},
       "output_type": "pyout",
       "prompt_number": 13,
       "text": [
        "17.010834388165964"
       ]
      }
     ],
     "prompt_number": 13
    },
    {
     "cell_type": "code",
     "collapsed": false,
     "input": [
      "print (ccmodel.mintime(), ccmodel.maxtime())"
     ],
     "language": "python",
     "metadata": {},
     "outputs": [
      {
       "output_type": "stream",
       "stream": "stdout",
       "text": [
        "(0.0, 127.5)\n"
       ]
      }
     ],
     "prompt_number": 14
    },
    {
     "cell_type": "code",
     "collapsed": false,
     "input": [
      "print (ccmodel.minwave(), ccmodel.maxwave())\n",
      "ccwaves = np.arange(ccmodel.minwave(), ccmodel.maxwave(), 0.1)"
     ],
     "language": "python",
     "metadata": {},
     "outputs": [
      {
       "output_type": "stream",
       "stream": "stdout",
       "text": [
        "(1500.0, 37500.0)\n"
       ]
      }
     ],
     "prompt_number": 15
    },
    {
     "cell_type": "code",
     "collapsed": false,
     "input": [
      "for time in np.arange(ccmodel.mintime(), ccmodel.maxtime(), 1.):\n",
      "    fname = \"ccmodel_{0:2.2f}_days.dat\".format(time)\n",
      "    flux = ccmodel.flux(time=time, wave=ccwaves)\n",
      "    arr = np.array([ccwaves * 0.1, flux * 10.])\n",
      "    np.savetxt(fname,arr.transpose(), header=header)"
     ],
     "language": "python",
     "metadata": {},
     "outputs": [],
     "prompt_number": 16
    },
    {
     "cell_type": "code",
     "collapsed": false,
     "input": [
      "print(np.shape(arr))"
     ],
     "language": "python",
     "metadata": {},
     "outputs": [
      {
       "output_type": "stream",
       "stream": "stdout",
       "text": [
        "(2, 360000)\n"
       ]
      }
     ],
     "prompt_number": 17
    },
    {
     "cell_type": "code",
     "collapsed": false,
     "input": [],
     "language": "python",
     "metadata": {},
     "outputs": []
    }
   ],
   "metadata": {}
  }
 ]
}