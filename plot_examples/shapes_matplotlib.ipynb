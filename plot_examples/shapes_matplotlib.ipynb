{
 "cells": [
  {
   "cell_type": "code",
   "execution_count": 25,
   "metadata": {
    "collapsed": false
   },
   "outputs": [],
   "source": [
    "%matplotlib inline\n",
    "import matplotlib.pyplot as plt\n",
    "import seaborn as sns\n",
    "sns.set()\n",
    "from matplotlib.patches import Rectangle, Circle, Polygon"
   ]
  },
  {
   "cell_type": "code",
   "execution_count": 34,
   "metadata": {
    "collapsed": false
   },
   "outputs": [
    {
     "data": {
      "text/plain": [
       "(-4, 4)"
      ]
     },
     "execution_count": 34,
     "metadata": {},
     "output_type": "execute_result"
    },
    {
     "data": {
      "image/png": "[encoded data removed]",
      "text/plain": [
       "<matplotlib.figure.Figure at 0x115cd0050>"
      ]
     },
     "metadata": {},
     "output_type": "display_data"
    }
   ],
   "source": [
    "fig, ax =  plt.subplots()\n",
    "ax.set_aspect('equal')\n",
    "rect = Rectangle((0., 0.), 1.5, 2, angle=30,fill=False, **{'color':'k', 'alpha':0.7})\n",
    "circle = Circle((0., 0.), 2, fill=False, **dict(color='k', alpha=0.7))\n",
    "pts = [(0,0), (1., -1.), (2, -3), (-1, -2)]\n",
    "polygon = Polygon(pts, fill=False, **dict(color='k', alpha=0.7))\n",
    "pts_reshaped = zip(*pts)\n",
    "ax.scatter(pts_reshaped[0], pts_reshaped[1])\n",
    "ax.add_patch(rect)\n",
    "ax.add_patch(circle)\n",
    "ax.add_patch(polygon)\n",
    "ax.set_xlim(-3, 3)\n",
    "ax.set_ylim(-4, 4)"
   ]
  },
  {
   "cell_type": "code",
   "execution_count": 35,
   "metadata": {
    "collapsed": false
   },
   "outputs": [
    {
     "name": "stdout",
     "output_type": "stream",
     "text": [
      "[(0, 1.0, 2, -1), (0, -1.0, -3, -2)]\n"
     ]
    }
   ],
   "source": [
    "print(pts_reshaped)"
   ]
  },
  {
   "cell_type": "code",
   "execution_count": 36,
   "metadata": {
    "collapsed": false
   },
   "outputs": [
    {
     "name": "stdout",
     "output_type": "stream",
     "text": [
      "Help on built-in function zip in module __builtin__:\n",
      "\n",
      "zip(...)\n",
      "    zip(seq1 [, seq2 [...]]) -> [(seq1[0], seq2[0] ...), (...)]\n",
      "    \n",
      "    Return a list of tuples, where each tuple contains the i-th element\n",
      "    from each of the argument sequences.  The returned list is truncated\n",
      "    in length to the length of the shortest argument sequence.\n",
      "\n"
     ]
    }
   ],
   "source": [
    "help(zip)"
   ]
  },
  {
   "cell_type": "code",
   "execution_count": null,
   "metadata": {
    "collapsed": true
   },
   "outputs": [],
   "source": []
  }
 ],
 "metadata": {
  "kernelspec": {
   "display_name": "Python 2",
   "language": "python",
   "name": "python2"
  },
  "language_info": {
   "codemirror_mode": {
    "name": "ipython",
    "version": 2
   },
   "file_extension": ".py",
   "mimetype": "text/x-python",
   "name": "python",
   "nbconvert_exporter": "python",
   "pygments_lexer": "ipython2",
   "version": "2.7.11"
  }
 },
 "nbformat": 4,
 "nbformat_minor": 0
}
