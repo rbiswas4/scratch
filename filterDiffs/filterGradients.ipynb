{
 "metadata": {
  "name": "",
  "signature": "sha256:409d1e89ce94aae6f56b0cfa187586bdf95265096b2a5c7cdf788ab3bc018ecc"
 },
 "nbformat": 3,
 "nbformat_minor": 0,
 "worksheets": [
  {
   "cells": [
    {
     "cell_type": "code",
     "collapsed": false,
     "input": [
      "import os\n",
      "import numpy as np\n",
      "%matplotlib inline\n",
      "import matplotlib.pyplot as plt\n",
      "import sncosmo "
     ],
     "language": "python",
     "metadata": {},
     "outputs": [],
     "prompt_number": 5
    },
    {
     "cell_type": "code",
     "collapsed": false,
     "input": [
      "from astropy.io import fits as pyfits\n",
      "from astropy.table import Table"
     ],
     "language": "python",
     "metadata": {},
     "outputs": [],
     "prompt_number": 6
    },
    {
     "cell_type": "code",
     "collapsed": false,
     "input": [
      "def getmegacambandpasses():\n",
      "    \"\"\"\n",
      "    \"\"\"\n",
      "    filterdir = '/Users/rbiswas/data/SNDATA/filters/SNLS/SNLS_C11/SNLS3-MEGACAM'\n",
      "    bandpassList = ['g', 'r', 'i', 'z']\n",
      "    \n",
      "    for i, band in enumerate(bandpassList):\n",
      "        bandfname = os.path.join(filterdir, 'effMEGACAM-' + band + '.dat')\n",
      "        numpyband = np.loadtxt(bandfname)\n",
      "        sncosmoband = sncosmo.Bandpass(wave=numpyband[:, 0],\n",
      "                                       trans=numpyband[:, 1],\n",
      "                                       wave_unit=Unit('Angstrom'),\n",
      "                                       name='SNANA_megacam_'+band)\n",
      "        sncosmo.registry.register(sncosmoband, force=True)\n",
      "    return None"
     ],
     "language": "python",
     "metadata": {},
     "outputs": [],
     "prompt_number": 7
    },
    {
     "cell_type": "code",
     "collapsed": false,
     "input": [
      "jladir = os.getenv('jladir')"
     ],
     "language": "python",
     "metadata": {},
     "outputs": [],
     "prompt_number": 8
    },
    {
     "cell_type": "code",
     "collapsed": false,
     "input": [
      "bands = ['u', 'g', 'r', 'i', 'z']\n",
      "banddict = dict()\n",
      "for i, filt in enumerate(bands):\n",
      "    ind = i + 3\n",
      "    fname = os.path.join(jladir, 'J_A+A_552_A124_tablee'+str(ind)+ '.dat.fits')\n",
      "    # print fname\n",
      "    _ = pyfits.open(fname)\n",
      "    banddict[filt] = Table(_[1].data)"
     ],
     "language": "python",
     "metadata": {},
     "outputs": [],
     "prompt_number": 9
    },
    {
     "cell_type": "code",
     "collapsed": false,
     "input": [
      "x = banddict['u']"
     ],
     "language": "python",
     "metadata": {},
     "outputs": [],
     "prompt_number": 18
    },
    {
     "cell_type": "code",
     "collapsed": false,
     "input": [
      "x.colnames"
     ],
     "language": "python",
     "metadata": {},
     "outputs": [
      {
       "metadata": {},
       "output_type": "pyout",
       "prompt_number": 19,
       "text": [
        "['lambda',\n",
        " 'Tr00',\n",
        " 'Tr23',\n",
        " 'Tr47',\n",
        " 'Tr70',\n",
        " 'Tr93',\n",
        " 'Tr117',\n",
        " 'Tr140',\n",
        " 'Tr163',\n",
        " 'Tr186',\n",
        " 'Tr210']"
       ]
      }
     ],
     "prompt_number": 19
    },
    {
     "cell_type": "code",
     "collapsed": false,
     "input": [
      "import utils.plotutils as pu"
     ],
     "language": "python",
     "metadata": {},
     "outputs": [],
     "prompt_number": 1
    },
    {
     "cell_type": "code",
     "collapsed": false,
     "input": [
      "help(pu.settwopanel)"
     ],
     "language": "python",
     "metadata": {},
     "outputs": [
      {
       "output_type": "stream",
       "stream": "stdout",
       "text": [
        "Help on function settwopanel in module utils.plotutils:\n",
        "\n",
        "settwopanel(height_ratios=[1.0, 0.3], width_ratios=[1.0, 0.0], padding=None, setdifflimits=[0.9, 1.1], setoffset=None, setgrid=[True, True], figsize=None)\n",
        "    returns a figure and axes for a main panel and a lower panel for \n",
        "    showing differential information of overplotted quantities in\n",
        "    the top panel. \n",
        "    args    :\n",
        "            height_ratios: list of floats, optional defaults to \n",
        "                            [1.0, 0.3]\n",
        "                    height ratio between the upper and lower panel \n",
        "    \n",
        "            width_ratios :list of floats, optional defaults to \n",
        "                            [1.0, 0.0]\n",
        "                    width ratio between the left and right  panel \n",
        "            \n",
        "            figsize: figure size  \n",
        "            setgrid : List of bools, optional, defaults to [True, True] \n",
        "                    whether to set grid on the two panels\n",
        "    \n",
        "    returns :\n",
        "            figure object , ax0 (axes for top panel) , and ax1 \n",
        "                    (axes for lower panel)\n",
        "    \n",
        "    usage   :\n",
        "            >>> myfig,  myax0 , myax1 = settwopanel ( )\n",
        "            >>> myax0.plot( x,  y) \n",
        "            >>> myax1.plot(x, x)\n",
        "            >>> myfig.tight_layout()\n",
        "    \n",
        "    status  :\n",
        "    \n",
        "            tested by \n",
        "            R. Biswas, Fri Feb 21 00:52:55 CST 2014\n",
        "\n"
       ]
      }
     ],
     "prompt_number": 2
    },
    {
     "cell_type": "code",
     "collapsed": false,
     "input": [
      "def plotbandFilter(x, limits=0.1):\n",
      "    fig, ax0, ax1 = pu.settwopanel(setdifflimits=[-limits, limits])\n",
      "    ax0.plot(x['lambda'], x['Tr00'])\n",
      "    for col in x.colnames[2:]:\n",
      "        ax0.plot(x['lambda'], x[col])\n",
      "        ax1.plot(x['lambda'], x[col] - x['Tr00'], label=col)\n",
      "        # ax0.legend(loc='best')"
     ],
     "language": "python",
     "metadata": {},
     "outputs": [],
     "prompt_number": 23
    },
    {
     "cell_type": "code",
     "collapsed": false,
     "input": [
      "plotbandFilter(banddict['z'])"
     ],
     "language": "python",
     "metadata": {},
     "outputs": [
      {
       "metadata": {},
       "output_type": "display_data",
       "png": "[encoded data removed]",
       "text": [
        "<matplotlib.figure.Figure at 0x108956090>"
       ]
      }
     ],
     "prompt_number": 22
    },
    {
     "cell_type": "code",
     "collapsed": false,
     "input": [],
     "language": "python",
     "metadata": {},
     "outputs": []
    }
   ],
   "metadata": {}
  }
 ]
}