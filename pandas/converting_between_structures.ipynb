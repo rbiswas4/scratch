{
 "metadata": {
  "name": "",
  "signature": "sha256:637217eca4ce03dd13b778c67d52ffd715848531142eafbc5cc0abf188f2eb9c"
 },
 "nbformat": 3,
 "nbformat_minor": 0,
 "worksheets": [
  {
   "cells": [
    {
     "cell_type": "code",
     "collapsed": false,
     "input": [
      "import pandas as pd\n",
      "import numpy as np"
     ],
     "language": "python",
     "metadata": {},
     "outputs": [],
     "prompt_number": 1
    },
    {
     "cell_type": "code",
     "collapsed": false,
     "input": [
      "fname = 'data/SNIaCat_0.txt'"
     ],
     "language": "python",
     "metadata": {},
     "outputs": [],
     "prompt_number": 2
    },
    {
     "cell_type": "code",
     "collapsed": false,
     "input": [
      "nploadtxt = np.loadtxt(fname, delimiter=',')"
     ],
     "language": "python",
     "metadata": {},
     "outputs": [],
     "prompt_number": 3
    },
    {
     "cell_type": "code",
     "collapsed": false,
     "input": [
      "test = pd.read_table(fname)\n",
      "test"
     ],
     "language": "python",
     "metadata": {},
     "outputs": [
      {
       "html": [
        "<div style=\"max-height:1000px;max-width:1500px;overflow:auto;\">\n",
        "<table border=\"1\" class=\"dataframe\">\n",
        "  <thead>\n",
        "    <tr style=\"text-align: right;\">\n",
        "      <th></th>\n",
        "      <th>#snid, snra, sndec, z, t0, c, x1, x0, mag_u, mag_g, mag_r, mag_i, mag_z, mag_y</th>\n",
        "    </tr>\n",
        "  </thead>\n",
        "  <tbody>\n",
        "    <tr>\n",
        "      <th>0</th>\n",
        "      <td> 5918577, 8.710861e-02, 2.616236e-01, 0.4490, 5...</td>\n",
        "    </tr>\n",
        "    <tr>\n",
        "      <th>1</th>\n",
        "      <td> 13594393, 8.733732e-02, 2.618793e-01, 1.2629, ...</td>\n",
        "    </tr>\n",
        "    <tr>\n",
        "      <th>2</th>\n",
        "      <td> 3821204, 8.739883e-02, 2.619005e-01, 1.1105, 5...</td>\n",
        "    </tr>\n",
        "    <tr>\n",
        "      <th>3</th>\n",
        "      <td> 10846664, 8.738383e-02, 2.620329e-01, 2.0446, ...</td>\n",
        "    </tr>\n",
        "    <tr>\n",
        "      <th>4</th>\n",
        "      <td> 16017454, 8.712786e-02, 2.618275e-01, 2.2612, ...</td>\n",
        "    </tr>\n",
        "  </tbody>\n",
        "</table>\n",
        "</div>"
       ],
       "metadata": {},
       "output_type": "pyout",
       "prompt_number": 35,
       "text": [
        "  #snid, snra, sndec, z, t0, c, x1, x0, mag_u, mag_g, mag_r, mag_i, mag_z, mag_y\n",
        "0  5918577, 8.710861e-02, 2.616236e-01, 0.4490, 5...                            \n",
        "1  13594393, 8.733732e-02, 2.618793e-01, 1.2629, ...                            \n",
        "2  3821204, 8.739883e-02, 2.619005e-01, 1.1105, 5...                            \n",
        "3  10846664, 8.738383e-02, 2.620329e-01, 2.0446, ...                            \n",
        "4  16017454, 8.712786e-02, 2.618275e-01, 2.2612, ...                            "
       ]
      }
     ],
     "prompt_number": 35
    },
    {
     "cell_type": "code",
     "collapsed": false,
     "input": [
      "test = pd.read_csv(fname)\n",
      "test"
     ],
     "language": "python",
     "metadata": {},
     "outputs": [
      {
       "html": [
        "<div style=\"max-height:1000px;max-width:1500px;overflow:auto;\">\n",
        "<table border=\"1\" class=\"dataframe\">\n",
        "  <thead>\n",
        "    <tr style=\"text-align: right;\">\n",
        "      <th></th>\n",
        "      <th>#snid</th>\n",
        "      <th> snra</th>\n",
        "      <th> sndec</th>\n",
        "      <th> z</th>\n",
        "      <th> t0</th>\n",
        "      <th> c</th>\n",
        "      <th> x1</th>\n",
        "      <th> x0</th>\n",
        "      <th> mag_u</th>\n",
        "      <th> mag_g</th>\n",
        "      <th> mag_r</th>\n",
        "      <th> mag_i</th>\n",
        "      <th> mag_z</th>\n",
        "      <th> mag_y</th>\n",
        "    </tr>\n",
        "  </thead>\n",
        "  <tbody>\n",
        "    <tr>\n",
        "      <th>0</th>\n",
        "      <td>  5918577</td>\n",
        "      <td> 0.087109</td>\n",
        "      <td> 0.261624</td>\n",
        "      <td> 0.4490</td>\n",
        "      <td> 570192.8643</td>\n",
        "      <td>-0.099549</td>\n",
        "      <td>-0.1006</td>\n",
        "      <td> 0.000018</td>\n",
        "      <td>      nan</td>\n",
        "      <td>      nan</td>\n",
        "      <td>      nan</td>\n",
        "      <td>  49.6068</td>\n",
        "      <td> 49.5398</td>\n",
        "      <td>  49.2356</td>\n",
        "    </tr>\n",
        "    <tr>\n",
        "      <th>1</th>\n",
        "      <td> 13594393</td>\n",
        "      <td> 0.087337</td>\n",
        "      <td> 0.261879</td>\n",
        "      <td> 1.2629</td>\n",
        "      <td> 570085.8880</td>\n",
        "      <td> 0.107433</td>\n",
        "      <td> 0.2547</td>\n",
        "      <td> 0.000001</td>\n",
        "      <td>  38.4625</td>\n",
        "      <td>      nan</td>\n",
        "      <td>  32.0033</td>\n",
        "      <td>  27.5594</td>\n",
        "      <td> 26.1978</td>\n",
        "      <td>  25.7947</td>\n",
        "    </tr>\n",
        "    <tr>\n",
        "      <th>2</th>\n",
        "      <td>  3821204</td>\n",
        "      <td> 0.087399</td>\n",
        "      <td> 0.261901</td>\n",
        "      <td> 1.1105</td>\n",
        "      <td> 570222.2549</td>\n",
        "      <td>-0.288100</td>\n",
        "      <td> 0.0545</td>\n",
        "      <td> 0.000002</td>\n",
        "      <td>      nan</td>\n",
        "      <td>      nan</td>\n",
        "      <td>      nan</td>\n",
        "      <td>      nan</td>\n",
        "      <td> 54.4758</td>\n",
        "      <td>  52.5750</td>\n",
        "    </tr>\n",
        "    <tr>\n",
        "      <th>3</th>\n",
        "      <td> 10846664</td>\n",
        "      <td> 0.087384</td>\n",
        "      <td> 0.262033</td>\n",
        "      <td> 2.0446</td>\n",
        "      <td> 570091.4752</td>\n",
        "      <td>-0.485950</td>\n",
        "      <td>-2.6855</td>\n",
        "      <td> 0.000000</td>\n",
        "      <td>      nan</td>\n",
        "      <td>      nan</td>\n",
        "      <td>  25.3452</td>\n",
        "      <td>  24.9905</td>\n",
        "      <td> 26.6688</td>\n",
        "      <td>      nan</td>\n",
        "    </tr>\n",
        "    <tr>\n",
        "      <th>4</th>\n",
        "      <td> 16017454</td>\n",
        "      <td> 0.087128</td>\n",
        "      <td> 0.261827</td>\n",
        "      <td> 2.2612</td>\n",
        "      <td> 570041.5569</td>\n",
        "      <td>-0.110505</td>\n",
        "      <td> 2.3374</td>\n",
        "      <td> 0.000000</td>\n",
        "      <td>  35.7081</td>\n",
        "      <td>  33.3824</td>\n",
        "      <td>  35.2251</td>\n",
        "      <td>      nan</td>\n",
        "      <td> 30.2884</td>\n",
        "      <td>  32.0636</td>\n",
        "    </tr>\n",
        "  </tbody>\n",
        "</table>\n",
        "</div>"
       ],
       "metadata": {},
       "output_type": "pyout",
       "prompt_number": 12,
       "text": [
        "      #snid      snra     sndec       z           t0         c      x1  \\\n",
        "0   5918577  0.087109  0.261624  0.4490  570192.8643 -0.099549 -0.1006   \n",
        "1  13594393  0.087337  0.261879  1.2629  570085.8880  0.107433  0.2547   \n",
        "2   3821204  0.087399  0.261901  1.1105  570222.2549 -0.288100  0.0545   \n",
        "3  10846664  0.087384  0.262033  2.0446  570091.4752 -0.485950 -2.6855   \n",
        "4  16017454  0.087128  0.261827  2.2612  570041.5569 -0.110505  2.3374   \n",
        "\n",
        "         x0     mag_u     mag_g     mag_r     mag_i    mag_z     mag_y  \n",
        "0  0.000018       nan       nan       nan   49.6068  49.5398   49.2356  \n",
        "1  0.000001   38.4625       nan   32.0033   27.5594  26.1978   25.7947  \n",
        "2  0.000002       nan       nan       nan       nan  54.4758   52.5750  \n",
        "3  0.000000       nan       nan   25.3452   24.9905  26.6688       nan  \n",
        "4  0.000000   35.7081   33.3824   35.2251       nan  30.2884   32.0636  "
       ]
      }
     ],
     "prompt_number": 12
    },
    {
     "cell_type": "code",
     "collapsed": false,
     "input": [
      "nprec = test.to_records()"
     ],
     "language": "python",
     "metadata": {},
     "outputs": [],
     "prompt_number": 20
    },
    {
     "cell_type": "code",
     "collapsed": false,
     "input": [
      "print nprec"
     ],
     "language": "python",
     "metadata": {},
     "outputs": [
      {
       "output_type": "stream",
       "stream": "stdout",
       "text": [
        "[ (0, 5918577, 0.08710861, 0.2616236, 0.449, 570192.8643, -0.09954857, -0.1006, 1.8035770000000002e-05, ' nan', ' nan', ' nan', ' 49.6068', 49.5398, ' 49.2356')\n",
        " (1, 13594393, 0.08733732, 0.2618793, 1.2629, 570085.888, 0.10743299999999999, 0.2547, 1.259678e-06, ' 38.4625', ' nan', ' 32.0033', ' 27.5594', 26.1978, ' 25.7947')\n",
        " (2, 3821204, 0.08739883, 0.26190050000000004, 1.1105, 570222.2549, -0.2881002, 0.0545, 1.50728e-06, ' nan', ' nan', ' nan', ' nan', 54.4758, ' 52.5750')\n",
        " (3, 10846664, 0.08738383, 0.26203289999999996, 2.0446, 570091.4752, -0.4859501, -2.6855, 1.953237e-07, ' nan', ' nan', ' 25.3452', ' 24.9905', 26.6688, ' nan')\n",
        " (4, 16017454, 0.08712786, 0.2618275, 2.2612, 570041.5569, -0.11050510000000002, 2.3374, 2.376238e-07, ' 35.7081', ' 33.3824', ' 35.2251', ' nan', 30.2884, ' 32.0636')]\n"
       ]
      }
     ],
     "prompt_number": 21
    },
    {
     "cell_type": "code",
     "collapsed": false,
     "input": [
      "from astropy.table import Table"
     ],
     "language": "python",
     "metadata": {},
     "outputs": [],
     "prompt_number": 22
    },
    {
     "cell_type": "code",
     "collapsed": false,
     "input": [
      "help(test.to_records)"
     ],
     "language": "python",
     "metadata": {},
     "outputs": [
      {
       "output_type": "stream",
       "stream": "stdout",
       "text": [
        "Help on method to_records in module pandas.core.frame:\n",
        "\n",
        "to_records(self, index=True, convert_datetime64=True) method of pandas.core.frame.DataFrame instance\n",
        "    Convert DataFrame to record array. Index will be put in the\n",
        "    'index' field of the record array if requested\n",
        "    \n",
        "    Parameters\n",
        "    ----------\n",
        "    index : boolean, default True\n",
        "        Include index in resulting record array, stored in 'index' field\n",
        "    convert_datetime64 : boolean, default True\n",
        "        Whether to convert the index to datetime.datetime if it is a\n",
        "        DatetimeIndex\n",
        "    \n",
        "    Returns\n",
        "    -------\n",
        "    y : recarray\n",
        "\n"
       ]
      }
     ],
     "prompt_number": 23
    },
    {
     "cell_type": "code",
     "collapsed": false,
     "input": [
      "test.info()"
     ],
     "language": "python",
     "metadata": {},
     "outputs": [
      {
       "output_type": "stream",
       "stream": "stdout",
       "text": [
        "<class 'pandas.core.frame.DataFrame'>\n",
        "Int64Index: 5 entries, 0 to 4\n",
        "Data columns (total 1 columns):\n",
        "#snid, snra, sndec, z, t0, c, x1, x0, mag_u, mag_g, mag_r, mag_i, mag_z, mag_y    5 non-null object\n",
        "dtypes: object(1)"
       ]
      }
     ],
     "prompt_number": 38
    },
    {
     "cell_type": "code",
     "collapsed": false,
     "input": [
      "test."
     ],
     "language": "python",
     "metadata": {},
     "outputs": [
      {
       "metadata": {},
       "output_type": "pyout",
       "prompt_number": 48,
       "text": [
        "array([[ '5918577, 8.710861e-02, 2.616236e-01, 0.4490, 570192.8643, -9.954857e-02, -0.1006, 1.803577e-05, nan, nan, nan, 49.6068, 49.5398, 49.2356'],\n",
        "       [ '13594393, 8.733732e-02, 2.618793e-01, 1.2629, 570085.8880, 1.074330e-01, 0.2547, 1.259678e-06, 38.4625, nan, 32.0033, 27.5594, 26.1978, 25.7947'],\n",
        "       [ '3821204, 8.739883e-02, 2.619005e-01, 1.1105, 570222.2549, -2.881002e-01, 0.0545, 1.507280e-06, nan, nan, nan, nan, 54.4758, 52.5750'],\n",
        "       [ '10846664, 8.738383e-02, 2.620329e-01, 2.0446, 570091.4752, -4.859501e-01, -2.6855, 1.953237e-07, nan, nan, 25.3452, 24.9905, 26.6688, nan'],\n",
        "       [ '16017454, 8.712786e-02, 2.618275e-01, 2.2612, 570041.5569, -1.105051e-01, 2.3374, 2.376238e-07, 35.7081, 33.3824, 35.2251, nan, 30.2884, 32.0636']], dtype=object)"
       ]
      }
     ],
     "prompt_number": 48
    },
    {
     "cell_type": "code",
     "collapsed": false,
     "input": [
      "tuple(test.columns.values)"
     ],
     "language": "python",
     "metadata": {},
     "outputs": [
      {
       "metadata": {},
       "output_type": "pyout",
       "prompt_number": 50,
       "text": [
        "('#snid, snra, sndec, z, t0, c, x1, x0, mag_u, mag_g, mag_r, mag_i, mag_z, mag_y',)"
       ]
      }
     ],
     "prompt_number": 50
    },
    {
     "cell_type": "code",
     "collapsed": false,
     "input": [
      "starr = np.recfromcsv('data/SNIaCat_0.txt')"
     ],
     "language": "python",
     "metadata": {},
     "outputs": [],
     "prompt_number": 51
    },
    {
     "cell_type": "code",
     "collapsed": false,
     "input": [
      "starr"
     ],
     "language": "python",
     "metadata": {},
     "outputs": [
      {
       "metadata": {},
       "output_type": "pyout",
       "prompt_number": 52,
       "text": [
        "rec.array([ (5918577, 0.08710861, 0.2616236, 0.449, 570192.8643, -0.09954857, -0.1006, 1.803577e-05, nan, nan, nan, 49.6068, 49.5398, 49.2356),\n",
        "       (13594393, 0.08733732, 0.2618793, 1.2629, 570085.888, 0.107433, 0.2547, 1.259678e-06, 38.4625, nan, 32.0033, 27.5594, 26.1978, 25.7947),\n",
        "       (3821204, 0.08739883, 0.2619005, 1.1105, 570222.2549, -0.2881002, 0.0545, 1.50728e-06, nan, nan, nan, nan, 54.4758, 52.575),\n",
        "       (10846664, 0.08738383, 0.2620329, 2.0446, 570091.4752, -0.4859501, -2.6855, 1.953237e-07, nan, nan, 25.3452, 24.9905, 26.6688, nan),\n",
        "       (16017454, 0.08712786, 0.2618275, 2.2612, 570041.5569, -0.1105051, 2.3374, 2.376238e-07, 35.7081, 33.3824, 35.2251, nan, 30.2884, 32.0636)], \n",
        "      dtype=[('snid', '<i8'), ('snra', '<f8'), ('sndec', '<f8'), ('z', '<f8'), ('t0', '<f8'), ('c', '<f8'), ('x1', '<f8'), ('x0', '<f8'), ('mag_u', '<f8'), ('mag_g', '<f8'), ('mag_r', '<f8'), ('mag_i', '<f8'), ('mag_z', '<f8'), ('mag_y', '<f8')])"
       ]
      }
     ],
     "prompt_number": 52
    },
    {
     "cell_type": "code",
     "collapsed": false,
     "input": [
      "nprec"
     ],
     "language": "python",
     "metadata": {},
     "outputs": [
      {
       "metadata": {},
       "output_type": "pyout",
       "prompt_number": 53,
       "text": [
        "rec.array([ (0, 5918577, 0.08710861, 0.2616236, 0.449, 570192.8643, -0.09954857, -0.1006, 1.8035770000000002e-05, ' nan', ' nan', ' nan', ' 49.6068', 49.5398, ' 49.2356'),\n",
        "       (1, 13594393, 0.08733732, 0.2618793, 1.2629, 570085.888, 0.10743299999999999, 0.2547, 1.259678e-06, ' 38.4625', ' nan', ' 32.0033', ' 27.5594', 26.1978, ' 25.7947'),\n",
        "       (2, 3821204, 0.08739883, 0.26190050000000004, 1.1105, 570222.2549, -0.2881002, 0.0545, 1.50728e-06, ' nan', ' nan', ' nan', ' nan', 54.4758, ' 52.5750'),\n",
        "       (3, 10846664, 0.08738383, 0.26203289999999996, 2.0446, 570091.4752, -0.4859501, -2.6855, 1.953237e-07, ' nan', ' nan', ' 25.3452', ' 24.9905', 26.6688, ' nan'),\n",
        "       (4, 16017454, 0.08712786, 0.2618275, 2.2612, 570041.5569, -0.11050510000000002, 2.3374, 2.376238e-07, ' 35.7081', ' 33.3824', ' 35.2251', ' nan', 30.2884, ' 32.0636')], \n",
        "      dtype=[('index', '<i8'), ('#snid', '<i8'), (' snra', '<f8'), (' sndec', '<f8'), (' z', '<f8'), (' t0', '<f8'), (' c', '<f8'), (' x1', '<f8'), (' x0', '<f8'), (' mag_u', 'O'), (' mag_g', 'O'), (' mag_r', 'O'), (' mag_i', 'O'), (' mag_z', '<f8'), (' mag_y', 'O')])"
       ]
      }
     ],
     "prompt_number": 53
    },
    {
     "cell_type": "code",
     "collapsed": false,
     "input": [
      "from astropy.table import Table"
     ],
     "language": "python",
     "metadata": {},
     "outputs": [],
     "prompt_number": 54
    },
    {
     "cell_type": "code",
     "collapsed": false,
     "input": [
      "atable = Table(nprec)"
     ],
     "language": "python",
     "metadata": {},
     "outputs": [],
     "prompt_number": 56
    },
    {
     "cell_type": "code",
     "collapsed": false,
     "input": [
      "np.asarray(atable)"
     ],
     "language": "python",
     "metadata": {},
     "outputs": [
      {
       "metadata": {},
       "output_type": "pyout",
       "prompt_number": 57,
       "text": [
        "array([ (0, 5918577, 0.08710861, 0.2616236, 0.449, 570192.8643, -0.09954857, -0.1006, 1.8035770000000002e-05, ' nan', ' nan', ' nan', ' 49.6068', 49.5398, ' 49.2356'),\n",
        "       (1, 13594393, 0.08733732, 0.2618793, 1.2629, 570085.888, 0.10743299999999999, 0.2547, 1.259678e-06, ' 38.4625', ' nan', ' 32.0033', ' 27.5594', 26.1978, ' 25.7947'),\n",
        "       (2, 3821204, 0.08739883, 0.26190050000000004, 1.1105, 570222.2549, -0.2881002, 0.0545, 1.50728e-06, ' nan', ' nan', ' nan', ' nan', 54.4758, ' 52.5750'),\n",
        "       (3, 10846664, 0.08738383, 0.26203289999999996, 2.0446, 570091.4752, -0.4859501, -2.6855, 1.953237e-07, ' nan', ' nan', ' 25.3452', ' 24.9905', 26.6688, ' nan'),\n",
        "       (4, 16017454, 0.08712786, 0.2618275, 2.2612, 570041.5569, -0.11050510000000002, 2.3374, 2.376238e-07, ' 35.7081', ' 33.3824', ' 35.2251', ' nan', 30.2884, ' 32.0636')], \n",
        "      dtype=[('index', '<i8'), ('#snid', '<i8'), (' snra', '<f8'), (' sndec', '<f8'), (' z', '<f8'), (' t0', '<f8'), (' c', '<f8'), (' x1', '<f8'), (' x0', '<f8'), (' mag_u', 'O'), (' mag_g', 'O'), (' mag_r', 'O'), (' mag_i', 'O'), (' mag_z', '<f8'), (' mag_y', 'O')])"
       ]
      }
     ],
     "prompt_number": 57
    },
    {
     "cell_type": "code",
     "collapsed": false,
     "input": [
      "newdf = pd.DataFrame.from_records(np.asarray(atable))"
     ],
     "language": "python",
     "metadata": {},
     "outputs": [],
     "prompt_number": 58
    },
    {
     "cell_type": "code",
     "collapsed": false,
     "input": [
      "newdf"
     ],
     "language": "python",
     "metadata": {},
     "outputs": [
      {
       "html": [
        "<div style=\"max-height:1000px;max-width:1500px;overflow:auto;\">\n",
        "<table border=\"1\" class=\"dataframe\">\n",
        "  <thead>\n",
        "    <tr style=\"text-align: right;\">\n",
        "      <th></th>\n",
        "      <th>index</th>\n",
        "      <th>#snid</th>\n",
        "      <th> snra</th>\n",
        "      <th> sndec</th>\n",
        "      <th> z</th>\n",
        "      <th> t0</th>\n",
        "      <th> c</th>\n",
        "      <th> x1</th>\n",
        "      <th> x0</th>\n",
        "      <th> mag_u</th>\n",
        "      <th> mag_g</th>\n",
        "      <th> mag_r</th>\n",
        "      <th> mag_i</th>\n",
        "      <th> mag_z</th>\n",
        "      <th> mag_y</th>\n",
        "    </tr>\n",
        "  </thead>\n",
        "  <tbody>\n",
        "    <tr>\n",
        "      <th>0</th>\n",
        "      <td> 0</td>\n",
        "      <td>  5918577</td>\n",
        "      <td> 0.087109</td>\n",
        "      <td> 0.261624</td>\n",
        "      <td> 0.4490</td>\n",
        "      <td> 570192.8643</td>\n",
        "      <td>-0.099549</td>\n",
        "      <td>-0.1006</td>\n",
        "      <td> 0.000018</td>\n",
        "      <td>      nan</td>\n",
        "      <td>      nan</td>\n",
        "      <td>      nan</td>\n",
        "      <td>  49.6068</td>\n",
        "      <td> 49.5398</td>\n",
        "      <td>  49.2356</td>\n",
        "    </tr>\n",
        "    <tr>\n",
        "      <th>1</th>\n",
        "      <td> 1</td>\n",
        "      <td> 13594393</td>\n",
        "      <td> 0.087337</td>\n",
        "      <td> 0.261879</td>\n",
        "      <td> 1.2629</td>\n",
        "      <td> 570085.8880</td>\n",
        "      <td> 0.107433</td>\n",
        "      <td> 0.2547</td>\n",
        "      <td> 0.000001</td>\n",
        "      <td>  38.4625</td>\n",
        "      <td>      nan</td>\n",
        "      <td>  32.0033</td>\n",
        "      <td>  27.5594</td>\n",
        "      <td> 26.1978</td>\n",
        "      <td>  25.7947</td>\n",
        "    </tr>\n",
        "    <tr>\n",
        "      <th>2</th>\n",
        "      <td> 2</td>\n",
        "      <td>  3821204</td>\n",
        "      <td> 0.087399</td>\n",
        "      <td> 0.261901</td>\n",
        "      <td> 1.1105</td>\n",
        "      <td> 570222.2549</td>\n",
        "      <td>-0.288100</td>\n",
        "      <td> 0.0545</td>\n",
        "      <td> 0.000002</td>\n",
        "      <td>      nan</td>\n",
        "      <td>      nan</td>\n",
        "      <td>      nan</td>\n",
        "      <td>      nan</td>\n",
        "      <td> 54.4758</td>\n",
        "      <td>  52.5750</td>\n",
        "    </tr>\n",
        "    <tr>\n",
        "      <th>3</th>\n",
        "      <td> 3</td>\n",
        "      <td> 10846664</td>\n",
        "      <td> 0.087384</td>\n",
        "      <td> 0.262033</td>\n",
        "      <td> 2.0446</td>\n",
        "      <td> 570091.4752</td>\n",
        "      <td>-0.485950</td>\n",
        "      <td>-2.6855</td>\n",
        "      <td> 0.000000</td>\n",
        "      <td>      nan</td>\n",
        "      <td>      nan</td>\n",
        "      <td>  25.3452</td>\n",
        "      <td>  24.9905</td>\n",
        "      <td> 26.6688</td>\n",
        "      <td>      nan</td>\n",
        "    </tr>\n",
        "    <tr>\n",
        "      <th>4</th>\n",
        "      <td> 4</td>\n",
        "      <td> 16017454</td>\n",
        "      <td> 0.087128</td>\n",
        "      <td> 0.261827</td>\n",
        "      <td> 2.2612</td>\n",
        "      <td> 570041.5569</td>\n",
        "      <td>-0.110505</td>\n",
        "      <td> 2.3374</td>\n",
        "      <td> 0.000000</td>\n",
        "      <td>  35.7081</td>\n",
        "      <td>  33.3824</td>\n",
        "      <td>  35.2251</td>\n",
        "      <td>      nan</td>\n",
        "      <td> 30.2884</td>\n",
        "      <td>  32.0636</td>\n",
        "    </tr>\n",
        "  </tbody>\n",
        "</table>\n",
        "</div>"
       ],
       "metadata": {},
       "output_type": "pyout",
       "prompt_number": 59,
       "text": [
        "   index     #snid      snra     sndec       z           t0         c      x1  \\\n",
        "0      0   5918577  0.087109  0.261624  0.4490  570192.8643 -0.099549 -0.1006   \n",
        "1      1  13594393  0.087337  0.261879  1.2629  570085.8880  0.107433  0.2547   \n",
        "2      2   3821204  0.087399  0.261901  1.1105  570222.2549 -0.288100  0.0545   \n",
        "3      3  10846664  0.087384  0.262033  2.0446  570091.4752 -0.485950 -2.6855   \n",
        "4      4  16017454  0.087128  0.261827  2.2612  570041.5569 -0.110505  2.3374   \n",
        "\n",
        "         x0     mag_u     mag_g     mag_r     mag_i    mag_z     mag_y  \n",
        "0  0.000018       nan       nan       nan   49.6068  49.5398   49.2356  \n",
        "1  0.000001   38.4625       nan   32.0033   27.5594  26.1978   25.7947  \n",
        "2  0.000002       nan       nan       nan       nan  54.4758   52.5750  \n",
        "3  0.000000       nan       nan   25.3452   24.9905  26.6688       nan  \n",
        "4  0.000000   35.7081   33.3824   35.2251       nan  30.2884   32.0636  "
       ]
      }
     ],
     "prompt_number": 59
    },
    {
     "cell_type": "code",
     "collapsed": false,
     "input": [
      "df = pd.DataFrame.from_records(starr)"
     ],
     "language": "python",
     "metadata": {},
     "outputs": [],
     "prompt_number": 60
    },
    {
     "cell_type": "code",
     "collapsed": false,
     "input": [
      "df"
     ],
     "language": "python",
     "metadata": {},
     "outputs": [
      {
       "html": [
        "<div style=\"max-height:1000px;max-width:1500px;overflow:auto;\">\n",
        "<table border=\"1\" class=\"dataframe\">\n",
        "  <thead>\n",
        "    <tr style=\"text-align: right;\">\n",
        "      <th></th>\n",
        "      <th>snid</th>\n",
        "      <th>snra</th>\n",
        "      <th>sndec</th>\n",
        "      <th>z</th>\n",
        "      <th>t0</th>\n",
        "      <th>c</th>\n",
        "      <th>x1</th>\n",
        "      <th>x0</th>\n",
        "      <th>mag_u</th>\n",
        "      <th>mag_g</th>\n",
        "      <th>mag_r</th>\n",
        "      <th>mag_i</th>\n",
        "      <th>mag_z</th>\n",
        "      <th>mag_y</th>\n",
        "    </tr>\n",
        "  </thead>\n",
        "  <tbody>\n",
        "    <tr>\n",
        "      <th>0</th>\n",
        "      <td>  5918577</td>\n",
        "      <td> 0.087109</td>\n",
        "      <td> 0.261624</td>\n",
        "      <td> 0.4490</td>\n",
        "      <td> 570192.8643</td>\n",
        "      <td>-0.099549</td>\n",
        "      <td>-0.1006</td>\n",
        "      <td> 0.000018</td>\n",
        "      <td>     NaN</td>\n",
        "      <td>     NaN</td>\n",
        "      <td>     NaN</td>\n",
        "      <td> 49.6068</td>\n",
        "      <td> 49.5398</td>\n",
        "      <td> 49.2356</td>\n",
        "    </tr>\n",
        "    <tr>\n",
        "      <th>1</th>\n",
        "      <td> 13594393</td>\n",
        "      <td> 0.087337</td>\n",
        "      <td> 0.261879</td>\n",
        "      <td> 1.2629</td>\n",
        "      <td> 570085.8880</td>\n",
        "      <td> 0.107433</td>\n",
        "      <td> 0.2547</td>\n",
        "      <td> 0.000001</td>\n",
        "      <td> 38.4625</td>\n",
        "      <td>     NaN</td>\n",
        "      <td> 32.0033</td>\n",
        "      <td> 27.5594</td>\n",
        "      <td> 26.1978</td>\n",
        "      <td> 25.7947</td>\n",
        "    </tr>\n",
        "    <tr>\n",
        "      <th>2</th>\n",
        "      <td>  3821204</td>\n",
        "      <td> 0.087399</td>\n",
        "      <td> 0.261900</td>\n",
        "      <td> 1.1105</td>\n",
        "      <td> 570222.2549</td>\n",
        "      <td>-0.288100</td>\n",
        "      <td> 0.0545</td>\n",
        "      <td> 0.000002</td>\n",
        "      <td>     NaN</td>\n",
        "      <td>     NaN</td>\n",
        "      <td>     NaN</td>\n",
        "      <td>     NaN</td>\n",
        "      <td> 54.4758</td>\n",
        "      <td> 52.5750</td>\n",
        "    </tr>\n",
        "    <tr>\n",
        "      <th>3</th>\n",
        "      <td> 10846664</td>\n",
        "      <td> 0.087384</td>\n",
        "      <td> 0.262033</td>\n",
        "      <td> 2.0446</td>\n",
        "      <td> 570091.4752</td>\n",
        "      <td>-0.485950</td>\n",
        "      <td>-2.6855</td>\n",
        "      <td> 0.000000</td>\n",
        "      <td>     NaN</td>\n",
        "      <td>     NaN</td>\n",
        "      <td> 25.3452</td>\n",
        "      <td> 24.9905</td>\n",
        "      <td> 26.6688</td>\n",
        "      <td>     NaN</td>\n",
        "    </tr>\n",
        "    <tr>\n",
        "      <th>4</th>\n",
        "      <td> 16017454</td>\n",
        "      <td> 0.087128</td>\n",
        "      <td> 0.261827</td>\n",
        "      <td> 2.2612</td>\n",
        "      <td> 570041.5569</td>\n",
        "      <td>-0.110505</td>\n",
        "      <td> 2.3374</td>\n",
        "      <td> 0.000000</td>\n",
        "      <td> 35.7081</td>\n",
        "      <td> 33.3824</td>\n",
        "      <td> 35.2251</td>\n",
        "      <td>     NaN</td>\n",
        "      <td> 30.2884</td>\n",
        "      <td> 32.0636</td>\n",
        "    </tr>\n",
        "  </tbody>\n",
        "</table>\n",
        "</div>"
       ],
       "metadata": {},
       "output_type": "pyout",
       "prompt_number": 61,
       "text": [
        "       snid      snra     sndec       z           t0         c      x1  \\\n",
        "0   5918577  0.087109  0.261624  0.4490  570192.8643 -0.099549 -0.1006   \n",
        "1  13594393  0.087337  0.261879  1.2629  570085.8880  0.107433  0.2547   \n",
        "2   3821204  0.087399  0.261900  1.1105  570222.2549 -0.288100  0.0545   \n",
        "3  10846664  0.087384  0.262033  2.0446  570091.4752 -0.485950 -2.6855   \n",
        "4  16017454  0.087128  0.261827  2.2612  570041.5569 -0.110505  2.3374   \n",
        "\n",
        "         x0    mag_u    mag_g    mag_r    mag_i    mag_z    mag_y  \n",
        "0  0.000018      NaN      NaN      NaN  49.6068  49.5398  49.2356  \n",
        "1  0.000001  38.4625      NaN  32.0033  27.5594  26.1978  25.7947  \n",
        "2  0.000002      NaN      NaN      NaN      NaN  54.4758  52.5750  \n",
        "3  0.000000      NaN      NaN  25.3452  24.9905  26.6688      NaN  \n",
        "4  0.000000  35.7081  33.3824  35.2251      NaN  30.2884  32.0636  "
       ]
      }
     ],
     "prompt_number": 61
    },
    {
     "cell_type": "code",
     "collapsed": false,
     "input": [
      "x.info()"
     ],
     "language": "python",
     "metadata": {},
     "outputs": [
      {
       "ename": "NameError",
       "evalue": "name 'x' is not defined",
       "output_type": "pyerr",
       "traceback": [
        "\u001b[0;31m---------------------------------------------------------------------------\u001b[0m\n\u001b[0;31mNameError\u001b[0m                                 Traceback (most recent call last)",
        "\u001b[0;32m<ipython-input-1-9043c2720441>\u001b[0m in \u001b[0;36m<module>\u001b[0;34m()\u001b[0m\n\u001b[0;32m----> 1\u001b[0;31m \u001b[0mx\u001b[0m\u001b[0;34m.\u001b[0m\u001b[0minfo\u001b[0m\u001b[0;34m(\u001b[0m\u001b[0;34m)\u001b[0m\u001b[0;34m\u001b[0m\u001b[0m\n\u001b[0m",
        "\u001b[0;31mNameError\u001b[0m: name 'x' is not defined"
       ]
      }
     ],
     "prompt_number": 1
    },
    {
     "cell_type": "code",
     "collapsed": false,
     "input": [
      "import numpy as np\n",
      "x = np.array([2.3, 1.2, 5.4], dtype=object)"
     ],
     "language": "python",
     "metadata": {},
     "outputs": [],
     "prompt_number": 6
    },
    {
     "cell_type": "code",
     "collapsed": false,
     "input": [
      "x.dtype"
     ],
     "language": "python",
     "metadata": {},
     "outputs": [
      {
       "metadata": {},
       "output_type": "pyout",
       "prompt_number": 8,
       "text": [
        "dtype('O')"
       ]
      }
     ],
     "prompt_number": 8
    },
    {
     "cell_type": "code",
     "collapsed": false,
     "input": [
      "x[0] = '2.3'"
     ],
     "language": "python",
     "metadata": {},
     "outputs": [],
     "prompt_number": 9
    },
    {
     "cell_type": "code",
     "collapsed": false,
     "input": [
      "x"
     ],
     "language": "python",
     "metadata": {},
     "outputs": [
      {
       "metadata": {},
       "output_type": "pyout",
       "prompt_number": 10,
       "text": [
        "array(['2.3', 1.2, 5.4], dtype=object)"
       ]
      }
     ],
     "prompt_number": 10
    },
    {
     "cell_type": "code",
     "collapsed": false,
     "input": [],
     "language": "python",
     "metadata": {},
     "outputs": []
    }
   ],
   "metadata": {}
  }
 ]
}