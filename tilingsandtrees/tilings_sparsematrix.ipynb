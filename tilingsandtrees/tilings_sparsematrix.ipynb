{
 "cells": [
  {
   "cell_type": "code",
   "execution_count": 1,
   "metadata": {
    "collapsed": true
   },
   "outputs": [],
   "source": [
    "from __future__ import division"
   ]
  },
  {
   "cell_type": "code",
   "execution_count": 2,
   "metadata": {
    "collapsed": true
   },
   "outputs": [],
   "source": [
    "import numpy as np"
   ]
  },
  {
   "cell_type": "code",
   "execution_count": 3,
   "metadata": {
    "collapsed": true
   },
   "outputs": [],
   "source": [
    "import healpy as hp\n",
    "from healpy import query_disc, query_polygon"
   ]
  },
  {
   "cell_type": "code",
   "execution_count": 4,
   "metadata": {
    "collapsed": false
   },
   "outputs": [
    {
     "name": "stderr",
     "output_type": "stream",
     "text": [
      "/usr/local/manual/anaconda/lib/python2.7/site-packages/matplotlib/__init__.py:872: UserWarning: axes.color_cycle is deprecated and replaced with axes.prop_cycle; please use the latter.\n",
      "  warnings.warn(self.msg_depr % (key, alt_key))\n"
     ]
    }
   ],
   "source": [
    "%matplotlib inline\n",
    "import matplotlib.pyplot as plt\n",
    "import seaborn as sns\n",
    "sns.set()"
   ]
  },
  {
   "cell_type": "code",
   "execution_count": 5,
   "metadata": {
    "collapsed": true
   },
   "outputs": [],
   "source": [
    "import opsimsummary as oss"
   ]
  },
  {
   "cell_type": "code",
   "execution_count": 6,
   "metadata": {
    "collapsed": true
   },
   "outputs": [],
   "source": [
    "import pandas as pd"
   ]
  },
  {
   "cell_type": "code",
   "execution_count": 7,
   "metadata": {
    "collapsed": true
   },
   "outputs": [],
   "source": [
    "from sqlalchemy import create_engine"
   ]
  },
  {
   "cell_type": "code",
   "execution_count": 8,
   "metadata": {
    "collapsed": true
   },
   "outputs": [],
   "source": [
    "import time"
   ]
  },
  {
   "cell_type": "markdown",
   "metadata": {},
   "source": [
    "dbname = '/Users/rbiswas/data/LSST/OpSimData/minion_1016_sqlite.db'\n",
    "engine = create_engine('sqlite:///' + dbname)\n",
    "DD = 54\n",
    "WFD = 56\n",
    "OpSim_combined = pd.read_sql_query('SELECT * FROM SUMMARY WHERE PROPID in ({0}, {1})'.format(DD, WFD) , engine, \n",
    "                                   index_col='obsHistID')\n",
    "OpSim_combined.reset_index(inplace=True)\n",
    "OpSim_combined = OpSim_combined.drop_duplicates('obsHistID')\n",
    "assert len(OpSim_combined) == OpSim_combined.obsHistID.unique().size\n",
    "OpSim_combined.set_index('obsHistID', inplace=True)')\n",
    "OpSim_combined.to_hdf('/Users/rbiswas/data/LSST/OpSimData/minion_1016.hdf', 'Table')"
   ]
  },
  {
   "cell_type": "code",
   "execution_count": 9,
   "metadata": {
    "collapsed": true
   },
   "outputs": [],
   "source": [
    "OpSim_combined = pd.read_hdf('/Users/rbiswas/data/LSST/OpSimData/minion_1016.hdf', 'Table')"
   ]
  },
  {
   "cell_type": "code",
   "execution_count": 10,
   "metadata": {
    "collapsed": false
   },
   "outputs": [],
   "source": [
    "assert OpSim_combined.propID.unique().all() == np.array([54, 56]).all()"
   ]
  },
  {
   "cell_type": "code",
   "execution_count": 11,
   "metadata": {
    "collapsed": false
   },
   "outputs": [
    {
     "data": {
      "text/html": [
       "<div>\n",
       "<table border=\"1\" class=\"dataframe\">\n",
       "  <thead>\n",
       "    <tr style=\"text-align: right;\">\n",
       "      <th></th>\n",
       "      <th>obsHistID</th>\n",
       "      <th>sessionID</th>\n",
       "      <th>propID</th>\n",
       "      <th>fieldID</th>\n",
       "      <th>fieldRA</th>\n",
       "      <th>fieldDec</th>\n",
       "      <th>filter</th>\n",
       "      <th>expDate</th>\n",
       "      <th>expMJD</th>\n",
       "      <th>night</th>\n",
       "      <th>...</th>\n",
       "      <th>moonBright</th>\n",
       "      <th>darkBright</th>\n",
       "      <th>rawSeeing</th>\n",
       "      <th>wind</th>\n",
       "      <th>humidity</th>\n",
       "      <th>slewDist</th>\n",
       "      <th>slewTime</th>\n",
       "      <th>fiveSigmaDepth</th>\n",
       "      <th>ditheredRA</th>\n",
       "      <th>ditheredDec</th>\n",
       "    </tr>\n",
       "  </thead>\n",
       "  <tbody>\n",
       "    <tr>\n",
       "      <th>0</th>\n",
       "      <td>1</td>\n",
       "      <td>1016</td>\n",
       "      <td>54</td>\n",
       "      <td>316</td>\n",
       "      <td>1.676483</td>\n",
       "      <td>-1.082473</td>\n",
       "      <td>y</td>\n",
       "      <td>2922</td>\n",
       "      <td>59580.033829</td>\n",
       "      <td>0</td>\n",
       "      <td>...</td>\n",
       "      <td>0.000000</td>\n",
       "      <td>105.610378</td>\n",
       "      <td>0.920473</td>\n",
       "      <td>0</td>\n",
       "      <td>0</td>\n",
       "      <td>1.620307</td>\n",
       "      <td>0.000000</td>\n",
       "      <td>21.021236</td>\n",
       "      <td>1.643930</td>\n",
       "      <td>-1.108924</td>\n",
       "    </tr>\n",
       "    <tr>\n",
       "      <th>1</th>\n",
       "      <td>2</td>\n",
       "      <td>1016</td>\n",
       "      <td>54</td>\n",
       "      <td>372</td>\n",
       "      <td>1.694120</td>\n",
       "      <td>-1.033972</td>\n",
       "      <td>y</td>\n",
       "      <td>2961</td>\n",
       "      <td>59580.034275</td>\n",
       "      <td>0</td>\n",
       "      <td>...</td>\n",
       "      <td>0.000000</td>\n",
       "      <td>105.167017</td>\n",
       "      <td>0.920473</td>\n",
       "      <td>0</td>\n",
       "      <td>0</td>\n",
       "      <td>0.049266</td>\n",
       "      <td>4.574944</td>\n",
       "      <td>21.026646</td>\n",
       "      <td>1.664257</td>\n",
       "      <td>-1.060423</td>\n",
       "    </tr>\n",
       "    <tr>\n",
       "      <th>2</th>\n",
       "      <td>3</td>\n",
       "      <td>1016</td>\n",
       "      <td>54</td>\n",
       "      <td>441</td>\n",
       "      <td>1.708513</td>\n",
       "      <td>-0.985271</td>\n",
       "      <td>y</td>\n",
       "      <td>2999</td>\n",
       "      <td>59580.034722</td>\n",
       "      <td>0</td>\n",
       "      <td>...</td>\n",
       "      <td>0.000000</td>\n",
       "      <td>104.849578</td>\n",
       "      <td>0.920473</td>\n",
       "      <td>0</td>\n",
       "      <td>0</td>\n",
       "      <td>0.049298</td>\n",
       "      <td>4.595615</td>\n",
       "      <td>21.030520</td>\n",
       "      <td>1.680878</td>\n",
       "      <td>-1.011722</td>\n",
       "    </tr>\n",
       "    <tr>\n",
       "      <th>3</th>\n",
       "      <td>4</td>\n",
       "      <td>1016</td>\n",
       "      <td>54</td>\n",
       "      <td>505</td>\n",
       "      <td>1.720374</td>\n",
       "      <td>-0.936476</td>\n",
       "      <td>y</td>\n",
       "      <td>3038</td>\n",
       "      <td>59580.035169</td>\n",
       "      <td>0</td>\n",
       "      <td>...</td>\n",
       "      <td>0.000000</td>\n",
       "      <td>104.669398</td>\n",
       "      <td>0.920473</td>\n",
       "      <td>0</td>\n",
       "      <td>0</td>\n",
       "      <td>0.049266</td>\n",
       "      <td>4.605366</td>\n",
       "      <td>21.032718</td>\n",
       "      <td>1.694604</td>\n",
       "      <td>-0.962927</td>\n",
       "    </tr>\n",
       "    <tr>\n",
       "      <th>4</th>\n",
       "      <td>5</td>\n",
       "      <td>1016</td>\n",
       "      <td>54</td>\n",
       "      <td>587</td>\n",
       "      <td>1.730248</td>\n",
       "      <td>-0.887672</td>\n",
       "      <td>y</td>\n",
       "      <td>3077</td>\n",
       "      <td>59580.035616</td>\n",
       "      <td>0</td>\n",
       "      <td>...</td>\n",
       "      <td>0.000000</td>\n",
       "      <td>104.627207</td>\n",
       "      <td>0.920473</td>\n",
       "      <td>0</td>\n",
       "      <td>0</td>\n",
       "      <td>0.049177</td>\n",
       "      <td>4.604023</td>\n",
       "      <td>21.033233</td>\n",
       "      <td>1.706054</td>\n",
       "      <td>-0.914123</td>\n",
       "    </tr>\n",
       "    <tr>\n",
       "      <th>5</th>\n",
       "      <td>6</td>\n",
       "      <td>1016</td>\n",
       "      <td>54</td>\n",
       "      <td>680</td>\n",
       "      <td>1.738574</td>\n",
       "      <td>-0.838921</td>\n",
       "      <td>y</td>\n",
       "      <td>3115</td>\n",
       "      <td>59580.036062</td>\n",
       "      <td>0</td>\n",
       "      <td>...</td>\n",
       "      <td>0.000000</td>\n",
       "      <td>104.725606</td>\n",
       "      <td>0.920473</td>\n",
       "      <td>0</td>\n",
       "      <td>0</td>\n",
       "      <td>0.049050</td>\n",
       "      <td>4.592226</td>\n",
       "      <td>21.032033</td>\n",
       "      <td>1.715721</td>\n",
       "      <td>-0.865372</td>\n",
       "    </tr>\n",
       "    <tr>\n",
       "      <th>6</th>\n",
       "      <td>7</td>\n",
       "      <td>1016</td>\n",
       "      <td>54</td>\n",
       "      <td>770</td>\n",
       "      <td>1.745690</td>\n",
       "      <td>-0.790249</td>\n",
       "      <td>y</td>\n",
       "      <td>3154</td>\n",
       "      <td>59580.036509</td>\n",
       "      <td>0</td>\n",
       "      <td>...</td>\n",
       "      <td>0.000000</td>\n",
       "      <td>104.967791</td>\n",
       "      <td>0.920473</td>\n",
       "      <td>0</td>\n",
       "      <td>0</td>\n",
       "      <td>0.048916</td>\n",
       "      <td>4.571504</td>\n",
       "      <td>21.029077</td>\n",
       "      <td>1.723987</td>\n",
       "      <td>-0.816700</td>\n",
       "    </tr>\n",
       "    <tr>\n",
       "      <th>7</th>\n",
       "      <td>8</td>\n",
       "      <td>1016</td>\n",
       "      <td>54</td>\n",
       "      <td>857</td>\n",
       "      <td>1.751878</td>\n",
       "      <td>-0.741640</td>\n",
       "      <td>y</td>\n",
       "      <td>3192</td>\n",
       "      <td>59580.036955</td>\n",
       "      <td>0</td>\n",
       "      <td>...</td>\n",
       "      <td>0.000000</td>\n",
       "      <td>105.357944</td>\n",
       "      <td>0.920473</td>\n",
       "      <td>0</td>\n",
       "      <td>0</td>\n",
       "      <td>0.048813</td>\n",
       "      <td>4.543796</td>\n",
       "      <td>21.024316</td>\n",
       "      <td>1.731166</td>\n",
       "      <td>-0.768091</td>\n",
       "    </tr>\n",
       "    <tr>\n",
       "      <th>8</th>\n",
       "      <td>9</td>\n",
       "      <td>1016</td>\n",
       "      <td>54</td>\n",
       "      <td>957</td>\n",
       "      <td>1.757386</td>\n",
       "      <td>-0.693017</td>\n",
       "      <td>y</td>\n",
       "      <td>3231</td>\n",
       "      <td>59580.037401</td>\n",
       "      <td>0</td>\n",
       "      <td>...</td>\n",
       "      <td>0.000000</td>\n",
       "      <td>105.906574</td>\n",
       "      <td>0.920473</td>\n",
       "      <td>0</td>\n",
       "      <td>0</td>\n",
       "      <td>0.048800</td>\n",
       "      <td>4.511985</td>\n",
       "      <td>21.017621</td>\n",
       "      <td>1.737535</td>\n",
       "      <td>-0.719468</td>\n",
       "    </tr>\n",
       "    <tr>\n",
       "      <th>9</th>\n",
       "      <td>10</td>\n",
       "      <td>1016</td>\n",
       "      <td>54</td>\n",
       "      <td>1021</td>\n",
       "      <td>1.700932</td>\n",
       "      <td>-0.658150</td>\n",
       "      <td>y</td>\n",
       "      <td>3270</td>\n",
       "      <td>59580.037847</td>\n",
       "      <td>0</td>\n",
       "      <td>...</td>\n",
       "      <td>0.000000</td>\n",
       "      <td>102.700018</td>\n",
       "      <td>0.920473</td>\n",
       "      <td>0</td>\n",
       "      <td>0</td>\n",
       "      <td>0.056177</td>\n",
       "      <td>4.607643</td>\n",
       "      <td>21.056753</td>\n",
       "      <td>1.681628</td>\n",
       "      <td>-0.684601</td>\n",
       "    </tr>\n",
       "    <tr>\n",
       "      <th>10</th>\n",
       "      <td>11</td>\n",
       "      <td>1016</td>\n",
       "      <td>54</td>\n",
       "      <td>1110</td>\n",
       "      <td>1.651280</td>\n",
       "      <td>-0.618574</td>\n",
       "      <td>y</td>\n",
       "      <td>3308</td>\n",
       "      <td>59580.038293</td>\n",
       "      <td>0</td>\n",
       "      <td>...</td>\n",
       "      <td>0.000000</td>\n",
       "      <td>100.125895</td>\n",
       "      <td>0.903960</td>\n",
       "      <td>0</td>\n",
       "      <td>0</td>\n",
       "      <td>0.056173</td>\n",
       "      <td>4.499824</td>\n",
       "      <td>21.103635</td>\n",
       "      <td>1.632535</td>\n",
       "      <td>-0.645025</td>\n",
       "    </tr>\n",
       "    <tr>\n",
       "      <th>11</th>\n",
       "      <td>12</td>\n",
       "      <td>1016</td>\n",
       "      <td>54</td>\n",
       "      <td>1212</td>\n",
       "      <td>1.608166</td>\n",
       "      <td>-0.575819</td>\n",
       "      <td>y</td>\n",
       "      <td>3347</td>\n",
       "      <td>59580.038741</td>\n",
       "      <td>0</td>\n",
       "      <td>...</td>\n",
       "      <td>0.000000</td>\n",
       "      <td>98.109397</td>\n",
       "      <td>0.903960</td>\n",
       "      <td>0</td>\n",
       "      <td>0</td>\n",
       "      <td>0.055665</td>\n",
       "      <td>4.739998</td>\n",
       "      <td>21.128319</td>\n",
       "      <td>1.589958</td>\n",
       "      <td>-0.602270</td>\n",
       "    </tr>\n",
       "    <tr>\n",
       "      <th>12</th>\n",
       "      <td>13</td>\n",
       "      <td>1016</td>\n",
       "      <td>54</td>\n",
       "      <td>1220</td>\n",
       "      <td>1.664386</td>\n",
       "      <td>-0.566519</td>\n",
       "      <td>y</td>\n",
       "      <td>3386</td>\n",
       "      <td>59580.039190</td>\n",
       "      <td>0</td>\n",
       "      <td>...</td>\n",
       "      <td>0.000000</td>\n",
       "      <td>101.147431</td>\n",
       "      <td>0.903960</td>\n",
       "      <td>0</td>\n",
       "      <td>0</td>\n",
       "      <td>0.048200</td>\n",
       "      <td>4.776511</td>\n",
       "      <td>21.091149</td>\n",
       "      <td>1.646286</td>\n",
       "      <td>-0.592970</td>\n",
       "    </tr>\n",
       "    <tr>\n",
       "      <th>13</th>\n",
       "      <td>14</td>\n",
       "      <td>1016</td>\n",
       "      <td>54</td>\n",
       "      <td>1118</td>\n",
       "      <td>1.709686</td>\n",
       "      <td>-0.607725</td>\n",
       "      <td>y</td>\n",
       "      <td>3424</td>\n",
       "      <td>59580.039637</td>\n",
       "      <td>0</td>\n",
       "      <td>...</td>\n",
       "      <td>0.000000</td>\n",
       "      <td>103.104582</td>\n",
       "      <td>0.903960</td>\n",
       "      <td>0</td>\n",
       "      <td>0</td>\n",
       "      <td>0.055856</td>\n",
       "      <td>4.599568</td>\n",
       "      <td>21.067249</td>\n",
       "      <td>1.691083</td>\n",
       "      <td>-0.634176</td>\n",
       "    </tr>\n",
       "    <tr>\n",
       "      <th>14</th>\n",
       "      <td>15</td>\n",
       "      <td>1016</td>\n",
       "      <td>54</td>\n",
       "      <td>1064</td>\n",
       "      <td>1.762505</td>\n",
       "      <td>-0.644202</td>\n",
       "      <td>y</td>\n",
       "      <td>3463</td>\n",
       "      <td>59580.040083</td>\n",
       "      <td>0</td>\n",
       "      <td>...</td>\n",
       "      <td>0.000000</td>\n",
       "      <td>105.725448</td>\n",
       "      <td>0.903960</td>\n",
       "      <td>0</td>\n",
       "      <td>0</td>\n",
       "      <td>0.056231</td>\n",
       "      <td>4.538924</td>\n",
       "      <td>21.035265</td>\n",
       "      <td>1.743405</td>\n",
       "      <td>-0.670653</td>\n",
       "    </tr>\n",
       "    <tr>\n",
       "      <th>15</th>\n",
       "      <td>16</td>\n",
       "      <td>1016</td>\n",
       "      <td>54</td>\n",
       "      <td>1174</td>\n",
       "      <td>1.767750</td>\n",
       "      <td>-0.594793</td>\n",
       "      <td>y</td>\n",
       "      <td>3501</td>\n",
       "      <td>59580.040528</td>\n",
       "      <td>0</td>\n",
       "      <td>...</td>\n",
       "      <td>0.000000</td>\n",
       "      <td>106.622704</td>\n",
       "      <td>0.903960</td>\n",
       "      <td>0</td>\n",
       "      <td>0</td>\n",
       "      <td>0.049593</td>\n",
       "      <td>4.486898</td>\n",
       "      <td>21.024315</td>\n",
       "      <td>1.749311</td>\n",
       "      <td>-0.621244</td>\n",
       "    </tr>\n",
       "    <tr>\n",
       "      <th>16</th>\n",
       "      <td>17</td>\n",
       "      <td>1016</td>\n",
       "      <td>54</td>\n",
       "      <td>1234</td>\n",
       "      <td>1.719772</td>\n",
       "      <td>-0.555894</td>\n",
       "      <td>y</td>\n",
       "      <td>3540</td>\n",
       "      <td>59580.040973</td>\n",
       "      <td>0</td>\n",
       "      <td>...</td>\n",
       "      <td>0.000000</td>\n",
       "      <td>103.978528</td>\n",
       "      <td>0.903960</td>\n",
       "      <td>0</td>\n",
       "      <td>0</td>\n",
       "      <td>0.055976</td>\n",
       "      <td>4.449615</td>\n",
       "      <td>21.056583</td>\n",
       "      <td>1.701793</td>\n",
       "      <td>-0.582345</td>\n",
       "    </tr>\n",
       "    <tr>\n",
       "      <th>17</th>\n",
       "      <td>18</td>\n",
       "      <td>1016</td>\n",
       "      <td>54</td>\n",
       "      <td>1365</td>\n",
       "      <td>1.732854</td>\n",
       "      <td>-0.502282</td>\n",
       "      <td>y</td>\n",
       "      <td>3578</td>\n",
       "      <td>59580.041420</td>\n",
       "      <td>0</td>\n",
       "      <td>...</td>\n",
       "      <td>0.000000</td>\n",
       "      <td>105.693760</td>\n",
       "      <td>0.903960</td>\n",
       "      <td>0</td>\n",
       "      <td>0</td>\n",
       "      <td>0.054789</td>\n",
       "      <td>4.598367</td>\n",
       "      <td>21.035652</td>\n",
       "      <td>1.715430</td>\n",
       "      <td>-0.528733</td>\n",
       "    </tr>\n",
       "    <tr>\n",
       "      <th>18</th>\n",
       "      <td>19</td>\n",
       "      <td>1016</td>\n",
       "      <td>54</td>\n",
       "      <td>1464</td>\n",
       "      <td>1.693895</td>\n",
       "      <td>-0.459746</td>\n",
       "      <td>y</td>\n",
       "      <td>3617</td>\n",
       "      <td>59580.041868</td>\n",
       "      <td>0</td>\n",
       "      <td>...</td>\n",
       "      <td>0.000000</td>\n",
       "      <td>103.875619</td>\n",
       "      <td>0.903960</td>\n",
       "      <td>0</td>\n",
       "      <td>0</td>\n",
       "      <td>0.054789</td>\n",
       "      <td>4.680048</td>\n",
       "      <td>21.057839</td>\n",
       "      <td>1.676853</td>\n",
       "      <td>-0.486197</td>\n",
       "    </tr>\n",
       "    <tr>\n",
       "      <th>19</th>\n",
       "      <td>20</td>\n",
       "      <td>1016</td>\n",
       "      <td>54</td>\n",
       "      <td>1333</td>\n",
       "      <td>1.679307</td>\n",
       "      <td>-0.513259</td>\n",
       "      <td>y</td>\n",
       "      <td>3655</td>\n",
       "      <td>59580.042315</td>\n",
       "      <td>0</td>\n",
       "      <td>...</td>\n",
       "      <td>0.000000</td>\n",
       "      <td>101.701872</td>\n",
       "      <td>0.903960</td>\n",
       "      <td>0</td>\n",
       "      <td>0</td>\n",
       "      <td>0.055045</td>\n",
       "      <td>4.600883</td>\n",
       "      <td>21.084376</td>\n",
       "      <td>1.661776</td>\n",
       "      <td>-0.539710</td>\n",
       "    </tr>\n",
       "    <tr>\n",
       "      <th>20</th>\n",
       "      <td>21</td>\n",
       "      <td>1016</td>\n",
       "      <td>54</td>\n",
       "      <td>1323</td>\n",
       "      <td>1.625039</td>\n",
       "      <td>-0.523011</td>\n",
       "      <td>y</td>\n",
       "      <td>3694</td>\n",
       "      <td>59580.042763</td>\n",
       "      <td>0</td>\n",
       "      <td>...</td>\n",
       "      <td>0.000000</td>\n",
       "      <td>98.313447</td>\n",
       "      <td>0.864928</td>\n",
       "      <td>0</td>\n",
       "      <td>0</td>\n",
       "      <td>0.048142</td>\n",
       "      <td>4.774994</td>\n",
       "      <td>21.162938</td>\n",
       "      <td>1.607410</td>\n",
       "      <td>-0.549462</td>\n",
       "    </tr>\n",
       "    <tr>\n",
       "      <th>21</th>\n",
       "      <td>22</td>\n",
       "      <td>1016</td>\n",
       "      <td>54</td>\n",
       "      <td>1447</td>\n",
       "      <td>1.641324</td>\n",
       "      <td>-0.469907</td>\n",
       "      <td>y</td>\n",
       "      <td>3733</td>\n",
       "      <td>59580.043212</td>\n",
       "      <td>0</td>\n",
       "      <td>...</td>\n",
       "      <td>0.000000</td>\n",
       "      <td>99.933638</td>\n",
       "      <td>0.864928</td>\n",
       "      <td>0</td>\n",
       "      <td>0</td>\n",
       "      <td>0.054999</td>\n",
       "      <td>4.743903</td>\n",
       "      <td>21.143105</td>\n",
       "      <td>1.624195</td>\n",
       "      <td>-0.496358</td>\n",
       "    </tr>\n",
       "    <tr>\n",
       "      <th>22</th>\n",
       "      <td>23</td>\n",
       "      <td>1016</td>\n",
       "      <td>54</td>\n",
       "      <td>1568</td>\n",
       "      <td>1.660508</td>\n",
       "      <td>-0.416809</td>\n",
       "      <td>y</td>\n",
       "      <td>3772</td>\n",
       "      <td>59580.043658</td>\n",
       "      <td>0</td>\n",
       "      <td>...</td>\n",
       "      <td>0.000000</td>\n",
       "      <td>102.048223</td>\n",
       "      <td>0.864928</td>\n",
       "      <td>0</td>\n",
       "      <td>0</td>\n",
       "      <td>0.055854</td>\n",
       "      <td>4.517099</td>\n",
       "      <td>21.117264</td>\n",
       "      <td>1.643806</td>\n",
       "      <td>-0.443260</td>\n",
       "    </tr>\n",
       "    <tr>\n",
       "      <th>23</th>\n",
       "      <td>24</td>\n",
       "      <td>1016</td>\n",
       "      <td>54</td>\n",
       "      <td>1696</td>\n",
       "      <td>1.684343</td>\n",
       "      <td>-0.365069</td>\n",
       "      <td>y</td>\n",
       "      <td>3810</td>\n",
       "      <td>59580.044104</td>\n",
       "      <td>0</td>\n",
       "      <td>...</td>\n",
       "      <td>0.000000</td>\n",
       "      <td>104.800918</td>\n",
       "      <td>0.864928</td>\n",
       "      <td>0</td>\n",
       "      <td>0</td>\n",
       "      <td>0.056236</td>\n",
       "      <td>4.600120</td>\n",
       "      <td>21.083667</td>\n",
       "      <td>1.667994</td>\n",
       "      <td>-0.391520</td>\n",
       "    </tr>\n",
       "    <tr>\n",
       "      <th>24</th>\n",
       "      <td>25</td>\n",
       "      <td>1016</td>\n",
       "      <td>54</td>\n",
       "      <td>1595</td>\n",
       "      <td>1.713484</td>\n",
       "      <td>-0.406673</td>\n",
       "      <td>y</td>\n",
       "      <td>3849</td>\n",
       "      <td>59580.044551</td>\n",
       "      <td>0</td>\n",
       "      <td>...</td>\n",
       "      <td>0.000000</td>\n",
       "      <td>105.398235</td>\n",
       "      <td>0.864928</td>\n",
       "      <td>0</td>\n",
       "      <td>0</td>\n",
       "      <td>0.049596</td>\n",
       "      <td>4.559878</td>\n",
       "      <td>21.076378</td>\n",
       "      <td>1.696856</td>\n",
       "      <td>-0.433124</td>\n",
       "    </tr>\n",
       "    <tr>\n",
       "      <th>25</th>\n",
       "      <td>26</td>\n",
       "      <td>1016</td>\n",
       "      <td>54</td>\n",
       "      <td>1506</td>\n",
       "      <td>1.745954</td>\n",
       "      <td>-0.448519</td>\n",
       "      <td>y</td>\n",
       "      <td>3887</td>\n",
       "      <td>59580.044997</td>\n",
       "      <td>0</td>\n",
       "      <td>...</td>\n",
       "      <td>0.000000</td>\n",
       "      <td>106.330764</td>\n",
       "      <td>0.864928</td>\n",
       "      <td>0</td>\n",
       "      <td>0</td>\n",
       "      <td>0.051226</td>\n",
       "      <td>4.573737</td>\n",
       "      <td>21.064998</td>\n",
       "      <td>1.729006</td>\n",
       "      <td>-0.474970</td>\n",
       "    </tr>\n",
       "    <tr>\n",
       "      <th>26</th>\n",
       "      <td>27</td>\n",
       "      <td>1016</td>\n",
       "      <td>54</td>\n",
       "      <td>1564</td>\n",
       "      <td>1.607812</td>\n",
       "      <td>-0.426136</td>\n",
       "      <td>y</td>\n",
       "      <td>3927</td>\n",
       "      <td>59580.045458</td>\n",
       "      <td>0</td>\n",
       "      <td>...</td>\n",
       "      <td>0.000000</td>\n",
       "      <td>98.134038</td>\n",
       "      <td>0.864928</td>\n",
       "      <td>0</td>\n",
       "      <td>0</td>\n",
       "      <td>0.127108</td>\n",
       "      <td>5.826555</td>\n",
       "      <td>21.165137</td>\n",
       "      <td>1.591040</td>\n",
       "      <td>-0.452587</td>\n",
       "    </tr>\n",
       "    <tr>\n",
       "      <th>27</th>\n",
       "      <td>28</td>\n",
       "      <td>1016</td>\n",
       "      <td>54</td>\n",
       "      <td>1684</td>\n",
       "      <td>1.630590</td>\n",
       "      <td>-0.374025</td>\n",
       "      <td>y</td>\n",
       "      <td>3966</td>\n",
       "      <td>59580.045905</td>\n",
       "      <td>0</td>\n",
       "      <td>...</td>\n",
       "      <td>0.000000</td>\n",
       "      <td>100.442558</td>\n",
       "      <td>0.864928</td>\n",
       "      <td>0</td>\n",
       "      <td>0</td>\n",
       "      <td>0.056175</td>\n",
       "      <td>4.572428</td>\n",
       "      <td>21.136882</td>\n",
       "      <td>1.614184</td>\n",
       "      <td>-0.400476</td>\n",
       "    </tr>\n",
       "    <tr>\n",
       "      <th>28</th>\n",
       "      <td>29</td>\n",
       "      <td>1016</td>\n",
       "      <td>54</td>\n",
       "      <td>1806</td>\n",
       "      <td>1.656778</td>\n",
       "      <td>-0.323526</td>\n",
       "      <td>y</td>\n",
       "      <td>4004</td>\n",
       "      <td>59580.046352</td>\n",
       "      <td>0</td>\n",
       "      <td>...</td>\n",
       "      <td>0.000000</td>\n",
       "      <td>103.308928</td>\n",
       "      <td>0.864928</td>\n",
       "      <td>0</td>\n",
       "      <td>0</td>\n",
       "      <td>0.056174</td>\n",
       "      <td>4.669001</td>\n",
       "      <td>21.101874</td>\n",
       "      <td>1.640670</td>\n",
       "      <td>-0.349977</td>\n",
       "    </tr>\n",
       "    <tr>\n",
       "      <th>29</th>\n",
       "      <td>30</td>\n",
       "      <td>1016</td>\n",
       "      <td>54</td>\n",
       "      <td>1908</td>\n",
       "      <td>1.630085</td>\n",
       "      <td>-0.281906</td>\n",
       "      <td>y</td>\n",
       "      <td>4043</td>\n",
       "      <td>59580.046799</td>\n",
       "      <td>0</td>\n",
       "      <td>...</td>\n",
       "      <td>0.000000</td>\n",
       "      <td>102.766642</td>\n",
       "      <td>0.864928</td>\n",
       "      <td>0</td>\n",
       "      <td>0</td>\n",
       "      <td>0.048799</td>\n",
       "      <td>4.626829</td>\n",
       "      <td>21.108493</td>\n",
       "      <td>1.614185</td>\n",
       "      <td>-0.308357</td>\n",
       "    </tr>\n",
       "    <tr>\n",
       "      <th>...</th>\n",
       "      <td>...</td>\n",
       "      <td>...</td>\n",
       "      <td>...</td>\n",
       "      <td>...</td>\n",
       "      <td>...</td>\n",
       "      <td>...</td>\n",
       "      <td>...</td>\n",
       "      <td>...</td>\n",
       "      <td>...</td>\n",
       "      <td>...</td>\n",
       "      <td>...</td>\n",
       "      <td>...</td>\n",
       "      <td>...</td>\n",
       "      <td>...</td>\n",
       "      <td>...</td>\n",
       "      <td>...</td>\n",
       "      <td>...</td>\n",
       "      <td>...</td>\n",
       "      <td>...</td>\n",
       "      <td>...</td>\n",
       "      <td>...</td>\n",
       "    </tr>\n",
       "    <tr>\n",
       "      <th>2194875</th>\n",
       "      <td>2443881</td>\n",
       "      <td>1016</td>\n",
       "      <td>56</td>\n",
       "      <td>1427</td>\n",
       "      <td>0.925184</td>\n",
       "      <td>-0.478900</td>\n",
       "      <td>z</td>\n",
       "      <td>314764382</td>\n",
       "      <td>63223.106277</td>\n",
       "      <td>3643</td>\n",
       "      <td>...</td>\n",
       "      <td>289.471233</td>\n",
       "      <td>79.346482</td>\n",
       "      <td>0.651028</td>\n",
       "      <td>0</td>\n",
       "      <td>0</td>\n",
       "      <td>0.000000</td>\n",
       "      <td>2.000000</td>\n",
       "      <td>22.709358</td>\n",
       "      <td>0.938090</td>\n",
       "      <td>-0.465674</td>\n",
       "    </tr>\n",
       "    <tr>\n",
       "      <th>2194876</th>\n",
       "      <td>2443882</td>\n",
       "      <td>1016</td>\n",
       "      <td>56</td>\n",
       "      <td>1427</td>\n",
       "      <td>0.925184</td>\n",
       "      <td>-0.478900</td>\n",
       "      <td>z</td>\n",
       "      <td>314764418</td>\n",
       "      <td>63223.106694</td>\n",
       "      <td>3643</td>\n",
       "      <td>...</td>\n",
       "      <td>289.422838</td>\n",
       "      <td>79.360061</td>\n",
       "      <td>0.651028</td>\n",
       "      <td>0</td>\n",
       "      <td>0</td>\n",
       "      <td>0.000000</td>\n",
       "      <td>2.000000</td>\n",
       "      <td>22.709271</td>\n",
       "      <td>0.938090</td>\n",
       "      <td>-0.465674</td>\n",
       "    </tr>\n",
       "    <tr>\n",
       "      <th>2194877</th>\n",
       "      <td>2443883</td>\n",
       "      <td>1016</td>\n",
       "      <td>56</td>\n",
       "      <td>1427</td>\n",
       "      <td>0.925184</td>\n",
       "      <td>-0.478900</td>\n",
       "      <td>z</td>\n",
       "      <td>314764454</td>\n",
       "      <td>63223.107111</td>\n",
       "      <td>3643</td>\n",
       "      <td>...</td>\n",
       "      <td>289.374759</td>\n",
       "      <td>79.373982</td>\n",
       "      <td>0.651028</td>\n",
       "      <td>0</td>\n",
       "      <td>0</td>\n",
       "      <td>0.000000</td>\n",
       "      <td>2.000000</td>\n",
       "      <td>22.709178</td>\n",
       "      <td>0.938090</td>\n",
       "      <td>-0.465674</td>\n",
       "    </tr>\n",
       "    <tr>\n",
       "      <th>2194878</th>\n",
       "      <td>2443884</td>\n",
       "      <td>1016</td>\n",
       "      <td>56</td>\n",
       "      <td>1427</td>\n",
       "      <td>0.925184</td>\n",
       "      <td>-0.478900</td>\n",
       "      <td>z</td>\n",
       "      <td>314764490</td>\n",
       "      <td>63223.107527</td>\n",
       "      <td>3643</td>\n",
       "      <td>...</td>\n",
       "      <td>289.326987</td>\n",
       "      <td>79.388247</td>\n",
       "      <td>0.651028</td>\n",
       "      <td>0</td>\n",
       "      <td>0</td>\n",
       "      <td>0.000000</td>\n",
       "      <td>2.000000</td>\n",
       "      <td>22.709081</td>\n",
       "      <td>0.938090</td>\n",
       "      <td>-0.465674</td>\n",
       "    </tr>\n",
       "    <tr>\n",
       "      <th>2194879</th>\n",
       "      <td>2443885</td>\n",
       "      <td>1016</td>\n",
       "      <td>56</td>\n",
       "      <td>1427</td>\n",
       "      <td>0.925184</td>\n",
       "      <td>-0.478900</td>\n",
       "      <td>z</td>\n",
       "      <td>314764526</td>\n",
       "      <td>63223.107944</td>\n",
       "      <td>3643</td>\n",
       "      <td>...</td>\n",
       "      <td>289.279516</td>\n",
       "      <td>79.402855</td>\n",
       "      <td>0.651028</td>\n",
       "      <td>0</td>\n",
       "      <td>0</td>\n",
       "      <td>0.000000</td>\n",
       "      <td>2.000000</td>\n",
       "      <td>22.708979</td>\n",
       "      <td>0.938090</td>\n",
       "      <td>-0.465674</td>\n",
       "    </tr>\n",
       "    <tr>\n",
       "      <th>2194880</th>\n",
       "      <td>2443886</td>\n",
       "      <td>1016</td>\n",
       "      <td>56</td>\n",
       "      <td>1427</td>\n",
       "      <td>0.925184</td>\n",
       "      <td>-0.478900</td>\n",
       "      <td>z</td>\n",
       "      <td>314764562</td>\n",
       "      <td>63223.108361</td>\n",
       "      <td>3643</td>\n",
       "      <td>...</td>\n",
       "      <td>289.232339</td>\n",
       "      <td>79.417807</td>\n",
       "      <td>0.651028</td>\n",
       "      <td>0</td>\n",
       "      <td>0</td>\n",
       "      <td>0.000000</td>\n",
       "      <td>2.000000</td>\n",
       "      <td>22.708872</td>\n",
       "      <td>0.938090</td>\n",
       "      <td>-0.465674</td>\n",
       "    </tr>\n",
       "    <tr>\n",
       "      <th>2194881</th>\n",
       "      <td>2443887</td>\n",
       "      <td>1016</td>\n",
       "      <td>56</td>\n",
       "      <td>1427</td>\n",
       "      <td>0.925184</td>\n",
       "      <td>-0.478900</td>\n",
       "      <td>z</td>\n",
       "      <td>314764598</td>\n",
       "      <td>63223.108777</td>\n",
       "      <td>3643</td>\n",
       "      <td>...</td>\n",
       "      <td>289.185448</td>\n",
       "      <td>79.433102</td>\n",
       "      <td>0.651028</td>\n",
       "      <td>0</td>\n",
       "      <td>0</td>\n",
       "      <td>0.000000</td>\n",
       "      <td>2.000000</td>\n",
       "      <td>22.708761</td>\n",
       "      <td>0.938090</td>\n",
       "      <td>-0.465674</td>\n",
       "    </tr>\n",
       "    <tr>\n",
       "      <th>2194882</th>\n",
       "      <td>2443888</td>\n",
       "      <td>1016</td>\n",
       "      <td>56</td>\n",
       "      <td>1427</td>\n",
       "      <td>0.925184</td>\n",
       "      <td>-0.478900</td>\n",
       "      <td>z</td>\n",
       "      <td>314764634</td>\n",
       "      <td>63223.109194</td>\n",
       "      <td>3643</td>\n",
       "      <td>...</td>\n",
       "      <td>289.138834</td>\n",
       "      <td>79.448742</td>\n",
       "      <td>0.651028</td>\n",
       "      <td>0</td>\n",
       "      <td>0</td>\n",
       "      <td>0.000000</td>\n",
       "      <td>2.000000</td>\n",
       "      <td>22.708646</td>\n",
       "      <td>0.938090</td>\n",
       "      <td>-0.465674</td>\n",
       "    </tr>\n",
       "    <tr>\n",
       "      <th>2194883</th>\n",
       "      <td>2443889</td>\n",
       "      <td>1016</td>\n",
       "      <td>56</td>\n",
       "      <td>1427</td>\n",
       "      <td>0.925184</td>\n",
       "      <td>-0.478900</td>\n",
       "      <td>z</td>\n",
       "      <td>314764670</td>\n",
       "      <td>63223.109611</td>\n",
       "      <td>3643</td>\n",
       "      <td>...</td>\n",
       "      <td>289.092492</td>\n",
       "      <td>79.464726</td>\n",
       "      <td>0.651028</td>\n",
       "      <td>0</td>\n",
       "      <td>0</td>\n",
       "      <td>0.000000</td>\n",
       "      <td>2.000000</td>\n",
       "      <td>22.708525</td>\n",
       "      <td>0.938090</td>\n",
       "      <td>-0.465674</td>\n",
       "    </tr>\n",
       "    <tr>\n",
       "      <th>2194884</th>\n",
       "      <td>2443890</td>\n",
       "      <td>1016</td>\n",
       "      <td>56</td>\n",
       "      <td>1427</td>\n",
       "      <td>0.925184</td>\n",
       "      <td>-0.478900</td>\n",
       "      <td>z</td>\n",
       "      <td>314764706</td>\n",
       "      <td>63223.110027</td>\n",
       "      <td>3643</td>\n",
       "      <td>...</td>\n",
       "      <td>289.046413</td>\n",
       "      <td>79.481055</td>\n",
       "      <td>0.651028</td>\n",
       "      <td>0</td>\n",
       "      <td>0</td>\n",
       "      <td>0.000000</td>\n",
       "      <td>2.000000</td>\n",
       "      <td>22.708399</td>\n",
       "      <td>0.938090</td>\n",
       "      <td>-0.465674</td>\n",
       "    </tr>\n",
       "    <tr>\n",
       "      <th>2194885</th>\n",
       "      <td>2443891</td>\n",
       "      <td>1016</td>\n",
       "      <td>56</td>\n",
       "      <td>1427</td>\n",
       "      <td>0.925184</td>\n",
       "      <td>-0.478900</td>\n",
       "      <td>y</td>\n",
       "      <td>314764860</td>\n",
       "      <td>63223.111810</td>\n",
       "      <td>3643</td>\n",
       "      <td>...</td>\n",
       "      <td>288.624650</td>\n",
       "      <td>79.497728</td>\n",
       "      <td>0.651028</td>\n",
       "      <td>0</td>\n",
       "      <td>0</td>\n",
       "      <td>0.000000</td>\n",
       "      <td>120.000000</td>\n",
       "      <td>21.766859</td>\n",
       "      <td>0.938090</td>\n",
       "      <td>-0.465674</td>\n",
       "    </tr>\n",
       "    <tr>\n",
       "      <th>2194886</th>\n",
       "      <td>2443892</td>\n",
       "      <td>1016</td>\n",
       "      <td>56</td>\n",
       "      <td>1427</td>\n",
       "      <td>0.925184</td>\n",
       "      <td>-0.478900</td>\n",
       "      <td>y</td>\n",
       "      <td>314764896</td>\n",
       "      <td>63223.112226</td>\n",
       "      <td>3643</td>\n",
       "      <td>...</td>\n",
       "      <td>288.807260</td>\n",
       "      <td>79.572955</td>\n",
       "      <td>0.651028</td>\n",
       "      <td>0</td>\n",
       "      <td>0</td>\n",
       "      <td>0.000000</td>\n",
       "      <td>2.000000</td>\n",
       "      <td>21.765881</td>\n",
       "      <td>0.938090</td>\n",
       "      <td>-0.465674</td>\n",
       "    </tr>\n",
       "    <tr>\n",
       "      <th>2194887</th>\n",
       "      <td>2443893</td>\n",
       "      <td>1016</td>\n",
       "      <td>56</td>\n",
       "      <td>1427</td>\n",
       "      <td>0.925184</td>\n",
       "      <td>-0.478900</td>\n",
       "      <td>y</td>\n",
       "      <td>314764932</td>\n",
       "      <td>63223.112643</td>\n",
       "      <td>3643</td>\n",
       "      <td>...</td>\n",
       "      <td>288.762653</td>\n",
       "      <td>79.591455</td>\n",
       "      <td>0.651028</td>\n",
       "      <td>0</td>\n",
       "      <td>0</td>\n",
       "      <td>0.000000</td>\n",
       "      <td>2.000000</td>\n",
       "      <td>21.765641</td>\n",
       "      <td>0.938090</td>\n",
       "      <td>-0.465674</td>\n",
       "    </tr>\n",
       "    <tr>\n",
       "      <th>2194888</th>\n",
       "      <td>2443894</td>\n",
       "      <td>1016</td>\n",
       "      <td>56</td>\n",
       "      <td>1427</td>\n",
       "      <td>0.925184</td>\n",
       "      <td>-0.478900</td>\n",
       "      <td>y</td>\n",
       "      <td>314764968</td>\n",
       "      <td>63223.113060</td>\n",
       "      <td>3643</td>\n",
       "      <td>...</td>\n",
       "      <td>288.718250</td>\n",
       "      <td>79.610301</td>\n",
       "      <td>0.651028</td>\n",
       "      <td>0</td>\n",
       "      <td>0</td>\n",
       "      <td>0.000000</td>\n",
       "      <td>2.000000</td>\n",
       "      <td>21.765397</td>\n",
       "      <td>0.938090</td>\n",
       "      <td>-0.465674</td>\n",
       "    </tr>\n",
       "    <tr>\n",
       "      <th>2194889</th>\n",
       "      <td>2443895</td>\n",
       "      <td>1016</td>\n",
       "      <td>56</td>\n",
       "      <td>1427</td>\n",
       "      <td>0.925184</td>\n",
       "      <td>-0.478900</td>\n",
       "      <td>y</td>\n",
       "      <td>314765004</td>\n",
       "      <td>63223.113476</td>\n",
       "      <td>3643</td>\n",
       "      <td>...</td>\n",
       "      <td>288.674045</td>\n",
       "      <td>79.629494</td>\n",
       "      <td>0.651028</td>\n",
       "      <td>0</td>\n",
       "      <td>0</td>\n",
       "      <td>0.000000</td>\n",
       "      <td>2.000000</td>\n",
       "      <td>21.765147</td>\n",
       "      <td>0.938090</td>\n",
       "      <td>-0.465674</td>\n",
       "    </tr>\n",
       "    <tr>\n",
       "      <th>2194890</th>\n",
       "      <td>2443896</td>\n",
       "      <td>1016</td>\n",
       "      <td>56</td>\n",
       "      <td>1427</td>\n",
       "      <td>0.925184</td>\n",
       "      <td>-0.478900</td>\n",
       "      <td>y</td>\n",
       "      <td>314765040</td>\n",
       "      <td>63223.113893</td>\n",
       "      <td>3643</td>\n",
       "      <td>...</td>\n",
       "      <td>288.630027</td>\n",
       "      <td>79.649035</td>\n",
       "      <td>0.651028</td>\n",
       "      <td>0</td>\n",
       "      <td>0</td>\n",
       "      <td>0.000000</td>\n",
       "      <td>2.000000</td>\n",
       "      <td>21.764894</td>\n",
       "      <td>0.938090</td>\n",
       "      <td>-0.465674</td>\n",
       "    </tr>\n",
       "    <tr>\n",
       "      <th>2194891</th>\n",
       "      <td>2443897</td>\n",
       "      <td>1016</td>\n",
       "      <td>56</td>\n",
       "      <td>1427</td>\n",
       "      <td>0.925184</td>\n",
       "      <td>-0.478900</td>\n",
       "      <td>y</td>\n",
       "      <td>314765076</td>\n",
       "      <td>63223.114310</td>\n",
       "      <td>3643</td>\n",
       "      <td>...</td>\n",
       "      <td>288.586190</td>\n",
       "      <td>79.668924</td>\n",
       "      <td>0.651028</td>\n",
       "      <td>0</td>\n",
       "      <td>0</td>\n",
       "      <td>0.000000</td>\n",
       "      <td>2.000000</td>\n",
       "      <td>21.764635</td>\n",
       "      <td>0.938090</td>\n",
       "      <td>-0.465674</td>\n",
       "    </tr>\n",
       "    <tr>\n",
       "      <th>2194892</th>\n",
       "      <td>2443898</td>\n",
       "      <td>1016</td>\n",
       "      <td>56</td>\n",
       "      <td>1427</td>\n",
       "      <td>0.925184</td>\n",
       "      <td>-0.478900</td>\n",
       "      <td>y</td>\n",
       "      <td>314765112</td>\n",
       "      <td>63223.114726</td>\n",
       "      <td>3643</td>\n",
       "      <td>...</td>\n",
       "      <td>288.542524</td>\n",
       "      <td>79.689161</td>\n",
       "      <td>0.651028</td>\n",
       "      <td>0</td>\n",
       "      <td>0</td>\n",
       "      <td>0.000000</td>\n",
       "      <td>2.000000</td>\n",
       "      <td>21.764372</td>\n",
       "      <td>0.938090</td>\n",
       "      <td>-0.465674</td>\n",
       "    </tr>\n",
       "    <tr>\n",
       "      <th>2194893</th>\n",
       "      <td>2443899</td>\n",
       "      <td>1016</td>\n",
       "      <td>56</td>\n",
       "      <td>1427</td>\n",
       "      <td>0.925184</td>\n",
       "      <td>-0.478900</td>\n",
       "      <td>y</td>\n",
       "      <td>314765148</td>\n",
       "      <td>63223.115143</td>\n",
       "      <td>3643</td>\n",
       "      <td>...</td>\n",
       "      <td>288.499021</td>\n",
       "      <td>79.709747</td>\n",
       "      <td>0.651028</td>\n",
       "      <td>0</td>\n",
       "      <td>0</td>\n",
       "      <td>0.000000</td>\n",
       "      <td>2.000000</td>\n",
       "      <td>21.764106</td>\n",
       "      <td>0.938090</td>\n",
       "      <td>-0.465674</td>\n",
       "    </tr>\n",
       "    <tr>\n",
       "      <th>2194894</th>\n",
       "      <td>2443900</td>\n",
       "      <td>1016</td>\n",
       "      <td>56</td>\n",
       "      <td>1427</td>\n",
       "      <td>0.925184</td>\n",
       "      <td>-0.478900</td>\n",
       "      <td>y</td>\n",
       "      <td>314765184</td>\n",
       "      <td>63223.115560</td>\n",
       "      <td>3643</td>\n",
       "      <td>...</td>\n",
       "      <td>288.455673</td>\n",
       "      <td>79.730682</td>\n",
       "      <td>0.651028</td>\n",
       "      <td>0</td>\n",
       "      <td>0</td>\n",
       "      <td>0.000000</td>\n",
       "      <td>2.000000</td>\n",
       "      <td>21.763834</td>\n",
       "      <td>0.938090</td>\n",
       "      <td>-0.465674</td>\n",
       "    </tr>\n",
       "    <tr>\n",
       "      <th>2194895</th>\n",
       "      <td>2443901</td>\n",
       "      <td>1016</td>\n",
       "      <td>56</td>\n",
       "      <td>1427</td>\n",
       "      <td>0.925184</td>\n",
       "      <td>-0.478900</td>\n",
       "      <td>y</td>\n",
       "      <td>314765220</td>\n",
       "      <td>63223.115976</td>\n",
       "      <td>3643</td>\n",
       "      <td>...</td>\n",
       "      <td>288.412470</td>\n",
       "      <td>79.751966</td>\n",
       "      <td>0.651028</td>\n",
       "      <td>0</td>\n",
       "      <td>0</td>\n",
       "      <td>0.000000</td>\n",
       "      <td>2.000000</td>\n",
       "      <td>21.763557</td>\n",
       "      <td>0.938090</td>\n",
       "      <td>-0.465674</td>\n",
       "    </tr>\n",
       "    <tr>\n",
       "      <th>2194896</th>\n",
       "      <td>2443902</td>\n",
       "      <td>1016</td>\n",
       "      <td>56</td>\n",
       "      <td>1427</td>\n",
       "      <td>0.925184</td>\n",
       "      <td>-0.478900</td>\n",
       "      <td>y</td>\n",
       "      <td>314765256</td>\n",
       "      <td>63223.116393</td>\n",
       "      <td>3643</td>\n",
       "      <td>...</td>\n",
       "      <td>288.369404</td>\n",
       "      <td>79.773600</td>\n",
       "      <td>0.651028</td>\n",
       "      <td>0</td>\n",
       "      <td>0</td>\n",
       "      <td>0.000000</td>\n",
       "      <td>2.000000</td>\n",
       "      <td>21.763277</td>\n",
       "      <td>0.938090</td>\n",
       "      <td>-0.465674</td>\n",
       "    </tr>\n",
       "    <tr>\n",
       "      <th>2194897</th>\n",
       "      <td>2443903</td>\n",
       "      <td>1016</td>\n",
       "      <td>56</td>\n",
       "      <td>1427</td>\n",
       "      <td>0.925184</td>\n",
       "      <td>-0.478900</td>\n",
       "      <td>y</td>\n",
       "      <td>314765292</td>\n",
       "      <td>63223.116810</td>\n",
       "      <td>3643</td>\n",
       "      <td>...</td>\n",
       "      <td>288.326465</td>\n",
       "      <td>79.795584</td>\n",
       "      <td>0.651028</td>\n",
       "      <td>0</td>\n",
       "      <td>0</td>\n",
       "      <td>0.000000</td>\n",
       "      <td>2.000000</td>\n",
       "      <td>21.762992</td>\n",
       "      <td>0.938090</td>\n",
       "      <td>-0.465674</td>\n",
       "    </tr>\n",
       "    <tr>\n",
       "      <th>2194898</th>\n",
       "      <td>2443904</td>\n",
       "      <td>1016</td>\n",
       "      <td>56</td>\n",
       "      <td>1427</td>\n",
       "      <td>0.925184</td>\n",
       "      <td>-0.478900</td>\n",
       "      <td>y</td>\n",
       "      <td>314765328</td>\n",
       "      <td>63223.117226</td>\n",
       "      <td>3643</td>\n",
       "      <td>...</td>\n",
       "      <td>288.283645</td>\n",
       "      <td>79.817919</td>\n",
       "      <td>0.651028</td>\n",
       "      <td>0</td>\n",
       "      <td>0</td>\n",
       "      <td>0.000000</td>\n",
       "      <td>2.000000</td>\n",
       "      <td>21.762702</td>\n",
       "      <td>0.938090</td>\n",
       "      <td>-0.465674</td>\n",
       "    </tr>\n",
       "    <tr>\n",
       "      <th>2194899</th>\n",
       "      <td>2443905</td>\n",
       "      <td>1016</td>\n",
       "      <td>56</td>\n",
       "      <td>1427</td>\n",
       "      <td>0.925184</td>\n",
       "      <td>-0.478900</td>\n",
       "      <td>y</td>\n",
       "      <td>314765364</td>\n",
       "      <td>63223.117643</td>\n",
       "      <td>3643</td>\n",
       "      <td>...</td>\n",
       "      <td>288.240936</td>\n",
       "      <td>79.840605</td>\n",
       "      <td>0.651028</td>\n",
       "      <td>0</td>\n",
       "      <td>0</td>\n",
       "      <td>0.000000</td>\n",
       "      <td>2.000000</td>\n",
       "      <td>21.762408</td>\n",
       "      <td>0.938090</td>\n",
       "      <td>-0.465674</td>\n",
       "    </tr>\n",
       "    <tr>\n",
       "      <th>2194900</th>\n",
       "      <td>2443906</td>\n",
       "      <td>1016</td>\n",
       "      <td>56</td>\n",
       "      <td>1427</td>\n",
       "      <td>0.925184</td>\n",
       "      <td>-0.478900</td>\n",
       "      <td>y</td>\n",
       "      <td>314765400</td>\n",
       "      <td>63223.118060</td>\n",
       "      <td>3643</td>\n",
       "      <td>...</td>\n",
       "      <td>288.198326</td>\n",
       "      <td>79.863642</td>\n",
       "      <td>0.651028</td>\n",
       "      <td>0</td>\n",
       "      <td>0</td>\n",
       "      <td>0.000000</td>\n",
       "      <td>2.000000</td>\n",
       "      <td>21.762109</td>\n",
       "      <td>0.938090</td>\n",
       "      <td>-0.465674</td>\n",
       "    </tr>\n",
       "    <tr>\n",
       "      <th>2194901</th>\n",
       "      <td>2443907</td>\n",
       "      <td>1016</td>\n",
       "      <td>56</td>\n",
       "      <td>1427</td>\n",
       "      <td>0.925184</td>\n",
       "      <td>-0.478900</td>\n",
       "      <td>y</td>\n",
       "      <td>314765436</td>\n",
       "      <td>63223.118476</td>\n",
       "      <td>3643</td>\n",
       "      <td>...</td>\n",
       "      <td>288.155808</td>\n",
       "      <td>79.887031</td>\n",
       "      <td>0.651028</td>\n",
       "      <td>0</td>\n",
       "      <td>0</td>\n",
       "      <td>0.000000</td>\n",
       "      <td>2.000000</td>\n",
       "      <td>21.761805</td>\n",
       "      <td>0.938090</td>\n",
       "      <td>-0.465674</td>\n",
       "    </tr>\n",
       "    <tr>\n",
       "      <th>2194902</th>\n",
       "      <td>2443908</td>\n",
       "      <td>1016</td>\n",
       "      <td>56</td>\n",
       "      <td>1427</td>\n",
       "      <td>0.925184</td>\n",
       "      <td>-0.478900</td>\n",
       "      <td>y</td>\n",
       "      <td>314765472</td>\n",
       "      <td>63223.118893</td>\n",
       "      <td>3643</td>\n",
       "      <td>...</td>\n",
       "      <td>288.113372</td>\n",
       "      <td>79.910772</td>\n",
       "      <td>0.651028</td>\n",
       "      <td>0</td>\n",
       "      <td>0</td>\n",
       "      <td>0.000000</td>\n",
       "      <td>2.000000</td>\n",
       "      <td>21.761497</td>\n",
       "      <td>0.938090</td>\n",
       "      <td>-0.465674</td>\n",
       "    </tr>\n",
       "    <tr>\n",
       "      <th>2194903</th>\n",
       "      <td>2443909</td>\n",
       "      <td>1016</td>\n",
       "      <td>56</td>\n",
       "      <td>1427</td>\n",
       "      <td>0.925184</td>\n",
       "      <td>-0.478900</td>\n",
       "      <td>y</td>\n",
       "      <td>314765508</td>\n",
       "      <td>63223.119310</td>\n",
       "      <td>3643</td>\n",
       "      <td>...</td>\n",
       "      <td>288.071008</td>\n",
       "      <td>79.934866</td>\n",
       "      <td>0.651028</td>\n",
       "      <td>0</td>\n",
       "      <td>0</td>\n",
       "      <td>0.000000</td>\n",
       "      <td>2.000000</td>\n",
       "      <td>21.761185</td>\n",
       "      <td>0.938090</td>\n",
       "      <td>-0.465674</td>\n",
       "    </tr>\n",
       "    <tr>\n",
       "      <th>2194904</th>\n",
       "      <td>2443910</td>\n",
       "      <td>1016</td>\n",
       "      <td>56</td>\n",
       "      <td>1427</td>\n",
       "      <td>0.925184</td>\n",
       "      <td>-0.478900</td>\n",
       "      <td>y</td>\n",
       "      <td>314765544</td>\n",
       "      <td>63223.119726</td>\n",
       "      <td>3643</td>\n",
       "      <td>...</td>\n",
       "      <td>288.028708</td>\n",
       "      <td>79.959312</td>\n",
       "      <td>0.651028</td>\n",
       "      <td>0</td>\n",
       "      <td>0</td>\n",
       "      <td>0.000000</td>\n",
       "      <td>2.000000</td>\n",
       "      <td>21.760868</td>\n",
       "      <td>0.938090</td>\n",
       "      <td>-0.465674</td>\n",
       "    </tr>\n",
       "  </tbody>\n",
       "</table>\n",
       "<p>2194905 rows × 47 columns</p>\n",
       "</div>"
      ],
      "text/plain": [
       "         obsHistID  sessionID  propID  fieldID   fieldRA  fieldDec filter  \\\n",
       "0                1       1016      54      316  1.676483 -1.082473      y   \n",
       "1                2       1016      54      372  1.694120 -1.033972      y   \n",
       "2                3       1016      54      441  1.708513 -0.985271      y   \n",
       "3                4       1016      54      505  1.720374 -0.936476      y   \n",
       "4                5       1016      54      587  1.730248 -0.887672      y   \n",
       "5                6       1016      54      680  1.738574 -0.838921      y   \n",
       "6                7       1016      54      770  1.745690 -0.790249      y   \n",
       "7                8       1016      54      857  1.751878 -0.741640      y   \n",
       "8                9       1016      54      957  1.757386 -0.693017      y   \n",
       "9               10       1016      54     1021  1.700932 -0.658150      y   \n",
       "10              11       1016      54     1110  1.651280 -0.618574      y   \n",
       "11              12       1016      54     1212  1.608166 -0.575819      y   \n",
       "12              13       1016      54     1220  1.664386 -0.566519      y   \n",
       "13              14       1016      54     1118  1.709686 -0.607725      y   \n",
       "14              15       1016      54     1064  1.762505 -0.644202      y   \n",
       "15              16       1016      54     1174  1.767750 -0.594793      y   \n",
       "16              17       1016      54     1234  1.719772 -0.555894      y   \n",
       "17              18       1016      54     1365  1.732854 -0.502282      y   \n",
       "18              19       1016      54     1464  1.693895 -0.459746      y   \n",
       "19              20       1016      54     1333  1.679307 -0.513259      y   \n",
       "20              21       1016      54     1323  1.625039 -0.523011      y   \n",
       "21              22       1016      54     1447  1.641324 -0.469907      y   \n",
       "22              23       1016      54     1568  1.660508 -0.416809      y   \n",
       "23              24       1016      54     1696  1.684343 -0.365069      y   \n",
       "24              25       1016      54     1595  1.713484 -0.406673      y   \n",
       "25              26       1016      54     1506  1.745954 -0.448519      y   \n",
       "26              27       1016      54     1564  1.607812 -0.426136      y   \n",
       "27              28       1016      54     1684  1.630590 -0.374025      y   \n",
       "28              29       1016      54     1806  1.656778 -0.323526      y   \n",
       "29              30       1016      54     1908  1.630085 -0.281906      y   \n",
       "...            ...        ...     ...      ...       ...       ...    ...   \n",
       "2194875    2443881       1016      56     1427  0.925184 -0.478900      z   \n",
       "2194876    2443882       1016      56     1427  0.925184 -0.478900      z   \n",
       "2194877    2443883       1016      56     1427  0.925184 -0.478900      z   \n",
       "2194878    2443884       1016      56     1427  0.925184 -0.478900      z   \n",
       "2194879    2443885       1016      56     1427  0.925184 -0.478900      z   \n",
       "2194880    2443886       1016      56     1427  0.925184 -0.478900      z   \n",
       "2194881    2443887       1016      56     1427  0.925184 -0.478900      z   \n",
       "2194882    2443888       1016      56     1427  0.925184 -0.478900      z   \n",
       "2194883    2443889       1016      56     1427  0.925184 -0.478900      z   \n",
       "2194884    2443890       1016      56     1427  0.925184 -0.478900      z   \n",
       "2194885    2443891       1016      56     1427  0.925184 -0.478900      y   \n",
       "2194886    2443892       1016      56     1427  0.925184 -0.478900      y   \n",
       "2194887    2443893       1016      56     1427  0.925184 -0.478900      y   \n",
       "2194888    2443894       1016      56     1427  0.925184 -0.478900      y   \n",
       "2194889    2443895       1016      56     1427  0.925184 -0.478900      y   \n",
       "2194890    2443896       1016      56     1427  0.925184 -0.478900      y   \n",
       "2194891    2443897       1016      56     1427  0.925184 -0.478900      y   \n",
       "2194892    2443898       1016      56     1427  0.925184 -0.478900      y   \n",
       "2194893    2443899       1016      56     1427  0.925184 -0.478900      y   \n",
       "2194894    2443900       1016      56     1427  0.925184 -0.478900      y   \n",
       "2194895    2443901       1016      56     1427  0.925184 -0.478900      y   \n",
       "2194896    2443902       1016      56     1427  0.925184 -0.478900      y   \n",
       "2194897    2443903       1016      56     1427  0.925184 -0.478900      y   \n",
       "2194898    2443904       1016      56     1427  0.925184 -0.478900      y   \n",
       "2194899    2443905       1016      56     1427  0.925184 -0.478900      y   \n",
       "2194900    2443906       1016      56     1427  0.925184 -0.478900      y   \n",
       "2194901    2443907       1016      56     1427  0.925184 -0.478900      y   \n",
       "2194902    2443908       1016      56     1427  0.925184 -0.478900      y   \n",
       "2194903    2443909       1016      56     1427  0.925184 -0.478900      y   \n",
       "2194904    2443910       1016      56     1427  0.925184 -0.478900      y   \n",
       "\n",
       "           expDate        expMJD  night     ...       moonBright  darkBright  \\\n",
       "0             2922  59580.033829      0     ...         0.000000  105.610378   \n",
       "1             2961  59580.034275      0     ...         0.000000  105.167017   \n",
       "2             2999  59580.034722      0     ...         0.000000  104.849578   \n",
       "3             3038  59580.035169      0     ...         0.000000  104.669398   \n",
       "4             3077  59580.035616      0     ...         0.000000  104.627207   \n",
       "5             3115  59580.036062      0     ...         0.000000  104.725606   \n",
       "6             3154  59580.036509      0     ...         0.000000  104.967791   \n",
       "7             3192  59580.036955      0     ...         0.000000  105.357944   \n",
       "8             3231  59580.037401      0     ...         0.000000  105.906574   \n",
       "9             3270  59580.037847      0     ...         0.000000  102.700018   \n",
       "10            3308  59580.038293      0     ...         0.000000  100.125895   \n",
       "11            3347  59580.038741      0     ...         0.000000   98.109397   \n",
       "12            3386  59580.039190      0     ...         0.000000  101.147431   \n",
       "13            3424  59580.039637      0     ...         0.000000  103.104582   \n",
       "14            3463  59580.040083      0     ...         0.000000  105.725448   \n",
       "15            3501  59580.040528      0     ...         0.000000  106.622704   \n",
       "16            3540  59580.040973      0     ...         0.000000  103.978528   \n",
       "17            3578  59580.041420      0     ...         0.000000  105.693760   \n",
       "18            3617  59580.041868      0     ...         0.000000  103.875619   \n",
       "19            3655  59580.042315      0     ...         0.000000  101.701872   \n",
       "20            3694  59580.042763      0     ...         0.000000   98.313447   \n",
       "21            3733  59580.043212      0     ...         0.000000   99.933638   \n",
       "22            3772  59580.043658      0     ...         0.000000  102.048223   \n",
       "23            3810  59580.044104      0     ...         0.000000  104.800918   \n",
       "24            3849  59580.044551      0     ...         0.000000  105.398235   \n",
       "25            3887  59580.044997      0     ...         0.000000  106.330764   \n",
       "26            3927  59580.045458      0     ...         0.000000   98.134038   \n",
       "27            3966  59580.045905      0     ...         0.000000  100.442558   \n",
       "28            4004  59580.046352      0     ...         0.000000  103.308928   \n",
       "29            4043  59580.046799      0     ...         0.000000  102.766642   \n",
       "...            ...           ...    ...     ...              ...         ...   \n",
       "2194875  314764382  63223.106277   3643     ...       289.471233   79.346482   \n",
       "2194876  314764418  63223.106694   3643     ...       289.422838   79.360061   \n",
       "2194877  314764454  63223.107111   3643     ...       289.374759   79.373982   \n",
       "2194878  314764490  63223.107527   3643     ...       289.326987   79.388247   \n",
       "2194879  314764526  63223.107944   3643     ...       289.279516   79.402855   \n",
       "2194880  314764562  63223.108361   3643     ...       289.232339   79.417807   \n",
       "2194881  314764598  63223.108777   3643     ...       289.185448   79.433102   \n",
       "2194882  314764634  63223.109194   3643     ...       289.138834   79.448742   \n",
       "2194883  314764670  63223.109611   3643     ...       289.092492   79.464726   \n",
       "2194884  314764706  63223.110027   3643     ...       289.046413   79.481055   \n",
       "2194885  314764860  63223.111810   3643     ...       288.624650   79.497728   \n",
       "2194886  314764896  63223.112226   3643     ...       288.807260   79.572955   \n",
       "2194887  314764932  63223.112643   3643     ...       288.762653   79.591455   \n",
       "2194888  314764968  63223.113060   3643     ...       288.718250   79.610301   \n",
       "2194889  314765004  63223.113476   3643     ...       288.674045   79.629494   \n",
       "2194890  314765040  63223.113893   3643     ...       288.630027   79.649035   \n",
       "2194891  314765076  63223.114310   3643     ...       288.586190   79.668924   \n",
       "2194892  314765112  63223.114726   3643     ...       288.542524   79.689161   \n",
       "2194893  314765148  63223.115143   3643     ...       288.499021   79.709747   \n",
       "2194894  314765184  63223.115560   3643     ...       288.455673   79.730682   \n",
       "2194895  314765220  63223.115976   3643     ...       288.412470   79.751966   \n",
       "2194896  314765256  63223.116393   3643     ...       288.369404   79.773600   \n",
       "2194897  314765292  63223.116810   3643     ...       288.326465   79.795584   \n",
       "2194898  314765328  63223.117226   3643     ...       288.283645   79.817919   \n",
       "2194899  314765364  63223.117643   3643     ...       288.240936   79.840605   \n",
       "2194900  314765400  63223.118060   3643     ...       288.198326   79.863642   \n",
       "2194901  314765436  63223.118476   3643     ...       288.155808   79.887031   \n",
       "2194902  314765472  63223.118893   3643     ...       288.113372   79.910772   \n",
       "2194903  314765508  63223.119310   3643     ...       288.071008   79.934866   \n",
       "2194904  314765544  63223.119726   3643     ...       288.028708   79.959312   \n",
       "\n",
       "         rawSeeing  wind  humidity  slewDist    slewTime  fiveSigmaDepth  \\\n",
       "0         0.920473     0         0  1.620307    0.000000       21.021236   \n",
       "1         0.920473     0         0  0.049266    4.574944       21.026646   \n",
       "2         0.920473     0         0  0.049298    4.595615       21.030520   \n",
       "3         0.920473     0         0  0.049266    4.605366       21.032718   \n",
       "4         0.920473     0         0  0.049177    4.604023       21.033233   \n",
       "5         0.920473     0         0  0.049050    4.592226       21.032033   \n",
       "6         0.920473     0         0  0.048916    4.571504       21.029077   \n",
       "7         0.920473     0         0  0.048813    4.543796       21.024316   \n",
       "8         0.920473     0         0  0.048800    4.511985       21.017621   \n",
       "9         0.920473     0         0  0.056177    4.607643       21.056753   \n",
       "10        0.903960     0         0  0.056173    4.499824       21.103635   \n",
       "11        0.903960     0         0  0.055665    4.739998       21.128319   \n",
       "12        0.903960     0         0  0.048200    4.776511       21.091149   \n",
       "13        0.903960     0         0  0.055856    4.599568       21.067249   \n",
       "14        0.903960     0         0  0.056231    4.538924       21.035265   \n",
       "15        0.903960     0         0  0.049593    4.486898       21.024315   \n",
       "16        0.903960     0         0  0.055976    4.449615       21.056583   \n",
       "17        0.903960     0         0  0.054789    4.598367       21.035652   \n",
       "18        0.903960     0         0  0.054789    4.680048       21.057839   \n",
       "19        0.903960     0         0  0.055045    4.600883       21.084376   \n",
       "20        0.864928     0         0  0.048142    4.774994       21.162938   \n",
       "21        0.864928     0         0  0.054999    4.743903       21.143105   \n",
       "22        0.864928     0         0  0.055854    4.517099       21.117264   \n",
       "23        0.864928     0         0  0.056236    4.600120       21.083667   \n",
       "24        0.864928     0         0  0.049596    4.559878       21.076378   \n",
       "25        0.864928     0         0  0.051226    4.573737       21.064998   \n",
       "26        0.864928     0         0  0.127108    5.826555       21.165137   \n",
       "27        0.864928     0         0  0.056175    4.572428       21.136882   \n",
       "28        0.864928     0         0  0.056174    4.669001       21.101874   \n",
       "29        0.864928     0         0  0.048799    4.626829       21.108493   \n",
       "...            ...   ...       ...       ...         ...             ...   \n",
       "2194875   0.651028     0         0  0.000000    2.000000       22.709358   \n",
       "2194876   0.651028     0         0  0.000000    2.000000       22.709271   \n",
       "2194877   0.651028     0         0  0.000000    2.000000       22.709178   \n",
       "2194878   0.651028     0         0  0.000000    2.000000       22.709081   \n",
       "2194879   0.651028     0         0  0.000000    2.000000       22.708979   \n",
       "2194880   0.651028     0         0  0.000000    2.000000       22.708872   \n",
       "2194881   0.651028     0         0  0.000000    2.000000       22.708761   \n",
       "2194882   0.651028     0         0  0.000000    2.000000       22.708646   \n",
       "2194883   0.651028     0         0  0.000000    2.000000       22.708525   \n",
       "2194884   0.651028     0         0  0.000000    2.000000       22.708399   \n",
       "2194885   0.651028     0         0  0.000000  120.000000       21.766859   \n",
       "2194886   0.651028     0         0  0.000000    2.000000       21.765881   \n",
       "2194887   0.651028     0         0  0.000000    2.000000       21.765641   \n",
       "2194888   0.651028     0         0  0.000000    2.000000       21.765397   \n",
       "2194889   0.651028     0         0  0.000000    2.000000       21.765147   \n",
       "2194890   0.651028     0         0  0.000000    2.000000       21.764894   \n",
       "2194891   0.651028     0         0  0.000000    2.000000       21.764635   \n",
       "2194892   0.651028     0         0  0.000000    2.000000       21.764372   \n",
       "2194893   0.651028     0         0  0.000000    2.000000       21.764106   \n",
       "2194894   0.651028     0         0  0.000000    2.000000       21.763834   \n",
       "2194895   0.651028     0         0  0.000000    2.000000       21.763557   \n",
       "2194896   0.651028     0         0  0.000000    2.000000       21.763277   \n",
       "2194897   0.651028     0         0  0.000000    2.000000       21.762992   \n",
       "2194898   0.651028     0         0  0.000000    2.000000       21.762702   \n",
       "2194899   0.651028     0         0  0.000000    2.000000       21.762408   \n",
       "2194900   0.651028     0         0  0.000000    2.000000       21.762109   \n",
       "2194901   0.651028     0         0  0.000000    2.000000       21.761805   \n",
       "2194902   0.651028     0         0  0.000000    2.000000       21.761497   \n",
       "2194903   0.651028     0         0  0.000000    2.000000       21.761185   \n",
       "2194904   0.651028     0         0  0.000000    2.000000       21.760868   \n",
       "\n",
       "         ditheredRA  ditheredDec  \n",
       "0          1.643930    -1.108924  \n",
       "1          1.664257    -1.060423  \n",
       "2          1.680878    -1.011722  \n",
       "3          1.694604    -0.962927  \n",
       "4          1.706054    -0.914123  \n",
       "5          1.715721    -0.865372  \n",
       "6          1.723987    -0.816700  \n",
       "7          1.731166    -0.768091  \n",
       "8          1.737535    -0.719468  \n",
       "9          1.681628    -0.684601  \n",
       "10         1.632535    -0.645025  \n",
       "11         1.589958    -0.602270  \n",
       "12         1.646286    -0.592970  \n",
       "13         1.691083    -0.634176  \n",
       "14         1.743405    -0.670653  \n",
       "15         1.749311    -0.621244  \n",
       "16         1.701793    -0.582345  \n",
       "17         1.715430    -0.528733  \n",
       "18         1.676853    -0.486197  \n",
       "19         1.661776    -0.539710  \n",
       "20         1.607410    -0.549462  \n",
       "21         1.624195    -0.496358  \n",
       "22         1.643806    -0.443260  \n",
       "23         1.667994    -0.391520  \n",
       "24         1.696856    -0.433124  \n",
       "25         1.729006    -0.474970  \n",
       "26         1.591040    -0.452587  \n",
       "27         1.614184    -0.400476  \n",
       "28         1.640670    -0.349977  \n",
       "29         1.614185    -0.308357  \n",
       "...             ...          ...  \n",
       "2194875    0.938090    -0.465674  \n",
       "2194876    0.938090    -0.465674  \n",
       "2194877    0.938090    -0.465674  \n",
       "2194878    0.938090    -0.465674  \n",
       "2194879    0.938090    -0.465674  \n",
       "2194880    0.938090    -0.465674  \n",
       "2194881    0.938090    -0.465674  \n",
       "2194882    0.938090    -0.465674  \n",
       "2194883    0.938090    -0.465674  \n",
       "2194884    0.938090    -0.465674  \n",
       "2194885    0.938090    -0.465674  \n",
       "2194886    0.938090    -0.465674  \n",
       "2194887    0.938090    -0.465674  \n",
       "2194888    0.938090    -0.465674  \n",
       "2194889    0.938090    -0.465674  \n",
       "2194890    0.938090    -0.465674  \n",
       "2194891    0.938090    -0.465674  \n",
       "2194892    0.938090    -0.465674  \n",
       "2194893    0.938090    -0.465674  \n",
       "2194894    0.938090    -0.465674  \n",
       "2194895    0.938090    -0.465674  \n",
       "2194896    0.938090    -0.465674  \n",
       "2194897    0.938090    -0.465674  \n",
       "2194898    0.938090    -0.465674  \n",
       "2194899    0.938090    -0.465674  \n",
       "2194900    0.938090    -0.465674  \n",
       "2194901    0.938090    -0.465674  \n",
       "2194902    0.938090    -0.465674  \n",
       "2194903    0.938090    -0.465674  \n",
       "2194904    0.938090    -0.465674  \n",
       "\n",
       "[2194905 rows x 47 columns]"
      ]
     },
     "execution_count": 11,
     "metadata": {},
     "output_type": "execute_result"
    }
   ],
   "source": [
    "OpSim_combined.reset_index()"
   ]
  },
  {
   "cell_type": "code",
   "execution_count": 12,
   "metadata": {
    "collapsed": false
   },
   "outputs": [],
   "source": [
    "def addCartesian(df, raCol='ditheredRA', decCol='ditheredDec'):\n",
    "    #theta = - df[decCol] + np.pi/2.\n",
    "    Z = np.sin(df[decCol])    \n",
    "    X = np.cos(df[decCol]) * np.sin(df[raCol])\n",
    "    Y = np.cos(df[decCol]) * np.cos(df[raCol])\n",
    "    df['X'] = X\n",
    "    df['Y'] = Y\n",
    "    df['Z'] = Z"
   ]
  },
  {
   "cell_type": "code",
   "execution_count": 13,
   "metadata": {
    "collapsed": true
   },
   "outputs": [],
   "source": [
    "def addVec(df, raCol='ditheredRA', decCol='ditheredDec'):\n",
    "    thetas  = - df[decCol] + np.pi /2.\n",
    "    phis = df[raCol]\n",
    "    df['vec'] = list(hp.ang2vec(thetas, phis))"
   ]
  },
  {
   "cell_type": "code",
   "execution_count": 14,
   "metadata": {
    "collapsed": false
   },
   "outputs": [],
   "source": [
    "addVec(OpSim_combined, raCol='ditheredRA', decCol='ditheredDec')"
   ]
  },
  {
   "cell_type": "code",
   "execution_count": 15,
   "metadata": {
    "collapsed": true
   },
   "outputs": [],
   "source": [
    "NSIDE = 256"
   ]
  },
  {
   "cell_type": "code",
   "execution_count": 16,
   "metadata": {
    "collapsed": false
   },
   "outputs": [
    {
     "name": "stdout",
     "output_type": "stream",
     "text": [
      "93.8495709896\n"
     ]
    }
   ],
   "source": [
    "tstart = time.time()\n",
    "OpSim_combined['hids'] = [query_disc(NSIDE, vec, np.radians(1.75), inclusive=True) for vec in OpSim_combined.vec]\n",
    "tend = time.time()\n",
    "print(tend - tstart)"
   ]
  },
  {
   "cell_type": "code",
   "execution_count": 17,
   "metadata": {
    "collapsed": true
   },
   "outputs": [],
   "source": [
    "from scipy import sparse"
   ]
  },
  {
   "cell_type": "code",
   "execution_count": 18,
   "metadata": {
    "collapsed": false
   },
   "outputs": [],
   "source": [
    "lens = map(len, OpSim_combined.hids.values)"
   ]
  },
  {
   "cell_type": "code",
   "execution_count": 19,
   "metadata": {
    "collapsed": true
   },
   "outputs": [],
   "source": [
    "from itertools import repeat"
   ]
  },
  {
   "cell_type": "code",
   "execution_count": 20,
   "metadata": {
    "collapsed": false
   },
   "outputs": [
    {
     "name": "stdout",
     "output_type": "stream",
     "text": [
      "5.8809709549\n"
     ]
    }
   ],
   "source": [
    "tstart = time.time()\n",
    "rowdata = []\n",
    "#xx = [[ind] * lens[i] for ind, i in enumerate(lens)]\n",
    "_ = list(rowdata.extend(repeat(i, lens[i])) for i in xrange(len(OpSim_combined)))\n",
    "tend  = time.time()\n",
    "print(tend - tstart)"
   ]
  },
  {
   "cell_type": "code",
   "execution_count": 21,
   "metadata": {
    "collapsed": false
   },
   "outputs": [
    {
     "name": "stdout",
     "output_type": "stream",
     "text": [
      "7.4017291069\n"
     ]
    }
   ],
   "source": [
    "tstart = time.time()\n",
    "coldata = np.concatenate(OpSim_combined.hids.values)\n",
    "tend  = time.time()\n",
    "print(tend - tstart)"
   ]
  },
  {
   "cell_type": "code",
   "execution_count": 22,
   "metadata": {
    "collapsed": false
   },
   "outputs": [],
   "source": [
    "_aa = np.shape(coldata) \n",
    "_bb = np.shape(rowdata)\n",
    "assert _aa == _bb"
   ]
  },
  {
   "cell_type": "code",
   "execution_count": 23,
   "metadata": {
    "collapsed": false
   },
   "outputs": [],
   "source": [
    "shape=(len(OpSim_combined), hp.nside2npix(256))"
   ]
  },
  {
   "cell_type": "code",
   "execution_count": 24,
   "metadata": {
    "collapsed": false
   },
   "outputs": [
    {
     "name": "stdout",
     "output_type": "stream",
     "text": [
      "(2194905, 786432)\n"
     ]
    }
   ],
   "source": [
    "print(shape)"
   ]
  },
  {
   "cell_type": "code",
   "execution_count": 25,
   "metadata": {
    "collapsed": false
   },
   "outputs": [
    {
     "name": "stdout",
     "output_type": "stream",
     "text": [
      "84.9765369892\n"
     ]
    }
   ],
   "source": [
    "tstart = time.time()\n",
    "spmat = sparse.csr_matrix((np.ones(len(rowdata)), (np.asarray(rowdata), coldata)), shape=shape)\n",
    "tend = time.time()\n",
    "print(tend - tstart)"
   ]
  },
  {
   "cell_type": "code",
   "execution_count": null,
   "metadata": {
    "collapsed": false
   },
   "outputs": [],
   "source": [
    "print(tend - tstart)"
   ]
  },
  {
   "cell_type": "code",
   "execution_count": null,
   "metadata": {
    "collapsed": false
   },
   "outputs": [],
   "source": [
    "x = spmat.transpose()"
   ]
  },
  {
   "cell_type": "code",
   "execution_count": 26,
   "metadata": {
    "collapsed": false
   },
   "outputs": [
    {
     "name": "stdout",
     "output_type": "stream",
     "text": [
      "4.01137304306\n"
     ]
    }
   ],
   "source": [
    "tstart = time.time()\n",
    "obs = spmat.sum(axis=0)\n",
    "tend = time.time()\n",
    "print(tend - tstart)"
   ]
  },
  {
   "cell_type": "code",
   "execution_count": null,
   "metadata": {
    "collapsed": false
   },
   "outputs": [],
   "source": [
    "shape"
   ]
  },
  {
   "cell_type": "code",
   "execution_count": null,
   "metadata": {
    "collapsed": false
   },
   "outputs": [],
   "source": [
    "len(obs.transpose())"
   ]
  },
  {
   "cell_type": "code",
   "execution_count": 27,
   "metadata": {
    "collapsed": false
   },
   "outputs": [],
   "source": [
    "obs = np.asarray(obs).reshape(len(obs.transpose())) #, np.shape(obs)[1])"
   ]
  },
  {
   "cell_type": "code",
   "execution_count": 28,
   "metadata": {
    "collapsed": false
   },
   "outputs": [],
   "source": [
    "obs = np.where(obs == 0., hp.UNSEEN, obs)"
   ]
  },
  {
   "cell_type": "code",
   "execution_count": 29,
   "metadata": {
    "collapsed": false
   },
   "outputs": [
    {
     "data": {
      "image/png": "[encoded data removed]",
      "text/plain": [
       "<matplotlib.figure.Figure at 0x10ee77850>"
      ]
     },
     "metadata": {},
     "output_type": "display_data"
    }
   ],
   "source": [
    "hp.mollview(obs)"
   ]
  },
  {
   "cell_type": "code",
   "execution_count": null,
   "metadata": {
    "collapsed": false
   },
   "outputs": [],
   "source": [
    "shape"
   ]
  },
  {
   "cell_type": "code",
   "execution_count": null,
   "metadata": {
    "collapsed": false
   },
   "outputs": [],
   "source": [
    "x.shape[0]"
   ]
  },
  {
   "cell_type": "code",
   "execution_count": null,
   "metadata": {
    "collapsed": false
   },
   "outputs": [],
   "source": [
    "obs = x.sum(axis=1).reshape(x.shape[0])"
   ]
  },
  {
   "cell_type": "code",
   "execution_count": null,
   "metadata": {
    "collapsed": false
   },
   "outputs": [],
   "source": [
    "hp.mollview(obs)"
   ]
  },
  {
   "cell_type": "code",
   "execution_count": null,
   "metadata": {
    "collapsed": false
   },
   "outputs": [],
   "source": [
    "hp.mollview(map=)"
   ]
  },
  {
   "cell_type": "code",
   "execution_count": null,
   "metadata": {
    "collapsed": false
   },
   "outputs": [],
   "source": [
    "plt.hist(x)"
   ]
  },
  {
   "cell_type": "code",
   "execution_count": null,
   "metadata": {
    "collapsed": true
   },
   "outputs": [],
   "source": [
    "from itertools import repeat"
   ]
  },
  {
   "cell_type": "code",
   "execution_count": null,
   "metadata": {
    "collapsed": true
   },
   "outputs": [],
   "source": [
    "newdata = [elem for subl in xx for elem in subl]"
   ]
  },
  {
   "cell_type": "code",
   "execution_count": null,
   "metadata": {
    "collapsed": false
   },
   "outputs": [],
   "source": [
    "newdata == datarows"
   ]
  },
  {
   "cell_type": "code",
   "execution_count": null,
   "metadata": {
    "collapsed": false
   },
   "outputs": [],
   "source": [
    "len(OpSim_combined)"
   ]
  },
  {
   "cell_type": "code",
   "execution_count": null,
   "metadata": {
    "collapsed": true
   },
   "outputs": [],
   "source": [
    "xx = datarows"
   ]
  },
  {
   "cell_type": "code",
   "execution_count": null,
   "metadata": {
    "collapsed": false
   },
   "outputs": [],
   "source": [
    "len(newdata)"
   ]
  },
  {
   "cell_type": "code",
   "execution_count": null,
   "metadata": {
    "collapsed": false
   },
   "outputs": [],
   "source": [
    "len(datarows)"
   ]
  },
  {
   "cell_type": "code",
   "execution_count": null,
   "metadata": {
    "collapsed": false
   },
   "outputs": [],
   "source": [
    "tend - tstart"
   ]
  },
  {
   "cell_type": "code",
   "execution_count": null,
   "metadata": {
    "collapsed": false
   },
   "outputs": [],
   "source": [
    "OpSim_combined.reset_index(inplace=True)"
   ]
  },
  {
   "cell_type": "code",
   "execution_count": null,
   "metadata": {
    "collapsed": false
   },
   "outputs": [],
   "source": [
    "shape[0] * shape[1]"
   ]
  },
  {
   "cell_type": "code",
   "execution_count": null,
   "metadata": {
    "collapsed": false
   },
   "outputs": [],
   "source": [
    "OpSim_combined.index.max()# - len(OpSim_combined)"
   ]
  },
  {
   "cell_type": "code",
   "execution_count": null,
   "metadata": {
    "collapsed": false
   },
   "outputs": [],
   "source": [
    "OpSim_combined[OpSim_combined.expMJD.diff() < 0]"
   ]
  },
  {
   "cell_type": "code",
   "execution_count": null,
   "metadata": {
    "collapsed": false
   },
   "outputs": [],
   "source": [
    "OpSim_combined['hids']"
   ]
  },
  {
   "cell_type": "code",
   "execution_count": null,
   "metadata": {
    "collapsed": true
   },
   "outputs": [],
   "source": [
    "OpSim_combined['hidsFull'] = [query_disc(64, vec, np.radians(1.75), inclusive=False) for vec in OpSim_combined.vec]"
   ]
  },
  {
   "cell_type": "code",
   "execution_count": null,
   "metadata": {
    "collapsed": false
   },
   "outputs": [],
   "source": [
    "OpSim_combined.expMJD.min()"
   ]
  },
  {
   "cell_type": "code",
   "execution_count": null,
   "metadata": {
    "collapsed": false
   },
   "outputs": [],
   "source": [
    "len(OpSim_combined.query('expMJD  < {0} + 170 and expMJD > {0}'.format(59580. + 365. * 4.0)).query('fieldID == 309'))"
   ]
  },
  {
   "cell_type": "code",
   "execution_count": null,
   "metadata": {
    "collapsed": false
   },
   "outputs": [],
   "source": [
    "set(OpSim_combined.hids.values[0]) - set(OpSim_combined.hidsFull.values[0])"
   ]
  },
  {
   "cell_type": "code",
   "execution_count": null,
   "metadata": {
    "collapsed": false
   },
   "outputs": [],
   "source": [
    "inside = len(set(OpSim_combined.hids.values[0]).intersection(set(OpSim_combined.hidsFull.values[0])))"
   ]
  },
  {
   "cell_type": "code",
   "execution_count": null,
   "metadata": {
    "collapsed": false
   },
   "outputs": [],
   "source": [
    "OpSim_combined.hidsFull.values[0]"
   ]
  },
  {
   "cell_type": "code",
   "execution_count": null,
   "metadata": {
    "collapsed": false
   },
   "outputs": [],
   "source": [
    "hidvals = set()\n",
    "for row in OpSim_combined.hids.values:\n",
    "    hidvals.update(set(row))"
   ]
  },
  {
   "cell_type": "code",
   "execution_count": null,
   "metadata": {
    "collapsed": false
   },
   "outputs": [],
   "source": [
    "len(hidvals) / hp.nside2npix(256)"
   ]
  },
  {
   "cell_type": "code",
   "execution_count": null,
   "metadata": {
    "collapsed": false
   },
   "outputs": [],
   "source": [
    "hidvals = np.asarray(list(hidvals))"
   ]
  },
  {
   "cell_type": "code",
   "execution_count": null,
   "metadata": {
    "collapsed": false
   },
   "outputs": [],
   "source": [
    "len(hidvals) / 20. * 9.0 /60. / 60."
   ]
  },
  {
   "cell_type": "code",
   "execution_count": null,
   "metadata": {
    "collapsed": true
   },
   "outputs": [],
   "source": [
    "fields = [OpSim_combined[OpSim_combined['hids'].apply(lambda x: hid in x)].fieldID for hid in hidvals[:100]]"
   ]
  },
  {
   "cell_type": "code",
   "execution_count": null,
   "metadata": {
    "collapsed": false
   },
   "outputs": [],
   "source": [
    "Twinkleshidvals = set()\n",
    "for row in OpSim_combined.query('fieldID == 1427').hids.values:\n",
    "    Twinkleshidvals.update(set(row))"
   ]
  },
  {
   "cell_type": "code",
   "execution_count": null,
   "metadata": {
    "collapsed": false
   },
   "outputs": [],
   "source": [
    "Twinkleshidvals  = np.asarray(list(Twinkleshidvals))"
   ]
  },
  {
   "cell_type": "code",
   "execution_count": null,
   "metadata": {
    "collapsed": false
   },
   "outputs": [],
   "source": [
    "len(Twinkleshidvals)"
   ]
  },
  {
   "cell_type": "code",
   "execution_count": null,
   "metadata": {
    "collapsed": false
   },
   "outputs": [],
   "source": [
    "len(Twinkleshidvals)"
   ]
  },
  {
   "cell_type": "code",
   "execution_count": null,
   "metadata": {
    "collapsed": false
   },
   "outputs": [],
   "source": [
    "%timeit _ = OpSim_combined[OpSim_combined.hids.apply(lambda x: 36006 in x)]"
   ]
  },
  {
   "cell_type": "code",
   "execution_count": null,
   "metadata": {
    "collapsed": false
   },
   "outputs": [],
   "source": [
    "np.pi * np.radians(1.75)**2./hp.nside2pixarea(64)"
   ]
  },
  {
   "cell_type": "code",
   "execution_count": null,
   "metadata": {
    "collapsed": false
   },
   "outputs": [],
   "source": [
    "Twinklesfields = [OpSim_combined[OpSim_combined.hids.apply(lambda x: hid in x)]for hid in Twinkleshidvals]"
   ]
  },
  {
   "cell_type": "code",
   "execution_count": null,
   "metadata": {
    "collapsed": false
   },
   "outputs": [],
   "source": [
    "mapVal = np.ones(hp.nside2npix(64)) * hp.UNSEEN"
   ]
  },
  {
   "cell_type": "code",
   "execution_count": null,
   "metadata": {
    "collapsed": true
   },
   "outputs": [],
   "source": [
    "mapVal[Twinkleshidvals] = 1."
   ]
  },
  {
   "cell_type": "code",
   "execution_count": null,
   "metadata": {
    "collapsed": true
   },
   "outputs": [],
   "source": [
    "fig ax"
   ]
  },
  {
   "cell_type": "code",
   "execution_count": null,
   "metadata": {
    "collapsed": false
   },
   "outputs": [],
   "source": [
    "phi, theta = np.degrees(OpSim_combined.query('fieldID == 1427')[['fieldRA', 'fieldDec']].values[0])"
   ]
  },
  {
   "cell_type": "code",
   "execution_count": null,
   "metadata": {
    "collapsed": true
   },
   "outputs": [],
   "source": [
    "theta=-theta + 90."
   ]
  },
  {
   "cell_type": "code",
   "execution_count": null,
   "metadata": {
    "collapsed": false
   },
   "outputs": [],
   "source": [
    "hp.dir2vec()"
   ]
  },
  {
   "cell_type": "code",
   "execution_count": null,
   "metadata": {
    "collapsed": true
   },
   "outputs": [],
   "source": [
    "import matplotlib"
   ]
  },
  {
   "cell_type": "code",
   "execution_count": null,
   "metadata": {
    "collapsed": false
   },
   "outputs": [],
   "source": [
    "hp.mollzoom(mapVal, rot=(phi, theta, 0))"
   ]
  },
  {
   "cell_type": "code",
   "execution_count": null,
   "metadata": {
    "collapsed": false
   },
   "outputs": [],
   "source": [
    "hp.mollview(mapVal)"
   ]
  },
  {
   "cell_type": "code",
   "execution_count": null,
   "metadata": {
    "collapsed": false
   },
   "outputs": [],
   "source": [
    "OpSim_combined.query('fieldID == 1427').fieldID.size"
   ]
  },
  {
   "cell_type": "code",
   "execution_count": null,
   "metadata": {
    "collapsed": false
   },
   "outputs": [],
   "source": [
    "plt.hist(map(len, Twinklesfields), histtype='step', lw=2., alpha=1.)\n",
    "plt.axvline(24175)"
   ]
  },
  {
   "cell_type": "code",
   "execution_count": null,
   "metadata": {
    "collapsed": false
   },
   "outputs": [],
   "source": [
    "OpSim_combined.query('fieldID == 1427')['hids'].apply(lambda x: hid in x).fieldID# for hid in Twinkleshidvals]"
   ]
  },
  {
   "cell_type": "code",
   "execution_count": null,
   "metadata": {
    "collapsed": false
   },
   "outputs": [],
   "source": [
    "Twinklesfields = [OpSim_combined.query('fieldID == 1427')[OpSim_combined.query('fieldID == 1427')['hids'].apply(lambda x: hid in x)].fieldID for hid in Twinkleshidvals"
   ]
  },
  {
   "cell_type": "code",
   "execution_count": null,
   "metadata": {
    "collapsed": false
   },
   "outputs": [],
   "source": [
    "Twinklesfields"
   ]
  },
  {
   "cell_type": "code",
   "execution_count": null,
   "metadata": {
    "collapsed": false
   },
   "outputs": [],
   "source": [
    "plt.stem(map(len, fields))"
   ]
  },
  {
   "cell_type": "code",
   "execution_count": null,
   "metadata": {
    "collapsed": false
   },
   "outputs": [],
   "source": [
    "fields[0]"
   ]
  },
  {
   "cell_type": "code",
   "execution_count": null,
   "metadata": {
    "collapsed": false
   },
   "outputs": [],
   "source": [
    "fields[20]"
   ]
  },
  {
   "cell_type": "code",
   "execution_count": null,
   "metadata": {
    "collapsed": false
   },
   "outputs": [],
   "source": [
    "np.array(map(lambda x: len(x.unique()), fields)) > 1"
   ]
  },
  {
   "cell_type": "code",
   "execution_count": null,
   "metadata": {
    "collapsed": false
   },
   "outputs": [],
   "source": [
    "plt.plot(map(lambda x: len(x.unique()), fields), map(len, fields), 'o')"
   ]
  },
  {
   "cell_type": "code",
   "execution_count": null,
   "metadata": {
    "collapsed": false
   },
   "outputs": [],
   "source": [
    "map(lenfields[40:50]"
   ]
  },
  {
   "cell_type": "code",
   "execution_count": null,
   "metadata": {
    "collapsed": true
   },
   "outputs": [],
   "source": [
    "plt.plot(map(lambda x: len(x.unique()), fields), map(len, fields), 'o')"
   ]
  },
  {
   "cell_type": "code",
   "execution_count": null,
   "metadata": {
    "collapsed": false
   },
   "outputs": [],
   "source": [
    "hp.pix2ang(64, hidvals[:100])"
   ]
  },
  {
   "cell_type": "code",
   "execution_count": null,
   "metadata": {
    "collapsed": false
   },
   "outputs": [],
   "source": [
    "OpSim_combined.['vec'].apply(hp.query_disc(), args=(np.radians(1.75), ))a\n"
   ]
  },
  {
   "cell_type": "code",
   "execution_count": null,
   "metadata": {
    "collapsed": false
   },
   "outputs": [],
   "source": [
    "x[0]"
   ]
  },
  {
   "cell_type": "code",
   "execution_count": null,
   "metadata": {
    "collapsed": false
   },
   "outputs": [],
   "source": [
    "np.shape(x)"
   ]
  },
  {
   "cell_type": "code",
   "execution_count": null,
   "metadata": {
    "collapsed": false
   },
   "outputs": [],
   "source": [
    "xx = [query_disc(256, vec, np.radians(1.75), inclusive=True) for vec in OpSim_combined.vec]"
   ]
  },
  {
   "cell_type": "code",
   "execution_count": null,
   "metadata": {
    "collapsed": false
   },
   "outputs": [],
   "source": [
    "OpSim_combined['hids'] = [query_disc(256, vec, np.radians(1.75), inclusive=True) for vec in OpSim_combined.vec]"
   ]
  },
  {
   "cell_type": "code",
   "execution_count": null,
   "metadata": {
    "collapsed": true
   },
   "outputs": [],
   "source": [
    "len(OpSim_combined)"
   ]
  },
  {
   "cell_type": "code",
   "execution_count": null,
   "metadata": {
    "collapsed": true
   },
   "outputs": [],
   "source": [
    "hidvals = np.unique(np.asarray([OpSim_combined.hids.values]))"
   ]
  },
  {
   "cell_type": "code",
   "execution_count": null,
   "metadata": {
    "collapsed": true
   },
   "outputs": [],
   "source": [
    "mylist = []\n",
    "for hids in xx:\n",
    "    for elem in hids\n",
    "       mylist.append(elem)"
   ]
  },
  {
   "cell_type": "code",
   "execution_count": null,
   "metadata": {
    "collapsed": false
   },
   "outputs": [],
   "source": [
    "%%timeit  \n",
    "hidvals = np.unique(np.array([elem for hids in xx for elem in hids]))"
   ]
  },
  {
   "cell_type": "code",
   "execution_count": null,
   "metadata": {
    "collapsed": false
   },
   "outputs": [],
   "source": [
    "np.vstack(np.array([np.array([1., 2.]), np.array([2., 3.])]))"
   ]
  },
  {
   "cell_type": "code",
   "execution_count": null,
   "metadata": {
    "collapsed": false
   },
   "outputs": [],
   "source": [
    "xx = OpSim_combined.hids.values[0:10].copy()"
   ]
  },
  {
   "cell_type": "code",
   "execution_count": null,
   "metadata": {
    "collapsed": false
   },
   "outputs": [],
   "source": [
    "hidvals = np.unique(np.asarray([xx for xx in OpSim_combined.hids.values]))"
   ]
  },
  {
   "cell_type": "code",
   "execution_count": null,
   "metadata": {
    "collapsed": false
   },
   "outputs": [],
   "source": [
    "%%timeit\n",
    "hidvals = OpSim_combined.hids.values)"
   ]
  },
  {
   "cell_type": "code",
   "execution_count": null,
   "metadata": {
    "collapsed": false
   },
   "outputs": [],
   "source": [
    "OpSim_combined[OpSim_combined.hids.apply(lambda x: 743074 in x)].fieldID.unique()"
   ]
  },
  {
   "cell_type": "code",
   "execution_count": null,
   "metadata": {
    "collapsed": false
   },
   "outputs": [],
   "source": [
    "OpSim_combined.ix[1, 'hids']"
   ]
  },
  {
   "cell_type": "code",
   "execution_count": null,
   "metadata": {
    "collapsed": false
   },
   "outputs": [],
   "source": [
    "%%timeit \n",
    "hids = query_disc(256, OpSim_combined['vec'], np.radians(1.75), inclusive=True)\n"
   ]
  },
  {
   "cell_type": "code",
   "execution_count": null,
   "metadata": {
    "collapsed": true
   },
   "outputs": [],
   "source": [
    "import healpy as hp"
   ]
  },
  {
   "cell_type": "code",
   "execution_count": null,
   "metadata": {
    "collapsed": false
   },
   "outputs": [],
   "source": [
    "np.pi * np.radians(1.75)**2."
   ]
  },
  {
   "cell_type": "code",
   "execution_count": null,
   "metadata": {
    "collapsed": false
   },
   "outputs": [],
   "source": [
    "np.radians(np.sqrt(9.6))**2."
   ]
  },
  {
   "cell_type": "code",
   "execution_count": null,
   "metadata": {
    "collapsed": false
   },
   "outputs": [],
   "source": [
    "hp.nside2pixarea(256)"
   ]
  },
  {
   "cell_type": "code",
   "execution_count": null,
   "metadata": {
    "collapsed": false
   },
   "outputs": [],
   "source": [
    "hp.ang2vec(np.pi/2., np.pi)"
   ]
  },
  {
   "cell_type": "code",
   "execution_count": null,
   "metadata": {
    "collapsed": false
   },
   "outputs": [],
   "source": [
    "hids"
   ]
  },
  {
   "cell_type": "code",
   "execution_count": null,
   "metadata": {
    "collapsed": false
   },
   "outputs": [],
   "source": [
    "OpSim_combined['hids'] = [query_disc(64, (OpSim_combined.ix[ind, 'X'],OpSim_combined.ix[ind, 'Y'], OpSim_combined.ix[ind, 'Z']), np.radians(1.75), \n",
    "                  inclusive=True) for ind in OpSim_combined.index]"
   ]
  },
  {
   "cell_type": "code",
   "execution_count": null,
   "metadata": {
    "collapsed": false
   },
   "outputs": [],
   "source": [
    "OpSim_combined.ix[1, 'hids']"
   ]
  },
  {
   "cell_type": "code",
   "execution_count": null,
   "metadata": {
    "collapsed": true
   },
   "outputs": [],
   "source": [
    "OpSim_combined['hids'] = [np.random.randint(1, 500, 16) for x in range(len(OpSim_combined))]"
   ]
  },
  {
   "cell_type": "code",
   "execution_count": null,
   "metadata": {
    "collapsed": true
   },
   "outputs": [],
   "source": [
    "def contains(x, y):\n",
    "    return x in y"
   ]
  },
  {
   "cell_type": "code",
   "execution_count": null,
   "metadata": {
    "collapsed": false
   },
   "outputs": [],
   "source": [
    "def overlaps(hid, df):\n",
    "    x = df.hids.apply(hid in)\n",
    "    return df[x]"
   ]
  },
  {
   "cell_type": "code",
   "execution_count": null,
   "metadata": {
    "collapsed": true
   },
   "outputs": [],
   "source": [
    "from __future__ import division"
   ]
  },
  {
   "cell_type": "code",
   "execution_count": null,
   "metadata": {
    "collapsed": false
   },
   "outputs": [],
   "source": [
    "%timeit len(OpSim_combined[OpSim_combined.hids.apply(lambda x: 348 in x)])"
   ]
  },
  {
   "cell_type": "code",
   "execution_count": null,
   "metadata": {
    "collapsed": false
   },
   "outputs": [],
   "source": [
    "fraction = []\n",
    "ss = len(OpSim_combined)\n",
    "for i in range(1, 501):\n",
    "    fraction.append(len(OpSim_combined[OpSim_combined.hids.apply(lambda x: i in x)]))"
   ]
  },
  {
   "cell_type": "code",
   "execution_count": null,
   "metadata": {
    "collapsed": true
   },
   "outputs": [],
   "source": [
    "%matplotlib inline\n",
    "import matplotlib.pyplot as plt"
   ]
  },
  {
   "cell_type": "code",
   "execution_count": null,
   "metadata": {
    "collapsed": false
   },
   "outputs": [],
   "source": [
    "np.asarray(fraction) /ss  - 16./ 500."
   ]
  },
  {
   "cell_type": "code",
   "execution_count": null,
   "metadata": {
    "collapsed": false
   },
   "outputs": [],
   "source": [
    "plt.hist(np.array(fraction)/ss)"
   ]
  },
  {
   "cell_type": "code",
   "execution_count": null,
   "metadata": {
    "collapsed": false
   },
   "outputs": [],
   "source": [
    "len(OpSim_combined)"
   ]
  },
  {
   "cell_type": "code",
   "execution_count": null,
   "metadata": {
    "collapsed": false
   },
   "outputs": [],
   "source": [
    "overlaps(348, OpSim_combined)"
   ]
  },
  {
   "cell_type": "code",
   "execution_count": null,
   "metadata": {
    "collapsed": false
   },
   "outputs": [],
   "source": [
    "contains(348, OpSim_combined.hids)"
   ]
  },
  {
   "cell_type": "code",
   "execution_count": null,
   "metadata": {
    "collapsed": false
   },
   "outputs": [],
   "source": [
    "OpSim_combined.query('316 == fieldID')"
   ]
  },
  {
   "cell_type": "code",
   "execution_count": null,
   "metadata": {
    "collapsed": false
   },
   "outputs": [],
   "source": [
    "for lst in OpSim_combined['hids']:\n",
    "    "
   ]
  },
  {
   "cell_type": "code",
   "execution_count": null,
   "metadata": {
    "collapsed": false
   },
   "outputs": [],
   "source": [
    "def get_overlappObs(OpSim_combined, hid):\n",
    "    OpSim_combined['overlap'] = hid in "
   ]
  },
  {
   "cell_type": "code",
   "execution_count": null,
   "metadata": {
    "collapsed": true
   },
   "outputs": [],
   "source": []
  }
 ],
 "metadata": {
  "kernelspec": {
   "display_name": "Python 2",
   "language": "python",
   "name": "python2"
  },
  "language_info": {
   "codemirror_mode": {
    "name": "ipython",
    "version": 2
   },
   "file_extension": ".py",
   "mimetype": "text/x-python",
   "name": "python",
   "nbconvert_exporter": "python",
   "pygments_lexer": "ipython2",
   "version": "2.7.11"
  }
 },
 "nbformat": 4,
 "nbformat_minor": 0
}
