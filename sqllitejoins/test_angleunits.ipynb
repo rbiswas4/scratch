{
 "metadata": {
  "name": "",
  "signature": "sha256:9c205cce06f6f16fcf5f46dcfb9c71e76c4d8daf888c37dec548d439e301d933"
 },
 "nbformat": 3,
 "nbformat_minor": 0,
 "worksheets": [
  {
   "cells": [
    {
     "cell_type": "code",
     "collapsed": false,
     "input": [
      "%matplotlib inline"
     ],
     "language": "python",
     "metadata": {},
     "outputs": [],
     "prompt_number": 1
    },
    {
     "cell_type": "code",
     "collapsed": false,
     "input": [
      "import itertools"
     ],
     "language": "python",
     "metadata": {},
     "outputs": [],
     "prompt_number": 2
    },
    {
     "cell_type": "code",
     "collapsed": false,
     "input": [
      "import numpy as np\n",
      "import matplotlib.pyplot as plt"
     ],
     "language": "python",
     "metadata": {},
     "outputs": [],
     "prompt_number": 3
    },
    {
     "cell_type": "code",
     "collapsed": false,
     "input": [
      "import healpy as hp"
     ],
     "language": "python",
     "metadata": {},
     "outputs": [],
     "prompt_number": 4
    },
    {
     "cell_type": "code",
     "collapsed": false,
     "input": [
      "# Required packages sqlachemy, pandas (both are part of anaconda distribution, or can be installed with a python installer)\n",
      "# One step requires the LSST stack, can be skipped for a particular OPSIM database in question\n",
      "import OpSimSummary.summarize_opsim as so\n",
      "from sqlalchemy import create_engine\n",
      "import pandas as pd\n",
      "print so.__file__"
     ],
     "language": "python",
     "metadata": {},
     "outputs": [
      {
       "output_type": "stream",
       "stream": "stdout",
       "text": [
        "/Users/rbiswas/.local/lib/python2.7/site-packages/OpSimSummary-0.0.1.dev0-py2.7.egg/OpSimSummary/summarize_opsim.pyc\n"
       ]
      }
     ],
     "prompt_number": 5
    },
    {
     "cell_type": "code",
     "collapsed": false,
     "input": [
      "from lsst.sims.maf import db\n",
      "from lsst.sims.maf.utils import opsimUtils"
     ],
     "language": "python",
     "metadata": {},
     "outputs": [],
     "prompt_number": 6
    },
    {
     "cell_type": "heading",
     "level": 3,
     "metadata": {},
     "source": [
      "DataFrame summarizing OpSim"
     ]
    },
    {
     "cell_type": "code",
     "collapsed": false,
     "input": [
      "# Change dbname to point at your own location of the opsim output\n",
      "dbname = '/Users/rbiswas/data/LSST/OpSimData/enigma_1189_sqlite.db'\n",
      "opsdb = db.OpsimDatabase(dbname)\n",
      "propID, propTags = opsdb.fetchPropInfo()\n",
      "DD = propTags['DD'][0]\n",
      "WFD = propTags['WFD'][0]"
     ],
     "language": "python",
     "metadata": {},
     "outputs": [],
     "prompt_number": 7
    },
    {
     "cell_type": "code",
     "collapsed": false,
     "input": [
      "engine = create_engine('sqlite:///' + dbname)"
     ],
     "language": "python",
     "metadata": {},
     "outputs": [],
     "prompt_number": 8
    },
    {
     "cell_type": "code",
     "collapsed": false,
     "input": [
      "EnigmaComb = pd.read_sql_query('SELECT * FROM SUMMARY WHERE PROPID is 364 or PROPID is 366', engine, index_col='obsHistID')"
     ],
     "language": "python",
     "metadata": {},
     "outputs": [],
     "prompt_number": 9
    },
    {
     "cell_type": "code",
     "collapsed": false,
     "input": [
      "# EnigmaComb = EnigmaFirstYear.query('propID==[364, 366]')"
     ],
     "language": "python",
     "metadata": {},
     "outputs": [],
     "prompt_number": 10
    },
    {
     "cell_type": "code",
     "collapsed": false,
     "input": [
      "EnigmaComb.info()"
     ],
     "language": "python",
     "metadata": {},
     "outputs": [
      {
       "output_type": "stream",
       "stream": "stdout",
       "text": [
        "<class 'pandas.core.frame.DataFrame'>\n",
        "Int64Index: 2220013 entries, 1 to 2469307\n",
        "Data columns (total 44 columns):\n",
        "sessionID            int64\n",
        "propID               int64\n",
        "fieldID              int64\n",
        "fieldRA              float64\n",
        "fieldDec             float64\n",
        "filter               object\n",
        "expDate              int64\n",
        "expMJD               float64\n",
        "night                int64\n",
        "visitTime            float64\n",
        "visitExpTime         float64\n",
        "finRank              float64\n",
        "finSeeing            float64\n",
        "transparency         float64\n",
        "airmass              float64\n",
        "vSkyBright           float64\n",
        "filtSkyBrightness    float64\n",
        "rotSkyPos            float64\n",
        "lst                  float64\n",
        "altitude             float64\n",
        "azimuth              float64\n",
        "dist2Moon            float64\n",
        "solarElong           float64\n",
        "moonRA               float64\n",
        "moonDec              float64\n",
        "moonAlt              float64\n",
        "moonAZ               float64\n",
        "moonPhase            float64\n",
        "sunAlt               float64\n",
        "sunAz                float64\n",
        "phaseAngle           float64\n",
        "rScatter             float64\n",
        "mieScatter           float64\n",
        "moonIllum            float64\n",
        "moonBright           float64\n",
        "darkBright           float64\n",
        "rawSeeing            float64\n",
        "wind                 float64\n",
        "humidity             float64\n",
        "slewDist             float64\n",
        "slewTime             float64\n",
        "fiveSigmaDepth       float64\n",
        "ditheredRA           float64\n",
        "ditheredDec          float64\n",
        "dtypes: float64(38), int64(5), object(1)\n",
        "memory usage: 762.2+ MB\n"
       ]
      }
     ],
     "prompt_number": 11
    },
    {
     "cell_type": "heading",
     "level": 3,
     "metadata": {},
     "source": [
      "Get a Map of fields and HealpixIds after setting NSIDE"
     ]
    },
    {
     "cell_type": "code",
     "collapsed": false,
     "input": [
      "x = EnigmaComb[['fieldID','fieldRA', 'fieldDec']]"
     ],
     "language": "python",
     "metadata": {},
     "outputs": [],
     "prompt_number": 12
    },
    {
     "cell_type": "code",
     "collapsed": false,
     "input": [
      "x.drop_duplicates(inplace=True)"
     ],
     "language": "python",
     "metadata": {},
     "outputs": [
      {
       "output_type": "stream",
       "stream": "stderr",
       "text": [
        "/usr/local/manual/anaconda/lib/python2.7/site-packages/pandas/util/decorators.py:88: SettingWithCopyWarning: \n",
        "A value is trying to be set on a copy of a slice from a DataFrame\n",
        "\n",
        "See the the caveats in the documentation: http://pandas.pydata.org/pandas-docs/stable/indexing.html#indexing-view-versus-copy\n",
        "  return func(*args, **kwargs)\n"
       ]
      }
     ],
     "prompt_number": 13
    },
    {
     "cell_type": "code",
     "collapsed": false,
     "input": [
      "x.head()"
     ],
     "language": "python",
     "metadata": {},
     "outputs": [
      {
       "html": [
        "<div style=\"max-height:1000px;max-width:1500px;overflow:auto;\">\n",
        "<table border=\"1\" class=\"dataframe\">\n",
        "  <thead>\n",
        "    <tr style=\"text-align: right;\">\n",
        "      <th></th>\n",
        "      <th>fieldID</th>\n",
        "      <th>fieldRA</th>\n",
        "      <th>fieldDec</th>\n",
        "    </tr>\n",
        "    <tr>\n",
        "      <th>obsHistID</th>\n",
        "      <th></th>\n",
        "      <th></th>\n",
        "      <th></th>\n",
        "    </tr>\n",
        "  </thead>\n",
        "  <tbody>\n",
        "    <tr>\n",
        "      <th>1</th>\n",
        "      <td>316</td>\n",
        "      <td>1.676483</td>\n",
        "      <td>-1.082473</td>\n",
        "    </tr>\n",
        "    <tr>\n",
        "      <th>2</th>\n",
        "      <td>372</td>\n",
        "      <td>1.694120</td>\n",
        "      <td>-1.033972</td>\n",
        "    </tr>\n",
        "    <tr>\n",
        "      <th>3</th>\n",
        "      <td>441</td>\n",
        "      <td>1.708513</td>\n",
        "      <td>-0.985271</td>\n",
        "    </tr>\n",
        "    <tr>\n",
        "      <th>4</th>\n",
        "      <td>505</td>\n",
        "      <td>1.720374</td>\n",
        "      <td>-0.936476</td>\n",
        "    </tr>\n",
        "    <tr>\n",
        "      <th>5</th>\n",
        "      <td>587</td>\n",
        "      <td>1.730248</td>\n",
        "      <td>-0.887672</td>\n",
        "    </tr>\n",
        "  </tbody>\n",
        "</table>\n",
        "</div>"
       ],
       "metadata": {},
       "output_type": "pyout",
       "prompt_number": 14,
       "text": [
        "           fieldID   fieldRA  fieldDec\n",
        "obsHistID                             \n",
        "1              316  1.676483 -1.082473\n",
        "2              372  1.694120 -1.033972\n",
        "3              441  1.708513 -0.985271\n",
        "4              505  1.720374 -0.936476\n",
        "5              587  1.730248 -0.887672"
       ]
      }
     ],
     "prompt_number": 14
    },
    {
     "cell_type": "markdown",
     "metadata": {},
     "source": [
      "In order to obtain healpixIds, we need to go to angles first from RA and Dec. We will use a function to go from ra, dec in radians to a unit vector. Note that it is assumed that ra is phi in polar coordinates, while theta = pi/2 - dec"
     ]
    },
    {
     "cell_type": "code",
     "collapsed": false,
     "input": [
      "def coordToAng(xx):\n",
      "    \"\"\"\n",
      "    ra, dec in rad\n",
      "    \"\"\"\n",
      "    import numpy as np\n",
      "    ra  = xx.fieldRA\n",
      "    dec = xx.fieldDec\n",
      "    theta  = -(dec - np.pi / 2.0)\n",
      "    \n",
      "    # print theta\n",
      "    phi = ra\n",
      "    z = np.cos(theta)\n",
      "    x = np.sin(theta) * np.cos(phi)\n",
      "    y = np.sin(theta) * np.sin(phi)\n",
      "    xx['x'] = x\n",
      "    xx['y'] = y\n",
      "    xx['z'] = z\n",
      "    return xx"
     ],
     "language": "python",
     "metadata": {},
     "outputs": [],
     "prompt_number": 15
    },
    {
     "cell_type": "code",
     "collapsed": false,
     "input": [
      "coordToAng(x).head()"
     ],
     "language": "python",
     "metadata": {},
     "outputs": [
      {
       "output_type": "stream",
       "stream": "stderr",
       "text": [
        "-c:15: SettingWithCopyWarning: \n",
        "A value is trying to be set on a copy of a slice from a DataFrame.\n",
        "Try using .loc[row_indexer,col_indexer] = value instead\n",
        "\n",
        "See the the caveats in the documentation: http://pandas.pydata.org/pandas-docs/stable/indexing.html#indexing-view-versus-copy\n",
        "-c:16: SettingWithCopyWarning: \n",
        "A value is trying to be set on a copy of a slice from a DataFrame.\n",
        "Try using .loc[row_indexer,col_indexer] = value instead\n",
        "\n",
        "See the the caveats in the documentation: http://pandas.pydata.org/pandas-docs/stable/indexing.html#indexing-view-versus-copy\n",
        "-c:17: SettingWithCopyWarning: \n",
        "A value is trying to be set on a copy of a slice from a DataFrame.\n",
        "Try using .loc[row_indexer,col_indexer] = value instead\n",
        "\n",
        "See the the caveats in the documentation: http://pandas.pydata.org/pandas-docs/stable/indexing.html#indexing-view-versus-copy\n"
       ]
      },
      {
       "html": [
        "<div style=\"max-height:1000px;max-width:1500px;overflow:auto;\">\n",
        "<table border=\"1\" class=\"dataframe\">\n",
        "  <thead>\n",
        "    <tr style=\"text-align: right;\">\n",
        "      <th></th>\n",
        "      <th>fieldID</th>\n",
        "      <th>fieldRA</th>\n",
        "      <th>fieldDec</th>\n",
        "      <th>x</th>\n",
        "      <th>y</th>\n",
        "      <th>z</th>\n",
        "    </tr>\n",
        "    <tr>\n",
        "      <th>obsHistID</th>\n",
        "      <th></th>\n",
        "      <th></th>\n",
        "      <th></th>\n",
        "      <th></th>\n",
        "      <th></th>\n",
        "      <th></th>\n",
        "    </tr>\n",
        "  </thead>\n",
        "  <tbody>\n",
        "    <tr>\n",
        "      <th>1</th>\n",
        "      <td>316</td>\n",
        "      <td>1.676483</td>\n",
        "      <td>-1.082473</td>\n",
        "      <td>-0.049490</td>\n",
        "      <td>0.466528</td>\n",
        "      <td>-0.883121</td>\n",
        "    </tr>\n",
        "    <tr>\n",
        "      <th>2</th>\n",
        "      <td>372</td>\n",
        "      <td>1.694120</td>\n",
        "      <td>-1.033972</td>\n",
        "      <td>-0.062909</td>\n",
        "      <td>0.507526</td>\n",
        "      <td>-0.859337</td>\n",
        "    </tr>\n",
        "    <tr>\n",
        "      <th>3</th>\n",
        "      <td>441</td>\n",
        "      <td>1.708513</td>\n",
        "      <td>-0.985271</td>\n",
        "      <td>-0.075867</td>\n",
        "      <td>0.547405</td>\n",
        "      <td>-0.833422</td>\n",
        "    </tr>\n",
        "    <tr>\n",
        "      <th>4</th>\n",
        "      <td>505</td>\n",
        "      <td>1.720374</td>\n",
        "      <td>-0.936476</td>\n",
        "      <td>-0.088314</td>\n",
        "      <td>0.586013</td>\n",
        "      <td>-0.805475</td>\n",
        "    </tr>\n",
        "    <tr>\n",
        "      <th>5</th>\n",
        "      <td>587</td>\n",
        "      <td>1.730248</td>\n",
        "      <td>-0.887672</td>\n",
        "      <td>-0.100223</td>\n",
        "      <td>0.623212</td>\n",
        "      <td>-0.775604</td>\n",
        "    </tr>\n",
        "  </tbody>\n",
        "</table>\n",
        "</div>"
       ],
       "metadata": {},
       "output_type": "pyout",
       "prompt_number": 16,
       "text": [
        "           fieldID   fieldRA  fieldDec         x         y         z\n",
        "obsHistID                                                           \n",
        "1              316  1.676483 -1.082473 -0.049490  0.466528 -0.883121\n",
        "2              372  1.694120 -1.033972 -0.062909  0.507526 -0.859337\n",
        "3              441  1.708513 -0.985271 -0.075867  0.547405 -0.833422\n",
        "4              505  1.720374 -0.936476 -0.088314  0.586013 -0.805475\n",
        "5              587  1.730248 -0.887672 -0.100223  0.623212 -0.775604"
       ]
      }
     ],
     "prompt_number": 16
    },
    {
     "cell_type": "code",
     "collapsed": false,
     "input": [
      "x['radeg'] = np.degrees(x['fieldRA'])"
     ],
     "language": "python",
     "metadata": {},
     "outputs": [
      {
       "output_type": "stream",
       "stream": "stderr",
       "text": [
        "-c:1: SettingWithCopyWarning: \n",
        "A value is trying to be set on a copy of a slice from a DataFrame.\n",
        "Try using .loc[row_indexer,col_indexer] = value instead\n",
        "\n",
        "See the the caveats in the documentation: http://pandas.pydata.org/pandas-docs/stable/indexing.html#indexing-view-versus-copy\n"
       ]
      }
     ],
     "prompt_number": 17
    },
    {
     "cell_type": "code",
     "collapsed": false,
     "input": [
      "x['decdeg'] = np.degrees(x['fieldDec'])"
     ],
     "language": "python",
     "metadata": {},
     "outputs": [],
     "prompt_number": 18
    },
    {
     "cell_type": "code",
     "collapsed": false,
     "input": [
      "x.head()"
     ],
     "language": "python",
     "metadata": {},
     "outputs": [
      {
       "html": [
        "<div style=\"max-height:1000px;max-width:1500px;overflow:auto;\">\n",
        "<table border=\"1\" class=\"dataframe\">\n",
        "  <thead>\n",
        "    <tr style=\"text-align: right;\">\n",
        "      <th></th>\n",
        "      <th>fieldID</th>\n",
        "      <th>fieldRA</th>\n",
        "      <th>fieldDec</th>\n",
        "      <th>x</th>\n",
        "      <th>y</th>\n",
        "      <th>z</th>\n",
        "      <th>radeg</th>\n",
        "      <th>decdeg</th>\n",
        "    </tr>\n",
        "    <tr>\n",
        "      <th>obsHistID</th>\n",
        "      <th></th>\n",
        "      <th></th>\n",
        "      <th></th>\n",
        "      <th></th>\n",
        "      <th></th>\n",
        "      <th></th>\n",
        "      <th></th>\n",
        "      <th></th>\n",
        "    </tr>\n",
        "  </thead>\n",
        "  <tbody>\n",
        "    <tr>\n",
        "      <th>1</th>\n",
        "      <td>316</td>\n",
        "      <td>1.676483</td>\n",
        "      <td>-1.082473</td>\n",
        "      <td>-0.049490</td>\n",
        "      <td>0.466528</td>\n",
        "      <td>-0.883121</td>\n",
        "      <td>96.055400</td>\n",
        "      <td>-62.021134</td>\n",
        "    </tr>\n",
        "    <tr>\n",
        "      <th>2</th>\n",
        "      <td>372</td>\n",
        "      <td>1.694120</td>\n",
        "      <td>-1.033972</td>\n",
        "      <td>-0.062909</td>\n",
        "      <td>0.507526</td>\n",
        "      <td>-0.859337</td>\n",
        "      <td>97.065926</td>\n",
        "      <td>-59.242232</td>\n",
        "    </tr>\n",
        "    <tr>\n",
        "      <th>3</th>\n",
        "      <td>441</td>\n",
        "      <td>1.708513</td>\n",
        "      <td>-0.985271</td>\n",
        "      <td>-0.075867</td>\n",
        "      <td>0.547405</td>\n",
        "      <td>-0.833422</td>\n",
        "      <td>97.890584</td>\n",
        "      <td>-56.451870</td>\n",
        "    </tr>\n",
        "    <tr>\n",
        "      <th>4</th>\n",
        "      <td>505</td>\n",
        "      <td>1.720374</td>\n",
        "      <td>-0.936476</td>\n",
        "      <td>-0.088314</td>\n",
        "      <td>0.586013</td>\n",
        "      <td>-0.805475</td>\n",
        "      <td>98.570169</td>\n",
        "      <td>-53.656122</td>\n",
        "    </tr>\n",
        "    <tr>\n",
        "      <th>5</th>\n",
        "      <td>587</td>\n",
        "      <td>1.730248</td>\n",
        "      <td>-0.887672</td>\n",
        "      <td>-0.100223</td>\n",
        "      <td>0.623212</td>\n",
        "      <td>-0.775604</td>\n",
        "      <td>99.135908</td>\n",
        "      <td>-50.859859</td>\n",
        "    </tr>\n",
        "  </tbody>\n",
        "</table>\n",
        "</div>"
       ],
       "metadata": {},
       "output_type": "pyout",
       "prompt_number": 19,
       "text": [
        "           fieldID   fieldRA  fieldDec         x         y         z  \\\n",
        "obsHistID                                                              \n",
        "1              316  1.676483 -1.082473 -0.049490  0.466528 -0.883121   \n",
        "2              372  1.694120 -1.033972 -0.062909  0.507526 -0.859337   \n",
        "3              441  1.708513 -0.985271 -0.075867  0.547405 -0.833422   \n",
        "4              505  1.720374 -0.936476 -0.088314  0.586013 -0.805475   \n",
        "5              587  1.730248 -0.887672 -0.100223  0.623212 -0.775604   \n",
        "\n",
        "               radeg     decdeg  \n",
        "obsHistID                        \n",
        "1          96.055400 -62.021134  \n",
        "2          97.065926 -59.242232  \n",
        "3          97.890584 -56.451870  \n",
        "4          98.570169 -53.656122  \n",
        "5          99.135908 -50.859859  "
       ]
      }
     ],
     "prompt_number": 19
    },
    {
     "cell_type": "code",
     "collapsed": false,
     "input": [
      "radius =  np.radians(3.)"
     ],
     "language": "python",
     "metadata": {},
     "outputs": [],
     "prompt_number": 20
    },
    {
     "cell_type": "code",
     "collapsed": false,
     "input": [
      "NSIDE=16"
     ],
     "language": "python",
     "metadata": {},
     "outputs": [],
     "prompt_number": 21
    },
    {
     "cell_type": "code",
     "collapsed": false,
     "input": [
      "healids = []\n",
      "fid = [] \n",
      "for i in range(x.x.size):\n",
      "    # print i\n",
      "    hid = hp.query_disc(nside=NSIDE, vec=[x.x.values[i], x.y.values[i], x.z.values[i]], radius=radius, inclusive=True)\n",
      "    fid.append(list(np.broadcast_arrays(x.fieldID.iloc[i], hid)[0]))\n",
      "    healids.append(list(hid))"
     ],
     "language": "python",
     "metadata": {},
     "outputs": [],
     "prompt_number": 22
    },
    {
     "cell_type": "code",
     "collapsed": false,
     "input": [
      "mydict = dict()\n",
      "mydict['fieldID'] = list(itertools.chain.from_iterable(fid))\n",
      "mydict['healID'] = list(itertools.chain.from_iterable(healids))"
     ],
     "language": "python",
     "metadata": {},
     "outputs": [],
     "prompt_number": 23
    },
    {
     "cell_type": "code",
     "collapsed": false,
     "input": [
      "maps = pd.DataFrame(mydict)"
     ],
     "language": "python",
     "metadata": {},
     "outputs": [],
     "prompt_number": 24
    },
    {
     "cell_type": "code",
     "collapsed": false,
     "input": [
      "maps.head()"
     ],
     "language": "python",
     "metadata": {},
     "outputs": [
      {
       "html": [
        "<div style=\"max-height:1000px;max-width:1500px;overflow:auto;\">\n",
        "<table border=\"1\" class=\"dataframe\">\n",
        "  <thead>\n",
        "    <tr style=\"text-align: right;\">\n",
        "      <th></th>\n",
        "      <th>fieldID</th>\n",
        "      <th>healID</th>\n",
        "    </tr>\n",
        "  </thead>\n",
        "  <tbody>\n",
        "    <tr>\n",
        "      <th>0</th>\n",
        "      <td>316</td>\n",
        "      <td>2819</td>\n",
        "    </tr>\n",
        "    <tr>\n",
        "      <th>1</th>\n",
        "      <td>316</td>\n",
        "      <td>2820</td>\n",
        "    </tr>\n",
        "    <tr>\n",
        "      <th>2</th>\n",
        "      <td>316</td>\n",
        "      <td>2861</td>\n",
        "    </tr>\n",
        "    <tr>\n",
        "      <th>3</th>\n",
        "      <td>316</td>\n",
        "      <td>2862</td>\n",
        "    </tr>\n",
        "    <tr>\n",
        "      <th>4</th>\n",
        "      <td>316</td>\n",
        "      <td>2863</td>\n",
        "    </tr>\n",
        "  </tbody>\n",
        "</table>\n",
        "</div>"
       ],
       "metadata": {},
       "output_type": "pyout",
       "prompt_number": 25,
       "text": [
        "   fieldID  healID\n",
        "0      316    2819\n",
        "1      316    2820\n",
        "2      316    2861\n",
        "3      316    2862\n",
        "4      316    2863"
       ]
      }
     ],
     "prompt_number": 25
    },
    {
     "cell_type": "markdown",
     "metadata": {},
     "source": [
      "maps is a DataFrame that lists all the fieldIds to healpixIds. We can plot all the healpixIds corresponding to these fields\n",
      "in the following way"
     ]
    },
    {
     "cell_type": "code",
     "collapsed": false,
     "input": [
      "m = np.arange(hp.nside2npix(NSIDE))"
     ],
     "language": "python",
     "metadata": {},
     "outputs": [],
     "prompt_number": 26
    },
    {
     "cell_type": "code",
     "collapsed": false,
     "input": [
      "mask = np.ones(hp.nside2npix(NSIDE))\n",
      "mask[maps.healID.unique()] = 0."
     ],
     "language": "python",
     "metadata": {},
     "outputs": [],
     "prompt_number": 27
    },
    {
     "cell_type": "code",
     "collapsed": false,
     "input": [
      "fieldPixels = np.ma.masked_array(m, mask=mask)"
     ],
     "language": "python",
     "metadata": {},
     "outputs": [],
     "prompt_number": 28
    },
    {
     "cell_type": "code",
     "collapsed": false,
     "input": [
      "hp.mollview(fieldPixels)"
     ],
     "language": "python",
     "metadata": {},
     "outputs": [
      {
       "metadata": {},
       "output_type": "display_data",
       "png": "[encoded data removed]",
       "text": [
        "<matplotlib.figure.Figure at 0x10a421210>"
       ]
      }
     ],
     "prompt_number": 29
    },
    {
     "cell_type": "markdown",
     "metadata": {},
     "source": [
      "This looks opposite to what I usually plot in that the ra coordinates look like they go from 180 on the left to -180 on the right. To check this, we will use `hp.pix2ang(nside, pixid, degrees=True)`. To do this, start by finding a healpixId corresponding to 2786 which is at 150 degrees. "
     ]
    },
    {
     "cell_type": "code",
     "collapsed": false,
     "input": [
      "healpixIdsOf2786=maps.groupby('fieldID').get_group(2786)"
     ],
     "language": "python",
     "metadata": {},
     "outputs": [],
     "prompt_number": 30
    },
    {
     "cell_type": "code",
     "collapsed": false,
     "input": [
      "healpixIdsOf2786.head()"
     ],
     "language": "python",
     "metadata": {},
     "outputs": [
      {
       "html": [
        "<div style=\"max-height:1000px;max-width:1500px;overflow:auto;\">\n",
        "<table border=\"1\" class=\"dataframe\">\n",
        "  <thead>\n",
        "    <tr style=\"text-align: right;\">\n",
        "      <th></th>\n",
        "      <th>fieldID</th>\n",
        "      <th>healID</th>\n",
        "    </tr>\n",
        "  </thead>\n",
        "  <tbody>\n",
        "    <tr>\n",
        "      <th>4619</th>\n",
        "      <td>2786</td>\n",
        "      <td>1339</td>\n",
        "    </tr>\n",
        "    <tr>\n",
        "      <th>4620</th>\n",
        "      <td>2786</td>\n",
        "      <td>1402</td>\n",
        "    </tr>\n",
        "    <tr>\n",
        "      <th>4621</th>\n",
        "      <td>2786</td>\n",
        "      <td>1403</td>\n",
        "    </tr>\n",
        "    <tr>\n",
        "      <th>4622</th>\n",
        "      <td>2786</td>\n",
        "      <td>1466</td>\n",
        "    </tr>\n",
        "    <tr>\n",
        "      <th>4623</th>\n",
        "      <td>2786</td>\n",
        "      <td>1467</td>\n",
        "    </tr>\n",
        "  </tbody>\n",
        "</table>\n",
        "</div>"
       ],
       "metadata": {},
       "output_type": "pyout",
       "prompt_number": 31,
       "text": [
        "      fieldID  healID\n",
        "4619     2786    1339\n",
        "4620     2786    1402\n",
        "4621     2786    1403\n",
        "4622     2786    1466\n",
        "4623     2786    1467"
       ]
      }
     ],
     "prompt_number": 31
    },
    {
     "cell_type": "code",
     "collapsed": false,
     "input": [
      "np.degrees(hp.pix2ang(NSIDE, healpixIdsOf2786['healID'].values))"
     ],
     "language": "python",
     "metadata": {},
     "outputs": [
      {
       "metadata": {},
       "output_type": "pyout",
       "prompt_number": 32,
       "text": [
        "array([[  82.81924422,   85.21980815,   85.21980815,   87.61198454,\n",
        "          87.61198454,   90.        ,   90.        ,   92.38801546],\n",
        "       [ 151.875     ,  149.0625    ,  154.6875    ,  146.25      ,\n",
        "         151.875     ,  149.0625    ,  154.6875    ,  151.875     ]])"
       ]
      }
     ],
     "prompt_number": 32
    },
    {
     "cell_type": "markdown",
     "metadata": {},
     "source": [
      "Since the outputs are theta, phi, this makes sense (remembering that the dec in degrees are in coordinates that are zero at the equator)"
     ]
    },
    {
     "cell_type": "code",
     "collapsed": false,
     "input": [
      "hp.pix2vec(NSIDE, healpixIdsOf2786['healID'].values)"
     ],
     "language": "python",
     "metadata": {},
     "outputs": [
      {
       "metadata": {},
       "output_type": "pyout",
       "prompt_number": 33,
       "text": [
        "(array([-0.87500413, -0.8547452 , -0.90084497, -0.83074754, -0.88115538,\n",
        "        -0.85772861, -0.90398929, -0.88115538]),\n",
        " array([ 0.46769945,  0.51231456,  0.42606794,  0.55508776,  0.47098736,\n",
        "         0.51410274,  0.42755509,  0.47098736]),\n",
        " array([ 0.125     ,  0.08333333,  0.08333333,  0.04166667,  0.04166667,\n",
        "         0.        ,  0.        , -0.04166667]))"
       ]
      }
     ],
     "prompt_number": 33
    },
    {
     "cell_type": "heading",
     "level": 3,
     "metadata": {},
     "source": [
      "Grouping by Healpix IDs"
     ]
    },
    {
     "cell_type": "code",
     "collapsed": false,
     "input": [
      "X = EnigmaComb.merge(maps, on='fieldID', copy=False).groupby('healID')"
     ],
     "language": "python",
     "metadata": {},
     "outputs": [],
     "prompt_number": 34
    },
    {
     "cell_type": "code",
     "collapsed": false,
     "input": [
      "type(X)"
     ],
     "language": "python",
     "metadata": {},
     "outputs": [
      {
       "metadata": {},
       "output_type": "pyout",
       "prompt_number": 34,
       "text": [
        "pandas.core.groupby.DataFrameGroupBy"
       ]
      }
     ],
     "prompt_number": 34
    },
    {
     "cell_type": "code",
     "collapsed": false,
     "input": [
      "len(X.groups.keys())"
     ],
     "language": "python",
     "metadata": {},
     "outputs": [
      {
       "metadata": {},
       "output_type": "pyout",
       "prompt_number": 36,
       "text": [
        "1569"
       ]
      }
     ],
     "prompt_number": 36
    },
    {
     "cell_type": "code",
     "collapsed": false,
     "input": [
      "overlapfields = []\n",
      "for key in X.groups.keys():\n",
      "    fids = X.get_group(key).fieldID.unique()\n",
      "    if len(fids) > 1:\n",
      "        overlapfields.append([key, fids.size])"
     ],
     "language": "python",
     "metadata": {},
     "outputs": [],
     "prompt_number": 35
    },
    {
     "cell_type": "code",
     "collapsed": false,
     "input": [
      "overlapfields = np.array(overlapfields)[:, 1]\n",
      "overlapfields.sort()"
     ],
     "language": "python",
     "metadata": {},
     "outputs": [],
     "prompt_number": 36
    },
    {
     "cell_type": "code",
     "collapsed": false,
     "input": [
      "overlapfields"
     ],
     "language": "python",
     "metadata": {},
     "outputs": [
      {
       "metadata": {},
       "output_type": "pyout",
       "prompt_number": 37,
       "text": [
        "array([ 2,  2,  2, ..., 15, 16, 16])"
       ]
      }
     ],
     "prompt_number": 37
    },
    {
     "cell_type": "code",
     "collapsed": false,
     "input": [
      "clear(overlapfields)"
     ],
     "language": "python",
     "metadata": {},
     "outputs": [
      {
       "output_type": "stream",
       "stream": "stdout",
       "text": [
        "\u001b[H\u001b[2J"
       ]
      }
     ],
     "prompt_number": 38
    },
    {
     "cell_type": "code",
     "collapsed": false,
     "input": [],
     "language": "python",
     "metadata": {},
     "outputs": []
    }
   ],
   "metadata": {}
  }
 ]
}