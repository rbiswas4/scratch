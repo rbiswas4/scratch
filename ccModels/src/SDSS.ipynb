{
 "metadata": {
  "name": "",
  "signature": "sha256:1d2a7d2f740f16b49c51f86782a444d51f6f617d4db2a6189dc1dc141a565dc5"
 },
 "nbformat": 3,
 "nbformat_minor": 0,
 "worksheets": [
  {
   "cells": [
    {
     "cell_type": "code",
     "collapsed": false,
     "input": [
      "import os\n",
      "import numpy as np"
     ],
     "language": "python",
     "metadata": {},
     "outputs": [],
     "prompt_number": 1
    },
    {
     "cell_type": "code",
     "collapsed": false,
     "input": [
      "from astropy.io import fits"
     ],
     "language": "python",
     "metadata": {},
     "outputs": [],
     "prompt_number": 8
    },
    {
     "cell_type": "code",
     "collapsed": false,
     "input": [
      "import pandas as pd"
     ],
     "language": "python",
     "metadata": {},
     "outputs": [],
     "prompt_number": 19
    },
    {
     "cell_type": "code",
     "collapsed": false,
     "input": [
      "import sncosmo"
     ],
     "language": "python",
     "metadata": {},
     "outputs": [],
     "prompt_number": 2
    },
    {
     "cell_type": "code",
     "collapsed": false,
     "input": [
      "lcmerge = '/Users/rbiswas/data/SNDATA/lcmerge/'"
     ],
     "language": "python",
     "metadata": {},
     "outputs": [],
     "prompt_number": 3
    },
    {
     "cell_type": "code",
     "collapsed": false,
     "input": [
      "headfile = os.path.join(lcmerge, 'SDSS_allcandidates+BOSS_HEAD.FITS')\n",
      "photfile = os.path.join(lcmerge, 'SDSS_allcandidates+BOSS_PHOT.FITS')"
     ],
     "language": "python",
     "metadata": {},
     "outputs": [],
     "prompt_number": 5
    },
    {
     "cell_type": "code",
     "collapsed": false,
     "input": [
      "sdss = sncosmo.read_snana_fits(headfile, photfile)"
     ],
     "language": "python",
     "metadata": {},
     "outputs": [],
     "prompt_number": 6
    },
    {
     "cell_type": "code",
     "collapsed": false,
     "input": [
      "from astropy.table import Table"
     ],
     "language": "python",
     "metadata": {},
     "outputs": [],
     "prompt_number": 7
    },
    {
     "cell_type": "code",
     "collapsed": false,
     "input": [
      "tmp = np.asarray(sdss)"
     ],
     "language": "python",
     "metadata": {},
     "outputs": [],
     "prompt_number": 19
    },
    {
     "cell_type": "code",
     "collapsed": false,
     "input": [
      "f = fits.open(headfile)"
     ],
     "language": "python",
     "metadata": {},
     "outputs": [],
     "prompt_number": 9
    },
    {
     "cell_type": "code",
     "collapsed": false,
     "input": [
      "np.unique(f[1].data['SNTYPE'])"
     ],
     "language": "python",
     "metadata": {},
     "outputs": [
      {
       "metadata": {},
       "output_type": "pyout",
       "prompt_number": 10,
       "text": [
        "array([  0,   5,  91,  92,  93,  94,  95,  96, 101, 103, 104, 106, 110,\n",
        "       111, 112, 113, 114, 115, 118, 119, 120], dtype=int32)"
       ]
      }
     ],
     "prompt_number": 10
    },
    {
     "cell_type": "code",
     "collapsed": false,
     "input": [
      "mask = f[1].data['SNTYPE']==95"
     ],
     "language": "python",
     "metadata": {},
     "outputs": [],
     "prompt_number": 11
    },
    {
     "cell_type": "code",
     "collapsed": false,
     "input": [
      "snibc = f[1].data[mask].SNID"
     ],
     "language": "python",
     "metadata": {},
     "outputs": [],
     "prompt_number": 12
    },
    {
     "cell_type": "code",
     "collapsed": false,
     "input": [
      "snibc"
     ],
     "language": "python",
     "metadata": {},
     "outputs": [
      {
       "metadata": {},
       "output_type": "pyout",
       "prompt_number": 13,
       "text": [
        "chararray(['1546', '3065', '4651', '4669', '5339', '5543', '6813', '6861',\n",
        "       '7350', '9317', '9424', '11192', '13482', '14169', '14177', '14532',\n",
        "       '15363', '15486', '15753', '15943', '15994', '16085', '16119',\n",
        "       '16125', '16282', '17692', '17730', '18468', '19072', '19209',\n",
        "       '19501', '19517', '19525', '19689', '19784', '19787', '20552',\n",
        "       '20921', '21185'], \n",
        "      dtype='|S12')"
       ]
      }
     ],
     "prompt_number": 13
    },
    {
     "cell_type": "code",
     "collapsed": false,
     "input": [
      "snibclist  = []\n",
      "for sn in sdss:\n",
      "    snid = sn.meta['SNID']\n",
      "    if snid in snibc:\n",
      "        snibclist.append(sn)"
     ],
     "language": "python",
     "metadata": {},
     "outputs": [],
     "prompt_number": 14
    },
    {
     "cell_type": "code",
     "collapsed": false,
     "input": [
      "len(snibclist)"
     ],
     "language": "python",
     "metadata": {},
     "outputs": [
      {
       "metadata": {},
       "output_type": "pyout",
       "prompt_number": 15,
       "text": [
        "39"
       ]
      }
     ],
     "prompt_number": 15
    },
    {
     "cell_type": "code",
     "collapsed": false,
     "input": [
      "type(snibclist[0])"
     ],
     "language": "python",
     "metadata": {},
     "outputs": [
      {
       "metadata": {},
       "output_type": "pyout",
       "prompt_number": 18,
       "text": [
        "astropy.table.table.Table"
       ]
      }
     ],
     "prompt_number": 18
    },
    {
     "cell_type": "code",
     "collapsed": false,
     "input": [
      "sn = pd.DataFrame(np.asarray(snibclist[0]))"
     ],
     "language": "python",
     "metadata": {},
     "outputs": [],
     "prompt_number": 20
    },
    {
     "cell_type": "code",
     "collapsed": false,
     "input": [
      "grouped = sn.groupby('MJD')"
     ],
     "language": "python",
     "metadata": {},
     "outputs": [],
     "prompt_number": 54
    },
    {
     "cell_type": "code",
     "collapsed": false,
     "input": [
      "snids = grouped.groups.keys()"
     ],
     "language": "python",
     "metadata": {},
     "outputs": [],
     "prompt_number": 55
    },
    {
     "cell_type": "code",
     "collapsed": false,
     "input": [
      "def snanadatafile(snanafileroot, filetype='head', location='./'):\n",
      "    import os\n",
      "    suffix = '_HEAD.FITS'\n",
      "    if filetype == 'phot':\n",
      "        suffix = '_PHOT.FITS'\n",
      "    fname = snanafileroot + suffix\n",
      "    return os.path.join(location, fname)\n",
      "    "
     ],
     "language": "python",
     "metadata": {},
     "outputs": [],
     "prompt_number": 86
    },
    {
     "cell_type": "code",
     "collapsed": false,
     "input": [
      "class SN(object):\n",
      "    def __init__ (self, snanafileroot, sntype=95, location=None):\n",
      "        from astropy.io import fits\n",
      "        \n",
      "        if location is None:\n",
      "            location = './'\n",
      "        self.headfile = snanadatafile(snanafileroot, location=location)\n",
      "        self.photfile = snanadatafile(snanafileroot, filetype='phot', location=location)\n",
      "        \n",
      "        summarydata = fits.open(self.headfile)\n",
      "        mask = summarydata[1].data['SNTYPE'] == sntype\n",
      "        "
     ],
     "language": "python",
     "metadata": {},
     "outputs": [],
     "prompt_number": 88
    },
    {
     "cell_type": "code",
     "collapsed": false,
     "input": [
      "def colors(snlc):\n",
      "    \"\"\"\n",
      "     Parameters\n",
      "        ----------\n",
      "        snlc: `~SNCosmo` light curve in the form `~astropy.Table`\n",
      "        \n",
      "    \"\"\"\n",
      "    import numpy as np\n",
      "    import pandas as pd\n",
      "        \n",
      "    # Convert to numpy rec array\n",
      "    tmp = np.asarray(snlc)\n",
      "    # Convert to pandas dataframe\n",
      "    df = pd.DataFrame(tmp)\n",
      "    groupedbyepochs = df.groupby('MJD')\n",
      "    mjdvals = groupedbyepochs.groups.keys()\n",
      "    \n",
      "    for obs in groupedbyepochs.groups[mjdvals[0]]:\n",
      "        print df.loc[obs]"
     ],
     "language": "python",
     "metadata": {},
     "outputs": [],
     "prompt_number": 94
    },
    {
     "cell_type": "code",
     "collapsed": false,
     "input": [
      "colors(snibclist[0])"
     ],
     "language": "python",
     "metadata": {},
     "outputs": [
      {
       "output_type": "stream",
       "stream": "stdout",
       "text": [
        "MJD                       53622.48\n",
        "FLT                              g\n",
        "FIELD                 82S         \n",
        "TELESCOPE     SDSS                \n",
        "PHOTFLAG                         0\n",
        "FLUXCAL                     401.59\n",
        "FLUXCALERR                  17.407\n",
        "MAG                          20.99\n",
        "MAGERR                       0.047\n",
        "PSF_SIG1                     0.939\n",
        "PSF_SIG2                     2.092\n",
        "PSF_RATIO                    0.109\n",
        "SKY_SIG                       6.54\n",
        "RDNOISE                     13.114\n",
        "ZEROPT                       28.64\n",
        "ZEROPT_ERR                   0.002\n",
        "GAIN                          3.32\n",
        "Name: 0, dtype: object\n",
        "MJD                       53622.48\n",
        "FLT                              r\n",
        "FIELD                 82S         \n",
        "TELESCOPE     SDSS                \n",
        "PHOTFLAG                         0\n",
        "FLUXCAL                    1104.46\n",
        "FLUXCALERR                  24.422\n",
        "MAG                         19.892\n",
        "MAGERR                       0.024\n",
        "PSF_SIG1                     0.901\n",
        "PSF_SIG2                     2.302\n",
        "PSF_RATIO                    0.063\n",
        "SKY_SIG                       5.08\n",
        "RDNOISE                      6.359\n",
        "ZEROPT                      28.232\n",
        "ZEROPT_ERR                   0.002\n",
        "GAIN                          4.71\n",
        "Name: 1, dtype: object\n",
        "MJD                       53622.48\n",
        "FLT                              i\n",
        "FIELD                 82S         \n",
        "TELESCOPE     SDSS                \n",
        "PHOTFLAG                         0\n",
        "FLUXCAL                    1368.75\n",
        "FLUXCALERR                  35.315\n",
        "MAG                         19.659\n",
        "MAGERR                       0.028\n",
        "PSF_SIG1                     0.883\n",
        "PSF_SIG2                      2.38\n",
        "PSF_RATIO                    0.054\n",
        "SKY_SIG                       6.14\n",
        "RDNOISE                     14.462\n",
        "ZEROPT                      27.893\n",
        "ZEROPT_ERR                   0.003\n",
        "GAIN                         5.165\n",
        "Name: 2, dtype: object\n",
        "MJD                       53622.48\n",
        "FLT                              z\n",
        "FIELD                 82S         \n",
        "TELESCOPE     SDSS                \n",
        "PHOTFLAG                         0\n",
        "FLUXCAL                    1830.17\n",
        "FLUXCALERR                  99.827\n",
        "MAG                         19.342\n",
        "MAGERR                       0.059\n",
        "PSF_SIG1                      0.97\n",
        "PSF_SIG2                     2.597\n",
        "PSF_RATIO                    0.044\n",
        "SKY_SIG                       4.29\n",
        "RDNOISE                      4.271\n",
        "ZEROPT                      26.241\n",
        "ZEROPT_ERR                   0.003\n",
        "GAIN                         4.745\n",
        "Name: 3, dtype: object\n",
        "MJD                       53622.48\n",
        "FLT                              u\n",
        "FIELD                 82S         \n",
        "TELESCOPE     SDSS                \n",
        "PHOTFLAG                        32\n",
        "FLUXCAL                      54.81\n",
        "FLUXCALERR                  44.015\n",
        "MAG                         23.088\n",
        "MAGERR                       0.722\n",
        "PSF_SIG1                     1.071\n",
        "PSF_SIG2                     2.298\n",
        "PSF_RATIO                    0.129\n",
        "SKY_SIG                       4.34\n",
        "RDNOISE                      5.022\n",
        "ZEROPT                      27.568\n",
        "ZEROPT_ERR                   0.009\n",
        "GAIN                          1.62\n",
        "Name: 4, dtype: object\n"
       ]
      }
     ],
     "prompt_number": 95
    },
    {
     "cell_type": "code",
     "collapsed": false,
     "input": [
      "class SNColors(object):\n",
      "    \n",
      "    def __init__(self, snlc):\n",
      "        \"\"\"\n",
      "        Parameters\n",
      "        ----------\n",
      "        snlc: `~SNCosmo` light curve in the form `~astropy.Table`\n",
      "        \n",
      "        \"\"\"\n",
      "        import numpy as np\n",
      "        import pandas as pd\n",
      "        \n",
      "        # Convert to numpy rec array\n",
      "        tmp = np.asarray(snlc)\n",
      "        # Convert to pandas dataframe\n",
      "        df = pd.DataFrame(tmp)\n",
      "        groupedbyepochs = df.groupby('MJD')\n",
      "        mjdvals = groupedbyepochs.groups.keys()\n",
      "        \n",
      "        mjdrecs = df.loc[groupedbyepochs.groups[mjdvals[0]][0]]\n",
      "        print mjdrecs"
     ],
     "language": "python",
     "metadata": {},
     "outputs": [],
     "prompt_number": 90
    },
    {
     "cell_type": "code",
     "collapsed": false,
     "input": [
      "help(sn.loc)"
     ],
     "language": "python",
     "metadata": {},
     "outputs": [
      {
       "output_type": "stream",
       "stream": "stdout",
       "text": [
        "Help on _LocIndexer in module pandas.core.indexing object:\n",
        "\n",
        "class _LocIndexer(_LocationIndexer)\n",
        " |  Purely label-location based indexer for selection by label.\n",
        " |  \n",
        " |  ``.loc[]`` is primarily label based, but may also be used with a\n",
        " |  boolean array.\n",
        " |  \n",
        " |  Allowed inputs are:\n",
        " |  \n",
        " |  - A single label, e.g. ``5`` or ``'a'``, (note that ``5`` is\n",
        " |    interpreted as a *label* of the index, and **never** as an\n",
        " |    integer position along the index).\n",
        " |  - A list or array of labels, e.g. ``['a', 'b', 'c']``.\n",
        " |  - A slice object with labels, e.g. ``'a':'f'`` (note that contrary\n",
        " |    to usual python slices, **both** the start and the stop are included!).\n",
        " |  - A boolean array.\n",
        " |  \n",
        " |  ``.loc`` will raise a ``KeyError`` when the items are not found.\n",
        " |  \n",
        " |  See more at :ref:`Selection by Label <indexing.label>`\n",
        " |  \n",
        " |  Method resolution order:\n",
        " |      _LocIndexer\n",
        " |      _LocationIndexer\n",
        " |      _NDFrameIndexer\n",
        " |      __builtin__.object\n",
        " |  \n",
        " |  Methods inherited from _LocationIndexer:\n",
        " |  \n",
        " |  __getitem__(self, key)\n",
        " |  \n",
        " |  ----------------------------------------------------------------------\n",
        " |  Methods inherited from _NDFrameIndexer:\n",
        " |  \n",
        " |  __call__(self, *args, **kwargs)\n",
        " |  \n",
        " |  __init__(self, obj, name)\n",
        " |  \n",
        " |  __iter__(self)\n",
        " |  \n",
        " |  __setitem__(self, key, value)\n",
        " |  \n",
        " |  ----------------------------------------------------------------------\n",
        " |  Data descriptors inherited from _NDFrameIndexer:\n",
        " |  \n",
        " |  __dict__\n",
        " |      dictionary for instance variables (if defined)\n",
        " |  \n",
        " |  __weakref__\n",
        " |      list of weak references to the object (if defined)\n",
        "\n"
       ]
      }
     ],
     "prompt_number": 60
    },
    {
     "cell_type": "code",
     "collapsed": false,
     "input": [
      "help(epochs.groups.get)"
     ],
     "language": "python",
     "metadata": {},
     "outputs": [
      {
       "output_type": "stream",
       "stream": "stdout",
       "text": [
        "Help on built-in function get:\n",
        "\n",
        "get(...)\n",
        "    D.get(k[,d]) -> D[k] if k in D, else d.  d defaults to None.\n",
        "\n"
       ]
      }
     ],
     "prompt_number": 51
    },
    {
     "cell_type": "code",
     "collapsed": false,
     "input": [],
     "language": "python",
     "metadata": {},
     "outputs": []
    }
   ],
   "metadata": {}
  }
 ]
}