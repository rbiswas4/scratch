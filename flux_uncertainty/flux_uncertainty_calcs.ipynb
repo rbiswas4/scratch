{
 "metadata": {
  "name": "",
  "signature": "sha256:e967ba06394a8bfaff48a9d394f89a4201f5c579acc4739420fe2023e6c23217"
 },
 "nbformat": 3,
 "nbformat_minor": 0,
 "worksheets": [
  {
   "cells": [
    {
     "cell_type": "code",
     "collapsed": false,
     "input": [
      "import sncosmo"
     ],
     "language": "python",
     "metadata": {},
     "outputs": [],
     "prompt_number": 1
    },
    {
     "cell_type": "code",
     "collapsed": false,
     "input": [
      "print sncosmo.__version__"
     ],
     "language": "python",
     "metadata": {},
     "outputs": [
      {
       "output_type": "stream",
       "stream": "stdout",
       "text": [
        "0.5.dev393\n"
       ]
      }
     ],
     "prompt_number": 3
    },
    {
     "cell_type": "markdown",
     "metadata": {},
     "source": [
      "# SNANA Manual\n",
      "The strategy seems to be to find the number of photoelectrons from the signal (SN), the background\n",
      " (which includes skynoise + CCD readout noise + dark current), the zero point uncertainty, the flux\n",
      " cal uncertainty, the host flux and a multiplicative scale dependent on SNR"
     ]
    },
    {
     "cell_type": "markdown",
     "metadata": {},
     "source": [
      "photons from background + host + signal makes obvious sense\n",
      "Don't completely understand how the ZP uncertainty + flux cal uncertainty plays into this\n",
      "Finally, I don't understand how noise depends on SNR ? iteratively? \n",
      "While the host photons are taken into account, it is not clear that this accounts for differencing noise, perhaps that is being accounted for by SNR?"
     ]
    }
   ],
   "metadata": {}
  }
 ]
}