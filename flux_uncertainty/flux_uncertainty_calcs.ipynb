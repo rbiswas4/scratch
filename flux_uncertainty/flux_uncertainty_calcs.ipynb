{
 "metadata": {
  "name": "",
  "signature": "sha256:d3b7703b6f3df3ba92a9c6aa20dc3eb2c955f38f3217dcee6df529afcc968b99"
 },
 "nbformat": 3,
 "nbformat_minor": 0,
 "worksheets": [
  {
   "cells": [
    {
     "cell_type": "code",
     "collapsed": false,
     "input": [
      "import sncosmo"
     ],
     "language": "python",
     "metadata": {},
     "outputs": [],
     "prompt_number": 1
    },
    {
     "cell_type": "code",
     "collapsed": false,
     "input": [
      "print sncosmo.__version__"
     ],
     "language": "python",
     "metadata": {},
     "outputs": [
      {
       "output_type": "stream",
       "stream": "stdout",
       "text": [
        "0.5.dev393\n"
       ]
      }
     ],
     "prompt_number": 3
    },
    {
     "cell_type": "markdown",
     "metadata": {},
     "source": [
      "From SNANA Manual :\n",
      "\n",
      "The strategy seems to be to find the number of photoelectrons from the signal (SN), the background\n",
      " (which includes skynoise + CCD readout noise + dark current), the zero point uncertainty, the flux\n",
      " cal uncertainty, the host flux and a multiplicative scale dependent on SNR"
     ]
    },
    {
     "cell_type": "markdown",
     "metadata": {},
     "source": [
      "photons from background + host + signal makes obvious sense\n",
      "Don't completely understand how the ZP uncertainty + flux cal uncertainty plays into this\n",
      "Finally, I don't understand how noise depends on SNR ? iteratively? \n",
      "While the host photons are taken into account, it is not clear that this accounts for differencing noise, perhaps that is being accounted for by SNR?"
     ]
    },
    {
     "cell_type": "markdown",
     "metadata": {},
     "source": [
      "Eqn 1"
     ]
    },
    {
     "cell_type": "markdown",
     "metadata": {},
     "source": [
      "$$\\sigma^2 = (Flux + A.bg + (Flux.\\sigma_{zpt})^2 + (sigma_0* 10^(0.4*zpt_{pe})^2 + \\sigma^2_{host}$$"
     ]
    },
    {
     "cell_type": "markdown",
     "metadata": {},
     "source": [
      "LSST bandpasses: Eqn 42 of SNR document?\n",
      "\n",
      "def calcM5(self, skysed, hardware, expTime=EXPTIME, nexp=NEXP, readnoise=RDNOISE,\n",
      "               darkcurrent=DARKCURRENT, othernoise=OTHERNOISE,\n",
      "               seeing=SEEING['r'], platescale=PLATESCALE,\n",
      "               gain=GAIN, effarea=EFFAREA):\n",
      "               \n",
      "\n",
      "noise_instr = numpy.sqrt(nexp*readnoise**2 + darkcurrent*expTime*nexp + nexp*othernoise**2)\n",
      "# I don't understand the equation below:\n",
      "neff = 2.436 * (seeing/platescale)**2 \n",
      "\n",
      "# So they have a SED for the sky at all times!\n",
      "skycounts = skysed.calcADU(hardware, expTime=expTime*nexp, effarea=effarea, gain=gain)\n",
      "\n",
      "# But I don't understand platescale still\n",
      "skycounts = skycounts * platescale * platescale\n",
      "        # Calculate the sky noise.\n",
      "# OK \n",
      "skynoise  = numpy.sqrt(skycounts/gain)\n",
      "# But don't understand this one\n",
      "v_n = neff* (skynoise**2 + noise_instr**2)\n",
      "\n",
      "# snr = 5 (from 5 sigma ?)\n",
      "# Do not understand the first two terms at all\n",
      "counts_5sigma = (snr**2)/2.0/gain + numpy.sqrt((snr**4)/4.0/gain + (snr**2)*v_n)\n",
      "        # Create a flat fnu source that has the required counts (in electrons) in this bandpass.\n",
      "        flatsource = Sed.Sed()\n",
      "        flatsource.setFlatSED()\n",
      "\n",
      "counts_flat = flatsource.calcADU(self, expTime=expTime*nexp, effarea=effarea, gain=gain)\n",
      "\n",
      "flatsource.multiplyFluxNorm(counts_5sigma/counts_flat)\n",
      "        # Calculate the AB magnitude of this source.\n",
      "mag_5sigma = flatsource.calcMag(self)"
     ]
    }
   ],
   "metadata": {}
  }
 ]
}